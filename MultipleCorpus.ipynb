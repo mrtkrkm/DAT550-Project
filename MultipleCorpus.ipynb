{
 "cells": [
  {
   "cell_type": "code",
   "execution_count": 67,
   "metadata": {},
   "outputs": [],
   "source": [
    "from __future__ import absolute_import\n",
    "from __future__ import division\n",
    "from __future__ import print_function\n",
    "from __future__ import unicode_literals\n",
    "import os\n",
    "import json \n",
    "import unicodedata\n",
    "import re\n",
    "import random\n",
    "\n",
    "\n",
    "import torch\n",
    "from torch.jit import script, trace\n",
    "import torch.nn as nn\n",
    "from torch import optim\n",
    "import torch.nn.functional as F\n",
    "import csv\n",
    "import random\n",
    "import re\n",
    "import os\n",
    "import unicodedata\n",
    "import codecs\n",
    "from io import open\n",
    "import itertools\n",
    "import math\n",
    "import joblib\n",
    "USE_CUDA = torch.cuda.is_available()\n",
    "device=torch.device('cpu')\n",
    "device = torch.device(\"cuda\" if USE_CUDA else \"cpu\")\n",
    "import yaml\n",
    "from ipywidgets import interact, interactive, fixed, interact_manual\n",
    "import ipywidgets as widgets\n",
    "import pandas as pd\n",
    "import numpy as np\n",
    "from TaskModelling import TaskModelling\n",
    "from QAModels.Question_Answering import QuestionAnswering\n",
    "from GetTasks import GetTasks\n",
    "from tqdm import notebook\n",
    "import joblib\n",
    "import datetime\n",
    "import os\n",
    "from colorama import Fore, Back, Style\n",
    "from termcolor import colored\n",
    "from IPython.display import Markdown\n",
    "import string\n",
    "import scipy.spatial.distance as distance"
   ]
  },
  {
   "cell_type": "markdown",
   "metadata": {},
   "source": [
    "## Corona Side"
   ]
  },
  {
   "cell_type": "code",
   "execution_count": 7,
   "metadata": {},
   "outputs": [],
   "source": [
    "Task_Path='Tasks'\n",
    "Embedding_Path='C:/Users/mkork/Desktop/BertTry/glove.840B.300d.txt'"
   ]
  },
  {
   "cell_type": "code",
   "execution_count": 8,
   "metadata": {},
   "outputs": [
    {
     "data": {
      "application/vnd.jupyter.widget-view+json": {
       "model_id": "d0bf326d4ec144c4925594a7af04de68",
       "version_major": 2,
       "version_minor": 0
      },
      "text/plain": [
       "HBox(children=(IntProgress(value=1, bar_style='info', max=1), HTML(value='')))"
      ]
     },
     "metadata": {},
     "output_type": "display_data"
    },
    {
     "name": "stdout",
     "output_type": "stream",
     "text": [
      "\n"
     ]
    }
   ],
   "source": [
    "embeddings=TaskModelling(Embedding_Path,Task_Path)"
   ]
  },
  {
   "cell_type": "code",
   "execution_count": 9,
   "metadata": {},
   "outputs": [],
   "source": [
    "tasks=GetTasks.get_tasks(Task_Path)"
   ]
  },
  {
   "cell_type": "code",
   "execution_count": 10,
   "metadata": {},
   "outputs": [],
   "source": [
    "def read_dict_sum():\n",
    "    def merge_files(path_d, path_s):\n",
    "        all_dicts={}\n",
    "        all_sums={}\n",
    "        for path_d, path_s in zip(path_d, path_s):\n",
    "            dicts=joblib.load(path_d)\n",
    "            sums=joblib.load(path_s)\n",
    "            all_dicts={**all_dicts, **dicts}\n",
    "            all_sums={**all_sums, **sums}\n",
    "        return all_dicts, all_sums\n",
    "    datas='QAResults'\n",
    "    files=os.listdir(os.path.join(datas))\n",
    "    dicts=[]\n",
    "    summaries=[]\n",
    "    for file in files:\n",
    "        if file.endswith('.dic'):\n",
    "            dicts.append(os.path.join(datas,file))\n",
    "        if file.endswith('.sum'):\n",
    "            summaries.append(os.path.join(datas,file))\n",
    "    return merge_files(dicts,summaries)"
   ]
  },
  {
   "cell_type": "code",
   "execution_count": 11,
   "metadata": {},
   "outputs": [],
   "source": [
    "all_dicts, all_sums=read_dict_sum()"
   ]
  },
  {
   "cell_type": "code",
   "execution_count": 12,
   "metadata": {},
   "outputs": [],
   "source": [
    "task_questions=joblib.load('tasks/task_questions')"
   ]
  },
  {
   "cell_type": "code",
   "execution_count": 13,
   "metadata": {},
   "outputs": [],
   "source": [
    "new_embeds=embeddings.fit()"
   ]
  },
  {
   "cell_type": "code",
   "execution_count": 14,
   "metadata": {},
   "outputs": [],
   "source": [
    "def find_task_Summary(scores):\n",
    "    text='The summary of 3500 paper that we know is'+os.linesep\n",
    "    #task=int(scores[0][-1])\n",
    "    text= text+all_sums[scores]\n",
    "    return scores, text "
   ]
  },
  {
   "cell_type": "code",
   "execution_count": 15,
   "metadata": {},
   "outputs": [],
   "source": [
    "def find_task_ques(scores):\n",
    "    text='My First answer is:'\n",
    "    #task=int(scores[0][-1])\n",
    "    rangeS=2\n",
    "    for i in range(rangeS):\n",
    "        text= text+all_dicts[scores].iloc[i,3]\n",
    "        if i<rangeS-1:\n",
    "            text= text+os.linesep+'Another Answer is:'\n",
    "    return scores, text "
   ]
  },
  {
   "cell_type": "code",
   "execution_count": 16,
   "metadata": {},
   "outputs": [],
   "source": [
    "def End_conv():\n",
    "    time=int(str(datetime.datetime.now().time())[:2])\n",
    "    if time>18 or time<6:\n",
    "        response='Have a Good evening'\n",
    "    else:\n",
    "        response='Have a Good Day'\n",
    "    return response\n",
    "  "
   ]
  },
  {
   "cell_type": "code",
   "execution_count": 17,
   "metadata": {},
   "outputs": [],
   "source": [
    "Cov_list=['COVID-19', 'SARS-CoV-2', '2019-nCov', 'SARS Coronavirus 2' ,'2019 Novel Coronavirus','2019nCoV','COVID19','SARSCoV2',\n",
    "         'SARSCoronavirus2','2019NovelCoronavirus']\n"
   ]
  },
  {
   "cell_type": "code",
   "execution_count": 73,
   "metadata": {},
   "outputs": [],
   "source": [
    "Related_word=Cov_list+['Virus','transmission','incubate', 'incubation','weather','summer','virus','Corona','corona','prevent', 'mask','disinfectant']"
   ]
  },
  {
   "cell_type": "code",
   "execution_count": 18,
   "metadata": {},
   "outputs": [],
   "source": [
    "def check_distanceq(best,query):\n",
    "    idx=best[0]\n",
    "    query=query.translate(str.maketrans('', '', string.punctuation))\n",
    "    querys=embeddings.get_text(query)\n",
    "    distances={}\n",
    "    for query in querys:\n",
    "        if query in Cov_list:\n",
    "            query='Coronavirus'\n",
    "        query_embed=embeddings.embedding_index[query]\n",
    "        for i,sques in enumerate(task_questions[idx]):\n",
    "            sques=sques.translate(str.maketrans('', '', string.punctuation))\n",
    "            quests=embeddings.get_text(sques)\n",
    "            for qw in quests:\n",
    "                if qw in Cov_list:\n",
    "                    qw='Coronavirus'\n",
    "                value=embeddings.embedding_index[qw]\n",
    "                sim=1-distance.cosine(query_embed, value)\n",
    "                if sim>0.6:\n",
    "                    distances[i] = distances.get(i, 0) + sim\n",
    "    return distances, idx\n",
    "    #return task_questions[idx][sorted(distances.items(), key=lambda x:x[0],reverse=True)[0][0]]"
   ]
  },
  {
   "cell_type": "code",
   "execution_count": 20,
   "metadata": {},
   "outputs": [],
   "source": [
    "def sort_response(result,user_i):\n",
    "    if len(result)<1:\n",
    "        response=\"Sorry i couldn't understand your question. Can you give more detail?\"\n",
    "        quest=''\n",
    "    else:\n",
    "        best=sorted(result.items(), key=lambda x:x[1], reverse=True)[0]\n",
    "        #response=find_task_ques(best)\n",
    "        #####\n",
    "        distances, idx=check_distanceq(best,user_i)\n",
    "        if len(distances)>0:\n",
    "            items=task_questions[idx][sorted(distances.items(), key=lambda x:x[0],reverse=True)[0][0]]\n",
    "            quest,response=find_task_Summary(items)\n",
    "        else:\n",
    "            response=\"Sorry i couldn't understand your question. Can you give more detail?\"\n",
    "            quest=''\n",
    "    return quest,response"
   ]
  },
  {
   "cell_type": "code",
   "execution_count": null,
   "metadata": {},
   "outputs": [],
   "source": [
    "ans=''\n",
    "def display_option():\n",
    "    def f(x):\n",
    "        global ans\n",
    "        ans=x\n",
    "    display (Markdown('<span style=\"color: blue\">Hello I want to help you about corona virus. \\\n",
    "    Please write what are you wondering for? If you want to quit please write bye</span>'))\n",
    "    interact(f, x=['General','Corona']);\n",
    "    return ans"
   ]
  },
  {
   "cell_type": "code",
   "execution_count": null,
   "metadata": {},
   "outputs": [],
   "source": [
    "def make_conv(ans):\n",
    "    if ans=='Corona':\n",
    "        Stop=False\n",
    "        display (Markdown('<span style=\"color: blue\">Hello I want to help you about corona virus. Please write what are you wondering for? If you want to quit please write bye</span>'))\n",
    "        while (Stop==False):\n",
    "            user_i=input()\n",
    "            if(user_i!='bye'):\n",
    "                ques=embeddings.check_distance(user_i)\n",
    "                quest, response=sort_response(ques,user_i)\n",
    "                responsek=response\n",
    "                display (Markdown(f'<span style=\"color: red\">Do you want to ask this:{quest}?</span>'))\n",
    "            else:\n",
    "                response=End_conv()\n",
    "                Stop=True\n",
    "            if len(response.split('\\n'))>1:\n",
    "                for resp_p in response.split('\\n'):\n",
    "                    display(Markdown(f'<span style=\"color: blue\">{resp_p}</span>'))\n",
    "            else:\n",
    "                display(Markdown(f'<span style=\"color: blue\">{response}</span>'))\n",
    "    return responsek"
   ]
  },
  {
   "cell_type": "code",
   "execution_count": null,
   "metadata": {},
   "outputs": [],
   "source": []
  },
  {
   "cell_type": "code",
   "execution_count": null,
   "metadata": {},
   "outputs": [],
   "source": []
  },
  {
   "cell_type": "markdown",
   "metadata": {},
   "source": [
    "## General Side"
   ]
  },
  {
   "cell_type": "code",
   "execution_count": 21,
   "metadata": {},
   "outputs": [],
   "source": [
    "DDIR='data'\n",
    "corpus_f='friends-corpus'\n",
    "corpuss='ConvAIandFriends'\n",
    "utterancesPath='utterances.jsonl'\n",
    "corpus_chatter='chatterbot'\n",
    "Coca='coqa-train-v1.0.json'\n",
    "convai=['data_volunteers.json','data_intermediate.json','data_tolokers.json']"
   ]
  },
  {
   "cell_type": "code",
   "execution_count": 22,
   "metadata": {},
   "outputs": [],
   "source": [
    "chatter_paths=os.listdir(os.path.join(DDIR, corpus_chatter))"
   ]
  },
  {
   "cell_type": "code",
   "execution_count": 23,
   "metadata": {},
   "outputs": [],
   "source": [
    "path_f=path=os.path.join(DDIR, corpus_f,utterancesPath)\n",
    "\n",
    "paths=[]\n",
    "for conv in convai:\n",
    "    paths.append(os.path.join(DDIR, conv))"
   ]
  },
  {
   "cell_type": "code",
   "execution_count": 24,
   "metadata": {},
   "outputs": [
    {
     "data": {
      "text/plain": [
       "['data\\\\data_volunteers.json',\n",
       " 'data\\\\data_intermediate.json',\n",
       " 'data\\\\data_tolokers.json']"
      ]
     },
     "execution_count": 24,
     "metadata": {},
     "output_type": "execute_result"
    }
   ],
   "source": [
    "paths"
   ]
  },
  {
   "cell_type": "code",
   "execution_count": 25,
   "metadata": {},
   "outputs": [],
   "source": [
    "utterancesc=[]\n",
    "for path in paths:\n",
    "    with open(path, 'r', encoding='utf-8') as p:\n",
    "        for line in p:\n",
    "            utterancesc.append(json.loads(line))"
   ]
  },
  {
   "cell_type": "code",
   "execution_count": 26,
   "metadata": {},
   "outputs": [
    {
     "data": {
      "text/plain": [
       "3127"
      ]
     },
     "execution_count": 26,
     "metadata": {},
     "output_type": "execute_result"
    }
   ],
   "source": [
    "len(utterancesc[2])"
   ]
  },
  {
   "cell_type": "code",
   "execution_count": 27,
   "metadata": {},
   "outputs": [],
   "source": [
    "delimiter='\\t'\n",
    "textlist =[]\n",
    "for utterance in utterancesc:\n",
    "    for utter in utterance:\n",
    "        if len(utter['dialog'])>1:\n",
    "            oldsender=utter['dialog'][0]['sender_class']\n",
    "            for i in range(1,len(utter['dialog'])):\n",
    "                sender=utter['dialog'][i]['sender_class']\n",
    "                if sender!=oldsender:\n",
    "                    text=utter['dialog'][i-1]['text']+delimiter+utter['dialog'][i]['text']\n",
    "                oldsender=utter['dialog'][i]['sender_class']\n",
    "                textlist.append(text)\n",
    "            "
   ]
  },
  {
   "cell_type": "code",
   "execution_count": 28,
   "metadata": {},
   "outputs": [],
   "source": [
    "utterances=[]\n",
    "with open(path_f, 'r', encoding='utf-8') as p:\n",
    "    for line in p:\n",
    "        utterances.append(json.loads(line))"
   ]
  },
  {
   "cell_type": "code",
   "execution_count": 29,
   "metadata": {},
   "outputs": [],
   "source": [
    "idtext={}\n",
    "for ut in utterances:\n",
    "    idtext[ut['id']]=ut['text']"
   ]
  },
  {
   "cell_type": "code",
   "execution_count": 30,
   "metadata": {},
   "outputs": [],
   "source": [
    "text=''\n",
    "delimiter='\\t'\n",
    "#textlist=[]\n",
    "for ut in utterances:\n",
    "    text=''\n",
    "    if ut['reply-to'] != None:\n",
    "        if ut['text']!='' and idtext[ut['reply-to']]!='':\n",
    "            text +=idtext[ut['reply-to']]+delimiter+ut['text']\n",
    "            textlist.append(text)"
   ]
  },
  {
   "cell_type": "code",
   "execution_count": 33,
   "metadata": {},
   "outputs": [],
   "source": [
    "for c_path in chatter_paths:\n",
    "    file=os.path.join(DDIR, corpus_chatter, c_path)\n",
    "    with open(file, 'r', encoding='utf-8') as c:\n",
    "            utt=yaml.safe_load(c)\n",
    "    if c_path=='literature.yml':\n",
    "        utt['conversations'][-2][1]=utt['conversations'][-2][1].replace('Tolkein','Tolkien')\n",
    "    for convers in utt['conversations']:\n",
    "        if type(convers[1])==dict:\n",
    "            key=list(convers[1].keys())[0]\n",
    "            value=list(convers[1].values())[0]\n",
    "            text1=convers[0]+delimiter+key\n",
    "            text2=convers[0]+delimiter+value\n",
    "            textlist.append(text1)\n",
    "            textlist.append(text2)\n",
    "        else:\n",
    "            text=convers[0]+delimiter+convers[1]\n",
    "            textlist.append(text)"
   ]
  },
  {
   "cell_type": "code",
   "execution_count": 32,
   "metadata": {},
   "outputs": [
    {
     "ename": "FileNotFoundError",
     "evalue": "[WinError 3] The system cannot find the path specified: 'data\\\\corona'",
     "output_type": "error",
     "traceback": [
      "\u001b[1;31m---------------------------------------------------------------------------\u001b[0m",
      "\u001b[1;31mFileNotFoundError\u001b[0m                         Traceback (most recent call last)",
      "\u001b[1;32m<ipython-input-32-fa09f4da0a34>\u001b[0m in \u001b[0;36m<module>\u001b[1;34m\u001b[0m\n\u001b[0;32m      1\u001b[0m \u001b[0mdata_c\u001b[0m\u001b[1;33m=\u001b[0m\u001b[1;34m'corona'\u001b[0m\u001b[1;33m\u001b[0m\u001b[1;33m\u001b[0m\u001b[0m\n\u001b[1;32m----> 2\u001b[1;33m \u001b[0mfiles\u001b[0m\u001b[1;33m=\u001b[0m\u001b[0mos\u001b[0m\u001b[1;33m.\u001b[0m\u001b[0mlistdir\u001b[0m\u001b[1;33m(\u001b[0m\u001b[0mos\u001b[0m\u001b[1;33m.\u001b[0m\u001b[0mpath\u001b[0m\u001b[1;33m.\u001b[0m\u001b[0mjoin\u001b[0m\u001b[1;33m(\u001b[0m\u001b[0mDDIR\u001b[0m\u001b[1;33m,\u001b[0m \u001b[0mdata_c\u001b[0m\u001b[1;33m)\u001b[0m\u001b[1;33m)\u001b[0m\u001b[1;33m\u001b[0m\u001b[1;33m\u001b[0m\u001b[0m\n\u001b[0m\u001b[0;32m      3\u001b[0m \u001b[0mdicts\u001b[0m\u001b[1;33m=\u001b[0m\u001b[1;33m[\u001b[0m\u001b[1;33m]\u001b[0m\u001b[1;33m\u001b[0m\u001b[1;33m\u001b[0m\u001b[0m\n\u001b[0;32m      4\u001b[0m \u001b[0msummaries\u001b[0m\u001b[1;33m=\u001b[0m\u001b[1;33m[\u001b[0m\u001b[1;33m]\u001b[0m\u001b[1;33m\u001b[0m\u001b[1;33m\u001b[0m\u001b[0m\n\u001b[0;32m      5\u001b[0m \u001b[1;32mfor\u001b[0m \u001b[0mfile\u001b[0m \u001b[1;32min\u001b[0m \u001b[0mfiles\u001b[0m\u001b[1;33m:\u001b[0m\u001b[1;33m\u001b[0m\u001b[1;33m\u001b[0m\u001b[0m\n",
      "\u001b[1;31mFileNotFoundError\u001b[0m: [WinError 3] The system cannot find the path specified: 'data\\\\corona'"
     ]
    }
   ],
   "source": [
    "# data_c='corona'\n",
    "# files=os.listdir(os.path.join(DDIR, data_c))\n",
    "# dicts=[]\n",
    "# summaries=[]\n",
    "# for file in files:\n",
    "#     if file.endswith('.dic'):\n",
    "#         dicts.append(os.path.join(DDIR, data_c, file))\n",
    "#     if file.endswith('.SUM'):\n",
    "#         summaries.append(os.path.join(DDIR, data_c, file))"
   ]
  },
  {
   "cell_type": "code",
   "execution_count": 34,
   "metadata": {},
   "outputs": [],
   "source": [
    "# def merge_files(paths):\n",
    "#     all_files={}\n",
    "#     for path in paths:\n",
    "#         dicts=joblib.load(path)\n",
    "#         all_files={**all_files, **dicts}\n",
    "#     return all_files"
   ]
  },
  {
   "cell_type": "code",
   "execution_count": 35,
   "metadata": {},
   "outputs": [
    {
     "ename": "NameError",
     "evalue": "name 'dicts' is not defined",
     "output_type": "error",
     "traceback": [
      "\u001b[1;31m---------------------------------------------------------------------------\u001b[0m",
      "\u001b[1;31mNameError\u001b[0m                                 Traceback (most recent call last)",
      "\u001b[1;32m<ipython-input-35-38f9741c337f>\u001b[0m in \u001b[0;36m<module>\u001b[1;34m\u001b[0m\n\u001b[1;32m----> 1\u001b[1;33m \u001b[0mall_dicts\u001b[0m\u001b[1;33m=\u001b[0m\u001b[0mmerge_files\u001b[0m\u001b[1;33m(\u001b[0m\u001b[0mdicts\u001b[0m\u001b[1;33m)\u001b[0m\u001b[1;33m\u001b[0m\u001b[1;33m\u001b[0m\u001b[0m\n\u001b[0m",
      "\u001b[1;31mNameError\u001b[0m: name 'dicts' is not defined"
     ]
    }
   ],
   "source": [
    "# all_dicts=merge_files(dicts)"
   ]
  },
  {
   "cell_type": "code",
   "execution_count": 16,
   "metadata": {},
   "outputs": [],
   "source": [
    "# def create_Pairs(data, textlist,delimiter):\n",
    "#     keys=list(data.keys())\n",
    "#     #textlist=[]\n",
    "#     for i, value in enumerate(data.values()):\n",
    "#         for j in range(5):\n",
    "#             ans=value.loc[j,'answer_sent']\n",
    "#             ans=ans.strip()\n",
    "#             if ans!='':\n",
    "#                 pp=[': medrxiv',': biorxiv']\n",
    "#                 startswith=['.',',',' .',' ,']\n",
    "#                 ind1=[x for x in startswith if ans.startswith(x)]\n",
    "#                 ind=[(ans.find(x), len(x)) for x in pp if ans.find(x)!=-1]\n",
    "#                 if ind:\n",
    "#                     ans=ans[ind[0][0]+ind[0][1]+1:]\n",
    "#                 if ind1:\n",
    "#                     ans=ans[1:]\n",
    "#                 text=keys[i]+delimiter+ans\n",
    "#                 textlist.append(text)\n",
    "#     return textlist"
   ]
  },
  {
   "cell_type": "code",
   "execution_count": 17,
   "metadata": {},
   "outputs": [],
   "source": [
    "#textlist=create_Pairs(all_dicts, textlist, delimiter)"
   ]
  },
  {
   "cell_type": "code",
   "execution_count": 36,
   "metadata": {},
   "outputs": [],
   "source": [
    "PAD=0\n",
    "SOS=1\n",
    "EOS=2\n",
    "class Vocab(object):\n",
    "    def __init__(self, name):\n",
    "        self.name=name\n",
    "        self.word2idx={}\n",
    "        self.wordcount={}\n",
    "        self.idx2word={PAD:'PAD',EOS:'EOS', SOS:'SOS'}\n",
    "        self.numberofWord=3\n",
    "    \n",
    "    def add_Sentence(self,sentence):\n",
    "        for word in sentence.split(' '):\n",
    "            self.check_Word(word)\n",
    "    \n",
    "    def check_Word(self,word):\n",
    "        if word not in self.word2idx:\n",
    "            self.wordcount[word]=1\n",
    "            self.word2idx[word]=self.numberofWord\n",
    "            self.idx2word[self.numberofWord]=word\n",
    "            self.numberofWord +=1\n",
    "        else:\n",
    "            self.wordcount[word] +=1"
   ]
  },
  {
   "cell_type": "code",
   "execution_count": 37,
   "metadata": {},
   "outputs": [],
   "source": [
    "def sentenceOperation(s):\n",
    "    s = unicodeToAscii(s.lower().strip())\n",
    "    s = re.sub(r\"([.!?])\", r\" \\1\", s)\n",
    "    s = re.sub(r\"[^a-zA-Z.!?]+\", r\" \", s)\n",
    "    s = re.sub(r\"\\s+\", r\" \", s).strip()\n",
    "    return s\n",
    "\n",
    "def sentenceOperationC(s):\n",
    "    s = unicodeToAscii(s.lower().strip())\n",
    "    s = re.sub(r\"([.!?])\", r\" \\1\", s)\n",
    "    #s = re.sub(r\"[^a-zA-Z.!?]+\", r\" \", s)\n",
    "    s = re.sub(r\"\\s+\", r\" \", s).strip()\n",
    "    return s"
   ]
  },
  {
   "cell_type": "code",
   "execution_count": 39,
   "metadata": {},
   "outputs": [],
   "source": [
    "MAX_LENGTH = 10\n",
    "def unicodeToAscii(s):\n",
    "    return ''.join(\n",
    "        c for c in unicodedata.normalize('NFD', s)\n",
    "        if unicodedata.category(c) != 'Mn'\n",
    "    )\n",
    "\n",
    "def read_voc(data, name):\n",
    "    pairs=[[sentenceOperation(sentence) for sentence in sentences.split('\\t')]for sentences in data]\n",
    "    voc=Vocab(name)\n",
    "    return pairs,voc\n",
    "\n",
    "def read_vocCor(data, name):\n",
    "    pairs=[[sentenceOperationC(sentence) for sentence in sentences.split('\\t')]for sentences in data]\n",
    "    voc=Vocab(name)\n",
    "    return pairs,voc"
   ]
  },
  {
   "cell_type": "code",
   "execution_count": 40,
   "metadata": {},
   "outputs": [],
   "source": [
    "# Returns True iff both sentences in a pair 'p' are under the MAX_LENGTH threshold\n",
    "def filterPair(p):\n",
    "    # Input sequences need to preserve the last word for EOS token\n",
    "    return len(p[0].split(' ')) < MAX_LENGTH and len(p[1].split(' ')) < MAX_LENGTH\n",
    "\n",
    "# Filter pairs using filterPair condition\n",
    "def filterPairs(pairs):\n",
    "    return [pair for pair in pairs if filterPair(pair)]"
   ]
  },
  {
   "cell_type": "code",
   "execution_count": 41,
   "metadata": {},
   "outputs": [],
   "source": [
    "def load_data(name):\n",
    "    print('Starting')\n",
    "    pairs,vocab=read_voc(textlist, name)\n",
    "    print(f'Number of pairs is {len(pairs)}')\n",
    "    pairs=filterPairs(pairs)\n",
    "    print(f'After filters Number of pairs is {len(pairs)}')\n",
    "    for pair in pairs:\n",
    "        vocab.add_Sentence(pair[0])\n",
    "        vocab.add_Sentence(pair[1])\n",
    "    print(\"Counted words:\", vocab.numberofWord)\n",
    "    return vocab, pairs"
   ]
  },
  {
   "cell_type": "code",
   "execution_count": 42,
   "metadata": {},
   "outputs": [
    {
     "name": "stdout",
     "output_type": "stream",
     "text": [
      "Starting\n",
      "Number of pairs is 110191\n",
      "After filters Number of pairs is 42690\n",
      "Counted words: 8451\n"
     ]
    }
   ],
   "source": [
    "voc, pairs = load_data(corpuss)"
   ]
  },
  {
   "cell_type": "code",
   "execution_count": 43,
   "metadata": {},
   "outputs": [
    {
     "name": "stdout",
     "output_type": "stream",
     "text": [
      "input_variable: tensor([[  13,   84,   21,   68,   13],\n",
      "        [  29,   85,  122,   49,   40],\n",
      "        [  81,   40,   49,    8,  758],\n",
      "        [  31,   52,    8,   40,    2],\n",
      "        [1072,   53,   69,  104,    0],\n",
      "        [  12,   37,    9,  420,    0],\n",
      "        [   8,   86,    2,    2,    0],\n",
      "        [   9,   18,    0,    0,    0],\n",
      "        [   2,    2,    0,    0,    0]])\n",
      "lengths: tensor([9, 9, 7, 7, 4])\n",
      "target_variable: tensor([[ 49, 171,  13,  93,  13],\n",
      "        [  8,   2,  40,   7,  29],\n",
      "        [ 57,   0, 104,   8,  52],\n",
      "        [826,   0,  69,   9, 761],\n",
      "        [  9,   0, 121,   2,  37],\n",
      "        [  2,   0, 122,   0, 346],\n",
      "        [  0,   0,  18,   0,  18],\n",
      "        [  0,   0,   2,   0,   2]])\n",
      "mask: tensor([[1, 1, 1, 1, 1],\n",
      "        [1, 1, 1, 1, 1],\n",
      "        [1, 0, 1, 1, 1],\n",
      "        [1, 0, 1, 1, 1],\n",
      "        [1, 0, 1, 1, 1],\n",
      "        [1, 0, 1, 0, 1],\n",
      "        [0, 0, 1, 0, 1],\n",
      "        [0, 0, 1, 0, 1]], dtype=torch.uint8)\n",
      "max_target_len: 8\n"
     ]
    }
   ],
   "source": [
    "def indexesFromSentence(voc, sentence):\n",
    "    return [voc.word2idx[word] for word in sentence.split(' ')] + [EOS]\n",
    "\n",
    "\n",
    "def zeroPadding(l, fillvalue=PAD):\n",
    "    return list(itertools.zip_longest(*l, fillvalue=fillvalue))\n",
    "\n",
    "def binaryMatrix(l, value=PAD):\n",
    "    m = []\n",
    "    for i, seq in enumerate(l):\n",
    "        m.append([])\n",
    "        for token in seq:\n",
    "            if token == PAD:\n",
    "                m[i].append(0)\n",
    "            else:\n",
    "                m[i].append(1)\n",
    "    return m\n",
    "\n",
    "# Returns padded input sequence tensor and lengths\n",
    "def inputVar(l, voc):\n",
    "    indexes_batch = [indexesFromSentence(voc, sentence) for sentence in l]\n",
    "    lengths = torch.tensor([len(indexes) for indexes in indexes_batch])\n",
    "    padList = zeroPadding(indexes_batch)\n",
    "    padVar = torch.LongTensor(padList)\n",
    "    return padVar, lengths\n",
    "\n",
    "# Returns padded target sequence tensor, padding mask, and max target length\n",
    "def outputVar(l, voc):\n",
    "    indexes_batch = [indexesFromSentence(voc, sentence) for sentence in l]\n",
    "    max_target_len = max([len(indexes) for indexes in indexes_batch])\n",
    "    padList = zeroPadding(indexes_batch)\n",
    "    mask = binaryMatrix(padList)\n",
    "    mask = torch.ByteTensor(mask)\n",
    "    padVar = torch.LongTensor(padList)\n",
    "    return padVar, mask, max_target_len\n",
    "\n",
    "# Returns all items for a given batch of pairs\n",
    "def batch2TrainData(voc, pair_batch):\n",
    "    pair_batch.sort(key=lambda x: len(x[0].split(\" \")), reverse=True)\n",
    "    input_batch, output_batch = [], []\n",
    "    for pair in pair_batch:\n",
    "        input_batch.append(pair[0])\n",
    "        output_batch.append(pair[1])\n",
    "    inp, lengths = inputVar(input_batch, voc)\n",
    "    output, mask, max_target_len = outputVar(output_batch, voc)\n",
    "    return inp, lengths, output, mask, max_target_len\n",
    "\n",
    "\n",
    "# Example for validation\n",
    "small_batch_size = 5\n",
    "batches = batch2TrainData(voc, [random.choice(pairs) for _ in range(small_batch_size)])\n",
    "input_variable, lengths, target_variable, mask, max_target_len = batches\n",
    "\n",
    "print(\"input_variable:\", input_variable)\n",
    "print(\"lengths:\", lengths)\n",
    "print(\"target_variable:\", target_variable)\n",
    "print(\"mask:\", mask)\n",
    "print(\"max_target_len:\", max_target_len)"
   ]
  },
  {
   "cell_type": "code",
   "execution_count": 44,
   "metadata": {},
   "outputs": [],
   "source": [
    "class EncoderRNN(nn.Module):\n",
    "    def __init__(self, hidden_size, embedding, n_layers=1, dropout=0):\n",
    "        super(EncoderRNN, self).__init__()\n",
    "        self.n_layers = n_layers\n",
    "        self.hidden_size = hidden_size\n",
    "        self.embedding = embedding\n",
    "\n",
    "        # Initialize GRU; the input_size and hidden_size params are both set to 'hidden_size'\n",
    "        #   because our input size is a word embedding with number of features == hidden_size\n",
    "        self.gru = nn.GRU(hidden_size, hidden_size, n_layers,\n",
    "                          dropout=(0 if n_layers == 1 else dropout), bidirectional=True)\n",
    "\n",
    "    def forward(self, input_seq, input_lengths, hidden=None):\n",
    "        # Convert word indexes to embeddings\n",
    "        embedded = self.embedding(input_seq)\n",
    "        # Pack padded batch of sequences for RNN module\n",
    "        packed = nn.utils.rnn.pack_padded_sequence(embedded, input_lengths)\n",
    "        # Forward pass through GRU\n",
    "        outputs, hidden = self.gru(packed, hidden)\n",
    "        # Unpack padding\n",
    "        outputs, _ = nn.utils.rnn.pad_packed_sequence(outputs)\n",
    "        # Sum bidirectional GRU outputs\n",
    "        outputs = outputs[:, :, :self.hidden_size] + outputs[:, : ,self.hidden_size:]\n",
    "        # Return output and final hidden state\n",
    "        return outputs, hidden"
   ]
  },
  {
   "cell_type": "code",
   "execution_count": 45,
   "metadata": {},
   "outputs": [],
   "source": [
    "# Luong attention layer\n",
    "class Attn(nn.Module):\n",
    "    def __init__(self, method, hidden_size):\n",
    "        super(Attn, self).__init__()\n",
    "        self.method = method\n",
    "        if self.method not in ['dot', 'general', 'concat']:\n",
    "            raise ValueError(self.method, \"is not an appropriate attention method.\")\n",
    "        self.hidden_size = hidden_size\n",
    "        if self.method == 'general':\n",
    "            self.attn = nn.Linear(self.hidden_size, hidden_size)\n",
    "        elif self.method == 'concat':\n",
    "            self.attn = nn.Linear(self.hidden_size * 2, hidden_size)\n",
    "            self.v = nn.Parameter(torch.FloatTensor(hidden_size))\n",
    "\n",
    "    def dot_score(self, hidden, encoder_output):\n",
    "        return torch.sum(hidden * encoder_output, dim=2)\n",
    "\n",
    "    def general_score(self, hidden, encoder_output):\n",
    "        energy = self.attn(encoder_output)\n",
    "        return torch.sum(hidden * energy, dim=2)\n",
    "\n",
    "    def concat_score(self, hidden, encoder_output):\n",
    "        energy = self.attn(torch.cat((hidden.expand(encoder_output.size(0), -1, -1), encoder_output), 2)).tanh()\n",
    "        return torch.sum(self.v * energy, dim=2)\n",
    "\n",
    "    def forward(self, hidden, encoder_outputs):\n",
    "        # Calculate the attention weights (energies) based on the given method\n",
    "        if self.method == 'general':\n",
    "            attn_energies = self.general_score(hidden, encoder_outputs)\n",
    "        elif self.method == 'concat':\n",
    "            attn_energies = self.concat_score(hidden, encoder_outputs)\n",
    "        elif self.method == 'dot':\n",
    "            attn_energies = self.dot_score(hidden, encoder_outputs)\n",
    "\n",
    "        # Transpose max_length and batch_size dimensions\n",
    "        attn_energies = attn_energies.t()\n",
    "\n",
    "        # Return the softmax normalized probability scores (with added dimension)\n",
    "        return F.softmax(attn_energies, dim=1).unsqueeze(1)"
   ]
  },
  {
   "cell_type": "code",
   "execution_count": 46,
   "metadata": {},
   "outputs": [],
   "source": [
    "class LuongAttnDecoderRNN(nn.Module):\n",
    "    def __init__(self, attn_model, embedding, hidden_size, output_size, n_layers=1, dropout=0.1):\n",
    "        super(LuongAttnDecoderRNN, self).__init__()\n",
    "\n",
    "        # Keep for reference\n",
    "        self.attn_model = attn_model\n",
    "        self.hidden_size = hidden_size\n",
    "        self.output_size = output_size\n",
    "        self.n_layers = n_layers\n",
    "        self.dropout = dropout\n",
    "\n",
    "        # Define layers\n",
    "        self.embedding = embedding\n",
    "        self.embedding_dropout = nn.Dropout(dropout)\n",
    "        self.gru = nn.GRU(hidden_size, hidden_size, n_layers, dropout=(0 if n_layers == 1 else dropout))\n",
    "        self.concat = nn.Linear(hidden_size*2 , hidden_size)\n",
    "        self.out = nn.Linear(hidden_size, output_size)\n",
    "\n",
    "        self.attn = Attn(attn_model, hidden_size)\n",
    "\n",
    "    def forward(self, input_step, last_hidden, encoder_outputs):\n",
    "        # Note: we run this one step (word) at a time\n",
    "        # Get embedding of current input word\n",
    "        embedded = self.embedding(input_step)\n",
    "        embedded = self.embedding_dropout(embedded)\n",
    "        # Forward through unidirectional GRU\n",
    "        rnn_output, hidden = self.gru(embedded, last_hidden)\n",
    "        # Calculate attention weights from the current GRU output\n",
    "        attn_weights = self.attn(rnn_output, encoder_outputs)\n",
    "        # Multiply attention weights to encoder outputs to get new \"weighted sum\" context vector\n",
    "        context = attn_weights.bmm(encoder_outputs.transpose(0, 1))\n",
    "        # Concatenate weighted context vector and GRU output using Luong eq. 5\n",
    "        rnn_output = rnn_output.squeeze(0)\n",
    "        context = context.squeeze(1)\n",
    "        concat_input = torch.cat((rnn_output, context), 1)\n",
    "        concat_output = torch.tanh(self.concat(concat_input))\n",
    "        # Predict next word using Luong eq. 6\n",
    "        output = self.out(concat_output)\n",
    "        output = F.softmax(output, dim=1)\n",
    "        # Return output and final hidden state\n",
    "        return output, hidden"
   ]
  },
  {
   "cell_type": "code",
   "execution_count": 47,
   "metadata": {},
   "outputs": [],
   "source": [
    "def maskNLLLoss(inp, target, mask):\n",
    "    nTotal = mask.sum()\n",
    "    crossEntropy = -torch.log(torch.gather(inp, 1, target.view(-1, 1)).squeeze(1))\n",
    "    loss = crossEntropy.masked_select(mask).mean()\n",
    "    loss = loss.to(device)\n",
    "    return loss, nTotal.item()"
   ]
  },
  {
   "cell_type": "code",
   "execution_count": 48,
   "metadata": {},
   "outputs": [],
   "source": [
    "def train(input_variable, lengths, target_variable, mask, max_target_len, encoder, decoder, embedding,\n",
    "          encoder_optimizer, decoder_optimizer, batch_size, clip, max_length=MAX_LENGTH):\n",
    "\n",
    "    # Zero gradients\n",
    "    encoder_optimizer.zero_grad()\n",
    "    decoder_optimizer.zero_grad()\n",
    "\n",
    "    # Set device options\n",
    "    input_variable = input_variable.to(device)\n",
    "    lengths = lengths.to(device)\n",
    "    target_variable = target_variable.to(device)\n",
    "    mask = mask.to(device)\n",
    "\n",
    "    # Initialize variables\n",
    "    loss = 0\n",
    "    print_losses = []\n",
    "    n_totals = 0\n",
    "\n",
    "    # Forward pass through encoder\n",
    "    encoder_outputs, encoder_hidden = encoder(input_variable, lengths)\n",
    "\n",
    "    # Create initial decoder input (start with SOS tokens for each sentence)\n",
    "    decoder_input = torch.LongTensor([[SOS for _ in range(batch_size)]])\n",
    "    decoder_input = decoder_input.to(device)\n",
    "\n",
    "    # Set initial decoder hidden state to the encoder's final hidden state\n",
    "    decoder_hidden = encoder_hidden[:decoder.n_layers]\n",
    "\n",
    "    # Determine if we are using teacher forcing this iteration\n",
    "    use_teacher_forcing = True if random.random() < teacher_forcing_ratio else False\n",
    "\n",
    "    # Forward batch of sequences through decoder one time step at a time\n",
    "    if use_teacher_forcing:\n",
    "        for t in range(max_target_len):\n",
    "            decoder_output, decoder_hidden = decoder(\n",
    "                decoder_input, decoder_hidden, encoder_outputs\n",
    "            )\n",
    "            # Teacher forcing: next input is current target\n",
    "            decoder_input = target_variable[t].view(1, -1)\n",
    "            # Calculate and accumulate loss\n",
    "            mask_loss, nTotal = maskNLLLoss(decoder_output, target_variable[t], mask[t])\n",
    "            loss += mask_loss\n",
    "            print_losses.append(mask_loss.item() * nTotal)\n",
    "            n_totals += nTotal\n",
    "    else:\n",
    "        for t in range(max_target_len):\n",
    "            decoder_output, decoder_hidden = decoder(\n",
    "                decoder_input, decoder_hidden, encoder_outputs\n",
    "            )\n",
    "            # No teacher forcing: next input is decoder's own current output\n",
    "            _, topi = decoder_output.topk(1)\n",
    "            decoder_input = torch.LongTensor([[topi[i][0] for i in range(batch_size)]])\n",
    "            decoder_input = decoder_input.to(device)\n",
    "            # Calculate and accumulate loss\n",
    "            mask_loss, nTotal = maskNLLLoss(decoder_output, target_variable[t], mask[t])\n",
    "            loss += mask_loss\n",
    "            print_losses.append(mask_loss.item() * nTotal)\n",
    "            n_totals += nTotal\n",
    "\n",
    "    # Perform backpropatation\n",
    "    loss.backward()\n",
    "\n",
    "    # Clip gradients: gradients are modified in place\n",
    "    _ = nn.utils.clip_grad_norm_(encoder.parameters(), clip)\n",
    "    _ = nn.utils.clip_grad_norm_(decoder.parameters(), clip)\n",
    "\n",
    "    # Adjust model weights\n",
    "    encoder_optimizer.step()\n",
    "    decoder_optimizer.step()\n",
    "\n",
    "    return sum(print_losses) / n_totals"
   ]
  },
  {
   "cell_type": "code",
   "execution_count": 49,
   "metadata": {},
   "outputs": [],
   "source": [
    "def trainIters(model_name, voc, pairs, encoder, decoder, encoder_optimizer, decoder_optimizer, embedding, encoder_n_layers, decoder_n_layers, save_dir, n_iteration, batch_size, print_every, save_every, clip, corpus_name, loadFilename):\n",
    "\n",
    "    # Load batches for each iteration\n",
    "    training_batches = [batch2TrainData(voc, [random.choice(pairs) for _ in range(batch_size)])\n",
    "                      for _ in range(n_iteration)]\n",
    "\n",
    "    # Initializations\n",
    "    print('Initializing ...')\n",
    "    start_iteration = 1\n",
    "    print_loss = 0\n",
    "    if loadFilename:\n",
    "        start_iteration = checkpoint['iteration'] + 1\n",
    "\n",
    "    # Training loop\n",
    "    print(\"Training...\")\n",
    "    for iteration in range(start_iteration, n_iteration + 1):\n",
    "        training_batch = training_batches[iteration - 1]\n",
    "        # Extract fields from batch\n",
    "        input_variable, lengths, target_variable, mask, max_target_len = training_batch\n",
    "\n",
    "        # Run a training iteration with batch\n",
    "        loss = train(input_variable, lengths, target_variable, mask, max_target_len, encoder,\n",
    "                     decoder, embedding, encoder_optimizer, decoder_optimizer, batch_size, clip)\n",
    "        print_loss += loss\n",
    "\n",
    "        # Print progress\n",
    "        if iteration % print_every == 0:\n",
    "            print_loss_avg = print_loss / print_every\n",
    "            print(\"Iteration: {}; Percent complete: {:.1f}%; Average loss: {:.4f}\".format(iteration, iteration / n_iteration * 100, print_loss_avg))\n",
    "            print_loss = 0\n",
    "\n",
    "        # Save checkpoint\n",
    "        if (iteration % save_every == 0):\n",
    "            directory = os.path.join(save_dir, model_name, corpus_name, '{}-{}_{}'.format(encoder_n_layers, decoder_n_layers, hidden_size))\n",
    "            if not os.path.exists(directory):\n",
    "                os.makedirs(directory)\n",
    "            torch.save({\n",
    "                'iteration': iteration,\n",
    "                'en': encoder.state_dict(),\n",
    "                'de': decoder.state_dict(),\n",
    "                'en_opt': encoder_optimizer.state_dict(),\n",
    "                'de_opt': decoder_optimizer.state_dict(),\n",
    "                'loss': loss,\n",
    "                'voc_dict': voc.__dict__,\n",
    "                'embedding': embedding.state_dict()\n",
    "            }, os.path.join(directory, '{}_{}.tar'.format(iteration, 'checkpoint')))"
   ]
  },
  {
   "cell_type": "code",
   "execution_count": 50,
   "metadata": {},
   "outputs": [],
   "source": [
    "class GreedySearchDecoder(nn.Module):\n",
    "    def __init__(self, encoder, decoder):\n",
    "        super(GreedySearchDecoder, self).__init__()\n",
    "        self.encoder = encoder\n",
    "        self.decoder = decoder\n",
    "\n",
    "    def forward(self, input_seq, input_length, max_length):\n",
    "        # Forward input through encoder model\n",
    "        encoder_outputs, encoder_hidden = self.encoder(input_seq, input_length)\n",
    "        # Prepare encoder's final hidden layer to be first hidden input to the decoder\n",
    "        decoder_hidden = encoder_hidden[:decoder.n_layers]\n",
    "        # Initialize decoder input with SOS_token\n",
    "        decoder_input = torch.ones(1, 1, device=device, dtype=torch.long) * SOS\n",
    "        # Initialize tensors to append decoded words to\n",
    "        all_tokens = torch.zeros([0], device=device, dtype=torch.long)\n",
    "        all_scores = torch.zeros([0], device=device)\n",
    "        # Iteratively decode one word token at a time\n",
    "        for _ in range(max_length):\n",
    "            # Forward pass through decoder\n",
    "            decoder_output, decoder_hidden = self.decoder(decoder_input, decoder_hidden, encoder_outputs)\n",
    "            # Obtain most likely word token and its softmax score\n",
    "            decoder_scores, decoder_input = torch.max(decoder_output, dim=1)\n",
    "            # Record token and score\n",
    "            all_tokens = torch.cat((all_tokens, decoder_input), dim=0)\n",
    "            all_scores = torch.cat((all_scores, decoder_scores), dim=0)\n",
    "            # Prepare current token to be next decoder input (add a dimension)\n",
    "            decoder_input = torch.unsqueeze(decoder_input, 0)\n",
    "        # Return collections of word tokens and scores\n",
    "        return all_tokens, all_scores"
   ]
  },
  {
   "cell_type": "code",
   "execution_count": 58,
   "metadata": {},
   "outputs": [],
   "source": [
    "def check_words(inputs):\n",
    "    inputs=inputs.split(' ')\n",
    "    for inputa in inputs:\n",
    "        if inputa in Related_word:\n",
    "            return True\n",
    "    return False"
   ]
  },
  {
   "cell_type": "code",
   "execution_count": 63,
   "metadata": {},
   "outputs": [],
   "source": [
    "def evaluate(encoder, decoder, searcher, voc, sentence, max_length=MAX_LENGTH):\n",
    "    ### Format input sentence as a batch\n",
    "    # words -> indexes\n",
    "    indexes_batch = [indexesFromSentence(voc, sentence)]\n",
    "    # Create lengths tensor\n",
    "    lengths = torch.tensor([len(indexes) for indexes in indexes_batch])\n",
    "    # Transpose dimensions of batch to match models' expectations\n",
    "    input_batch = torch.LongTensor(indexes_batch).transpose(0, 1)\n",
    "    # Use appropriate device\n",
    "    input_batch = input_batch.to(device)\n",
    "    lengths = lengths.to(device)\n",
    "    # Decode sentence with searcher\n",
    "    tokens, scores = searcher(input_batch, lengths, max_length)\n",
    "    # indexes -> words\n",
    "    decoded_words = [voc.idx2word[token.item()] for token in tokens]\n",
    "    return decoded_words\n",
    "\n",
    "\n",
    "def evaluateInput(encoder, decoder, searcher, voc):\n",
    "    input_sentence = ''\n",
    "    while(1):\n",
    "        try:\n",
    "            # Get input sentence\n",
    "            input_sentence = input('> ')\n",
    "            res=check_words(input_sentence)\n",
    "            # Check if it is quit case\n",
    "            if input_sentence == 'q' or input_sentence == 'quit': break\n",
    "\n",
    "            \n",
    "            if res:\n",
    "                if(input_sentence!='bye'):\n",
    "                    user_i=input_sentence\n",
    "                    ques=embeddings.check_distance(user_i)\n",
    "                    quest, response=sort_response(ques,user_i)\n",
    "                    responsek=response\n",
    "                    display (Markdown(f'<span style=\"color: red\">Do you want to ask this:{quest}?</span>'))\n",
    "                else:\n",
    "                    response=End_conv()\n",
    "                    Stop=True\n",
    "                if len(response.split('\\n'))>1:\n",
    "                    for resp_p in response.split('\\n'):\n",
    "                        display(Markdown(f'<span style=\"color: blue\">{resp_p}</span>'))\n",
    "                else:\n",
    "                    display(Markdown(f'<span style=\"color: blue\">{response}</span>'))\n",
    "                        # Normalize sentence\n",
    "            else:\n",
    "                input_sentence = sentenceOperation(input_sentence)\n",
    "                # Evaluate sentence\n",
    "                output_words = evaluate(encoder, decoder, searcher, voc, input_sentence)\n",
    "                # Format and print response sentence\n",
    "                output_words[:] = [x for x in output_words if not (x == 'EOS' or x == 'PAD')]\n",
    "                print('Bot:', ' '.join(output_words))\n",
    "\n",
    "        except KeyError:\n",
    "            print(\"Error: Encountered unknown word.\")"
   ]
  },
  {
   "cell_type": "code",
   "execution_count": 53,
   "metadata": {},
   "outputs": [
    {
     "name": "stdout",
     "output_type": "stream",
     "text": [
      "Building encoder and decoder ...\n",
      "Models built and ready to go!\n"
     ]
    }
   ],
   "source": [
    "# Configure models\n",
    "model_name = 'cb_model'\n",
    "attn_model = 'dot'\n",
    "#attn_model = 'general'\n",
    "#attn_model = 'concat'\n",
    "hidden_size = 600\n",
    "encoder_n_layers = 2\n",
    "decoder_n_layers = 2\n",
    "dropout = 0.2\n",
    "batch_size = 64\n",
    "\n",
    "# Set checkpoint to load from; set to None if starting from scratch\n",
    "loadFilename = None\n",
    "checkpoint_iter = 10000\n",
    "#loadFilename = os.path.join(save_dir, model_name, corpus_name,\n",
    "#                            '{}-{}_{}'.format(encoder_n_layers, decoder_n_layers, hidden_size),\n",
    "#                            '{}_checkpoint.tar'.format(checkpoint_iter))\n",
    "\n",
    "\n",
    "# Load model if a loadFilename is provided\n",
    "if loadFilename:\n",
    "    # If loading on same machine the model was trained on\n",
    "    checkpoint = torch.load(loadFilename)\n",
    "    # If loading a model trained on GPU to CPU\n",
    "    #checkpoint = torch.load(loadFilename, map_location=torch.device('cpu'))\n",
    "    encoder_sd = checkpoint['en']\n",
    "    decoder_sd = checkpoint['de']\n",
    "    encoder_optimizer_sd = checkpoint['en_opt']\n",
    "    decoder_optimizer_sd = checkpoint['de_opt']\n",
    "    embedding_sd = checkpoint['embedding']\n",
    "    voc.__dict__ = checkpoint['voc_dict']\n",
    "\n",
    "\n",
    "print('Building encoder and decoder ...')\n",
    "# Initialize word embeddings\n",
    "embedding = nn.Embedding(voc.numberofWord, hidden_size)\n",
    "if loadFilename:\n",
    "    embedding.load_state_dict(embedding_sd)\n",
    "# Initialize encoder & decoder models\n",
    "encoder = EncoderRNN(hidden_size, embedding, encoder_n_layers, dropout)\n",
    "decoder = LuongAttnDecoderRNN(attn_model, embedding, hidden_size, voc.numberofWord, decoder_n_layers, dropout)\n",
    "if loadFilename:\n",
    "    encoder.load_state_dict(encoder_sd)\n",
    "    decoder.load_state_dict(decoder_sd)\n",
    "# Use appropriate device\n",
    "encoder = encoder.to(device)\n",
    "decoder = decoder.to(device)\n",
    "print('Models built and ready to go!')"
   ]
  },
  {
   "cell_type": "code",
   "execution_count": 55,
   "metadata": {},
   "outputs": [
    {
     "name": "stdout",
     "output_type": "stream",
     "text": [
      "Building optimizers ...\n",
      "Starting Training!\n",
      "Initializing ...\n",
      "Training...\n",
      "Iteration: 100; Percent complete: 0.5%; Average loss: 4.9232\n",
      "Iteration: 200; Percent complete: 1.0%; Average loss: 3.8630\n",
      "Iteration: 300; Percent complete: 1.5%; Average loss: 3.5967\n",
      "Iteration: 400; Percent complete: 2.0%; Average loss: 3.3999\n",
      "Iteration: 500; Percent complete: 2.5%; Average loss: 3.2856\n",
      "Iteration: 600; Percent complete: 3.0%; Average loss: 3.1633\n",
      "Iteration: 700; Percent complete: 3.5%; Average loss: 3.0633\n",
      "Iteration: 800; Percent complete: 4.0%; Average loss: 3.0164\n",
      "Iteration: 900; Percent complete: 4.5%; Average loss: 2.9416\n",
      "Iteration: 1000; Percent complete: 5.0%; Average loss: 2.9305\n",
      "Iteration: 1100; Percent complete: 5.5%; Average loss: 2.8434\n",
      "Iteration: 1200; Percent complete: 6.0%; Average loss: 2.8082\n",
      "Iteration: 1300; Percent complete: 6.5%; Average loss: 2.7543\n",
      "Iteration: 1400; Percent complete: 7.0%; Average loss: 2.6922\n",
      "Iteration: 1500; Percent complete: 7.5%; Average loss: 2.6344\n",
      "Iteration: 1600; Percent complete: 8.0%; Average loss: 2.6385\n",
      "Iteration: 1700; Percent complete: 8.5%; Average loss: 2.5777\n",
      "Iteration: 1800; Percent complete: 9.0%; Average loss: 2.5225\n",
      "Iteration: 1900; Percent complete: 9.5%; Average loss: 2.4582\n",
      "Iteration: 2000; Percent complete: 10.0%; Average loss: 2.4506\n",
      "Iteration: 2100; Percent complete: 10.5%; Average loss: 2.3842\n",
      "Iteration: 2200; Percent complete: 11.0%; Average loss: 2.3388\n",
      "Iteration: 2300; Percent complete: 11.5%; Average loss: 2.3231\n",
      "Iteration: 2400; Percent complete: 12.0%; Average loss: 2.2905\n",
      "Iteration: 2500; Percent complete: 12.5%; Average loss: 2.2578\n",
      "Iteration: 2600; Percent complete: 13.0%; Average loss: 2.2228\n",
      "Iteration: 2700; Percent complete: 13.5%; Average loss: 2.1943\n",
      "Iteration: 2800; Percent complete: 14.0%; Average loss: 2.1660\n",
      "Iteration: 2900; Percent complete: 14.5%; Average loss: 2.0958\n",
      "Iteration: 3000; Percent complete: 15.0%; Average loss: 2.0793\n",
      "Iteration: 3100; Percent complete: 15.5%; Average loss: 2.0470\n",
      "Iteration: 3200; Percent complete: 16.0%; Average loss: 2.0169\n",
      "Iteration: 3300; Percent complete: 16.5%; Average loss: 1.9655\n",
      "Iteration: 3400; Percent complete: 17.0%; Average loss: 1.9558\n",
      "Iteration: 3500; Percent complete: 17.5%; Average loss: 1.9292\n",
      "Iteration: 3600; Percent complete: 18.0%; Average loss: 1.9363\n",
      "Iteration: 3700; Percent complete: 18.5%; Average loss: 1.8656\n",
      "Iteration: 3800; Percent complete: 19.0%; Average loss: 1.8407\n",
      "Iteration: 3900; Percent complete: 19.5%; Average loss: 1.8166\n",
      "Iteration: 4000; Percent complete: 20.0%; Average loss: 1.7744\n",
      "Iteration: 4100; Percent complete: 20.5%; Average loss: 1.7383\n",
      "Iteration: 4200; Percent complete: 21.0%; Average loss: 1.7143\n",
      "Iteration: 4300; Percent complete: 21.5%; Average loss: 1.6793\n",
      "Iteration: 4400; Percent complete: 22.0%; Average loss: 1.7169\n",
      "Iteration: 4500; Percent complete: 22.5%; Average loss: 1.6518\n",
      "Iteration: 4600; Percent complete: 23.0%; Average loss: 1.6119\n",
      "Iteration: 4700; Percent complete: 23.5%; Average loss: 1.5945\n",
      "Iteration: 4800; Percent complete: 24.0%; Average loss: 1.5456\n",
      "Iteration: 4900; Percent complete: 24.5%; Average loss: 1.5521\n",
      "Iteration: 5000; Percent complete: 25.0%; Average loss: 1.5062\n",
      "Iteration: 5100; Percent complete: 25.5%; Average loss: 1.5055\n",
      "Iteration: 5200; Percent complete: 26.0%; Average loss: 1.4863\n",
      "Iteration: 5300; Percent complete: 26.5%; Average loss: 1.4450\n",
      "Iteration: 5400; Percent complete: 27.0%; Average loss: 1.4452\n",
      "Iteration: 5500; Percent complete: 27.5%; Average loss: 1.4067\n",
      "Iteration: 5600; Percent complete: 28.0%; Average loss: 1.3763\n",
      "Iteration: 5700; Percent complete: 28.5%; Average loss: 1.3664\n",
      "Iteration: 5800; Percent complete: 29.0%; Average loss: 1.3630\n",
      "Iteration: 5900; Percent complete: 29.5%; Average loss: 1.3172\n",
      "Iteration: 6000; Percent complete: 30.0%; Average loss: 1.2976\n",
      "Iteration: 6100; Percent complete: 30.5%; Average loss: 1.2719\n",
      "Iteration: 6200; Percent complete: 31.0%; Average loss: 1.2587\n",
      "Iteration: 6300; Percent complete: 31.5%; Average loss: 1.2391\n",
      "Iteration: 6400; Percent complete: 32.0%; Average loss: 1.2274\n",
      "Iteration: 6500; Percent complete: 32.5%; Average loss: 1.2041\n",
      "Iteration: 6600; Percent complete: 33.0%; Average loss: 1.1815\n",
      "Iteration: 6700; Percent complete: 33.5%; Average loss: 1.1686\n",
      "Iteration: 6800; Percent complete: 34.0%; Average loss: 1.1580\n",
      "Iteration: 6900; Percent complete: 34.5%; Average loss: 1.1265\n",
      "Iteration: 7000; Percent complete: 35.0%; Average loss: 1.0999\n",
      "Iteration: 7100; Percent complete: 35.5%; Average loss: 1.1242\n",
      "Iteration: 7200; Percent complete: 36.0%; Average loss: 1.0899\n",
      "Iteration: 7300; Percent complete: 36.5%; Average loss: 1.0697\n",
      "Iteration: 7400; Percent complete: 37.0%; Average loss: 1.0396\n",
      "Iteration: 7500; Percent complete: 37.5%; Average loss: 1.0064\n",
      "Iteration: 7600; Percent complete: 38.0%; Average loss: 1.0134\n",
      "Iteration: 7700; Percent complete: 38.5%; Average loss: 0.9965\n",
      "Iteration: 7800; Percent complete: 39.0%; Average loss: 0.9683\n",
      "Iteration: 7900; Percent complete: 39.5%; Average loss: 0.9583\n",
      "Iteration: 8000; Percent complete: 40.0%; Average loss: 0.9275\n",
      "Iteration: 8100; Percent complete: 40.5%; Average loss: 0.9317\n",
      "Iteration: 8200; Percent complete: 41.0%; Average loss: 0.9257\n",
      "Iteration: 8300; Percent complete: 41.5%; Average loss: 0.9195\n",
      "Iteration: 8400; Percent complete: 42.0%; Average loss: 0.8918\n",
      "Iteration: 8500; Percent complete: 42.5%; Average loss: 0.8572\n",
      "Iteration: 8600; Percent complete: 43.0%; Average loss: 0.8687\n",
      "Iteration: 8700; Percent complete: 43.5%; Average loss: 0.8434\n",
      "Iteration: 8800; Percent complete: 44.0%; Average loss: 0.8417\n",
      "Iteration: 8900; Percent complete: 44.5%; Average loss: 0.8265\n",
      "Iteration: 9000; Percent complete: 45.0%; Average loss: 0.8101\n",
      "Iteration: 9100; Percent complete: 45.5%; Average loss: 0.8149\n",
      "Iteration: 9200; Percent complete: 46.0%; Average loss: 0.7897\n",
      "Iteration: 9300; Percent complete: 46.5%; Average loss: 0.7801\n",
      "Iteration: 9400; Percent complete: 47.0%; Average loss: 0.7670\n",
      "Iteration: 9500; Percent complete: 47.5%; Average loss: 0.7506\n",
      "Iteration: 9600; Percent complete: 48.0%; Average loss: 0.7553\n",
      "Iteration: 9700; Percent complete: 48.5%; Average loss: 0.7441\n",
      "Iteration: 9800; Percent complete: 49.0%; Average loss: 0.7487\n",
      "Iteration: 9900; Percent complete: 49.5%; Average loss: 0.7340\n",
      "Iteration: 10000; Percent complete: 50.0%; Average loss: 0.7133\n",
      "Iteration: 10100; Percent complete: 50.5%; Average loss: 0.7075\n",
      "Iteration: 10200; Percent complete: 51.0%; Average loss: 0.6947\n",
      "Iteration: 10300; Percent complete: 51.5%; Average loss: 0.6705\n",
      "Iteration: 10400; Percent complete: 52.0%; Average loss: 0.6772\n",
      "Iteration: 10500; Percent complete: 52.5%; Average loss: 0.6650\n",
      "Iteration: 10600; Percent complete: 53.0%; Average loss: 0.6592\n",
      "Iteration: 10700; Percent complete: 53.5%; Average loss: 0.6456\n",
      "Iteration: 10800; Percent complete: 54.0%; Average loss: 0.6415\n",
      "Iteration: 10900; Percent complete: 54.5%; Average loss: 0.6307\n",
      "Iteration: 11000; Percent complete: 55.0%; Average loss: 0.6071\n",
      "Iteration: 11100; Percent complete: 55.5%; Average loss: 0.6232\n",
      "Iteration: 11200; Percent complete: 56.0%; Average loss: 0.6053\n",
      "Iteration: 11300; Percent complete: 56.5%; Average loss: 0.5992\n",
      "Iteration: 11400; Percent complete: 57.0%; Average loss: 0.5995\n",
      "Iteration: 11500; Percent complete: 57.5%; Average loss: 0.5914\n",
      "Iteration: 11600; Percent complete: 58.0%; Average loss: 0.5849\n",
      "Iteration: 11700; Percent complete: 58.5%; Average loss: 0.5706\n",
      "Iteration: 11800; Percent complete: 59.0%; Average loss: 0.5797\n",
      "Iteration: 11900; Percent complete: 59.5%; Average loss: 0.5592\n",
      "Iteration: 12000; Percent complete: 60.0%; Average loss: 0.5630\n",
      "Iteration: 12100; Percent complete: 60.5%; Average loss: 0.5509\n",
      "Iteration: 12200; Percent complete: 61.0%; Average loss: 0.5566\n",
      "Iteration: 12300; Percent complete: 61.5%; Average loss: 0.5384\n",
      "Iteration: 12400; Percent complete: 62.0%; Average loss: 0.5394\n",
      "Iteration: 12500; Percent complete: 62.5%; Average loss: 0.5384\n",
      "Iteration: 12600; Percent complete: 63.0%; Average loss: 0.5248\n",
      "Iteration: 12700; Percent complete: 63.5%; Average loss: 0.5290\n",
      "Iteration: 12800; Percent complete: 64.0%; Average loss: 0.5296\n",
      "Iteration: 12900; Percent complete: 64.5%; Average loss: 0.5237\n",
      "Iteration: 13000; Percent complete: 65.0%; Average loss: 0.5030\n",
      "Iteration: 13100; Percent complete: 65.5%; Average loss: 0.5009\n",
      "Iteration: 13200; Percent complete: 66.0%; Average loss: 0.4981\n",
      "Iteration: 13300; Percent complete: 66.5%; Average loss: 0.4991\n",
      "Iteration: 13400; Percent complete: 67.0%; Average loss: 0.4926\n",
      "Iteration: 13500; Percent complete: 67.5%; Average loss: 0.4839\n",
      "Iteration: 13600; Percent complete: 68.0%; Average loss: 0.4790\n",
      "Iteration: 13700; Percent complete: 68.5%; Average loss: 0.4705\n",
      "Iteration: 13800; Percent complete: 69.0%; Average loss: 0.4776\n",
      "Iteration: 13900; Percent complete: 69.5%; Average loss: 0.4702\n",
      "Iteration: 14000; Percent complete: 70.0%; Average loss: 0.4599\n",
      "Iteration: 14100; Percent complete: 70.5%; Average loss: 0.4605\n",
      "Iteration: 14200; Percent complete: 71.0%; Average loss: 0.4516\n",
      "Iteration: 14300; Percent complete: 71.5%; Average loss: 0.4561\n",
      "Iteration: 14400; Percent complete: 72.0%; Average loss: 0.4501\n",
      "Iteration: 14500; Percent complete: 72.5%; Average loss: 0.4505\n",
      "Iteration: 14600; Percent complete: 73.0%; Average loss: 0.4593\n",
      "Iteration: 14700; Percent complete: 73.5%; Average loss: 0.4485\n",
      "Iteration: 14800; Percent complete: 74.0%; Average loss: 0.4343\n",
      "Iteration: 14900; Percent complete: 74.5%; Average loss: 0.4309\n",
      "Iteration: 15000; Percent complete: 75.0%; Average loss: 0.4271\n",
      "Iteration: 15100; Percent complete: 75.5%; Average loss: 0.4354\n",
      "Iteration: 15200; Percent complete: 76.0%; Average loss: 0.4310\n",
      "Iteration: 15300; Percent complete: 76.5%; Average loss: 0.4246\n",
      "Iteration: 15400; Percent complete: 77.0%; Average loss: 0.4150\n",
      "Iteration: 15500; Percent complete: 77.5%; Average loss: 0.4317\n",
      "Iteration: 15600; Percent complete: 78.0%; Average loss: 0.4233\n",
      "Iteration: 15700; Percent complete: 78.5%; Average loss: 0.4115\n",
      "Iteration: 15800; Percent complete: 79.0%; Average loss: 0.4244\n",
      "Iteration: 15900; Percent complete: 79.5%; Average loss: 0.4141\n",
      "Iteration: 16000; Percent complete: 80.0%; Average loss: 0.4206\n",
      "Iteration: 16100; Percent complete: 80.5%; Average loss: 0.4143\n",
      "Iteration: 16200; Percent complete: 81.0%; Average loss: 0.4057\n",
      "Iteration: 16300; Percent complete: 81.5%; Average loss: 0.4073\n",
      "Iteration: 16400; Percent complete: 82.0%; Average loss: 0.4217\n",
      "Iteration: 16500; Percent complete: 82.5%; Average loss: 0.4074\n",
      "Iteration: 16600; Percent complete: 83.0%; Average loss: 0.4125\n",
      "Iteration: 16700; Percent complete: 83.5%; Average loss: 0.4150\n",
      "Iteration: 16800; Percent complete: 84.0%; Average loss: 0.4066\n",
      "Iteration: 16900; Percent complete: 84.5%; Average loss: 0.4041\n",
      "Iteration: 17000; Percent complete: 85.0%; Average loss: 0.3969\n",
      "Iteration: 17100; Percent complete: 85.5%; Average loss: 0.4019\n",
      "Iteration: 17200; Percent complete: 86.0%; Average loss: 0.3988\n",
      "Iteration: 17300; Percent complete: 86.5%; Average loss: 0.3930\n",
      "Iteration: 17400; Percent complete: 87.0%; Average loss: 0.3973\n",
      "Iteration: 17500; Percent complete: 87.5%; Average loss: 0.3787\n",
      "Iteration: 17600; Percent complete: 88.0%; Average loss: 0.3968\n",
      "Iteration: 17700; Percent complete: 88.5%; Average loss: 0.3833\n",
      "Iteration: 17800; Percent complete: 89.0%; Average loss: 0.3870\n",
      "Iteration: 17900; Percent complete: 89.5%; Average loss: 0.3779\n",
      "Iteration: 18000; Percent complete: 90.0%; Average loss: 0.3819\n",
      "Iteration: 18100; Percent complete: 90.5%; Average loss: 0.3765\n",
      "Iteration: 18200; Percent complete: 91.0%; Average loss: 0.3899\n",
      "Iteration: 18300; Percent complete: 91.5%; Average loss: 0.3658\n",
      "Iteration: 18400; Percent complete: 92.0%; Average loss: 0.3782\n",
      "Iteration: 18500; Percent complete: 92.5%; Average loss: 0.3759\n",
      "Iteration: 18600; Percent complete: 93.0%; Average loss: 0.3859\n",
      "Iteration: 18700; Percent complete: 93.5%; Average loss: 0.3831\n",
      "Iteration: 18800; Percent complete: 94.0%; Average loss: 0.3835\n",
      "Iteration: 18900; Percent complete: 94.5%; Average loss: 0.3784\n",
      "Iteration: 19000; Percent complete: 95.0%; Average loss: 0.3675\n",
      "Iteration: 19100; Percent complete: 95.5%; Average loss: 0.3802\n",
      "Iteration: 19200; Percent complete: 96.0%; Average loss: 0.3691\n",
      "Iteration: 19300; Percent complete: 96.5%; Average loss: 0.3610\n",
      "Iteration: 19400; Percent complete: 97.0%; Average loss: 0.3603\n",
      "Iteration: 19500; Percent complete: 97.5%; Average loss: 0.3574\n",
      "Iteration: 19600; Percent complete: 98.0%; Average loss: 0.3668\n",
      "Iteration: 19700; Percent complete: 98.5%; Average loss: 0.3645\n",
      "Iteration: 19800; Percent complete: 99.0%; Average loss: 0.3752\n",
      "Iteration: 19900; Percent complete: 99.5%; Average loss: 0.3688\n",
      "Iteration: 20000; Percent complete: 100.0%; Average loss: 0.3624\n"
     ]
    }
   ],
   "source": [
    "# Configure training/optimization\n",
    "\n",
    "save_dir = os.path.join(\"data\", \"save\")\n",
    "corpus_name=corpuss\n",
    "clip = 50.0\n",
    "teacher_forcing_ratio = 1.0\n",
    "learning_rate = 0.0001\n",
    "decoder_learning_ratio = 5.0\n",
    "n_iteration = 20000\n",
    "print_every = 100\n",
    "save_every = 10000\n",
    "\n",
    "# Ensure dropout layers are in train mode\n",
    "encoder.train()\n",
    "decoder.train()\n",
    "\n",
    "# Initialize optimizers\n",
    "print('Building optimizers ...')\n",
    "encoder_optimizer = optim.Adam(encoder.parameters(), lr=learning_rate)\n",
    "decoder_optimizer = optim.Adam(decoder.parameters(), lr=learning_rate * decoder_learning_ratio)\n",
    "if loadFilename:\n",
    "    encoder_optimizer.load_state_dict(encoder_optimizer_sd)\n",
    "    decoder_optimizer.load_state_dict(decoder_optimizer_sd)\n",
    "\n",
    "# If you have cuda, configure cuda to call\n",
    "for state in encoder_optimizer.state.values():\n",
    "    for k, v in state.items():\n",
    "        if isinstance(v, torch.Tensor):\n",
    "            state[k] = v.cuda()\n",
    "\n",
    "for state in decoder_optimizer.state.values():\n",
    "    for k, v in state.items():\n",
    "        if isinstance(v, torch.Tensor):\n",
    "            state[k] = v.cuda()\n",
    "\n",
    "# Run training iterations\n",
    "print(\"Starting Training!\")\n",
    "trainIters(model_name, voc, pairs, encoder, decoder, encoder_optimizer, decoder_optimizer,\n",
    "           embedding, encoder_n_layers, decoder_n_layers, save_dir, n_iteration, batch_size,\n",
    "           print_every, save_every, clip, corpus_name, loadFilename)"
   ]
  },
  {
   "cell_type": "code",
   "execution_count": 56,
   "metadata": {},
   "outputs": [],
   "source": [
    "# Set dropout layers to eval mode\n",
    "encoder.eval()\n",
    "decoder.eval()\n",
    "\n",
    "# Initialize search module\n",
    "searcher = GreedySearchDecoder(encoder, decoder)\n",
    "\n",
    "# Begin chatting (uncomment and run the following line to begin)\n",
    "# evaluateInput(encoder, decoder, searcher, voc)"
   ]
  },
  {
   "cell_type": "code",
   "execution_count": 74,
   "metadata": {},
   "outputs": [
    {
     "name": "stdout",
     "output_type": "stream",
     "text": [
      "> hey\n",
      "Bot: hi how are you doing ? the wedding ?\n",
      "> good. You\n",
      "Bot: good . . .\n",
      "> OK\n",
      "Bot:  . .\n",
      "> ok\n",
      "Bot:  . .\n",
      "> corona\n"
     ]
    },
    {
     "data": {
      "text/markdown": [
       "<span style=\"color: red\">Do you want to ask this:?</span>"
      ],
      "text/plain": [
       "<IPython.core.display.Markdown object>"
      ]
     },
     "metadata": {},
     "output_type": "display_data"
    },
    {
     "data": {
      "text/markdown": [
       "<span style=\"color: blue\">Sorry i couldn't understand your question. Can you give more detail?</span>"
      ],
      "text/plain": [
       "<IPython.core.display.Markdown object>"
      ]
     },
     "metadata": {},
     "output_type": "display_data"
    },
    {
     "name": "stdout",
     "output_type": "stream",
     "text": [
      "> Does corona dangerous\n"
     ]
    },
    {
     "data": {
      "text/markdown": [
       "<span style=\"color: red\">Do you want to ask this:What have we learned about infection prevention and control?</span>"
      ],
      "text/plain": [
       "<IPython.core.display.Markdown object>"
      ]
     },
     "metadata": {},
     "output_type": "display_data"
    },
    {
     "data": {
      "text/markdown": [
       "<span style=\"color: blue\">The summary of 3500 paper that we know is\r",
       "</span>"
      ],
      "text/plain": [
       "<IPython.core.display.Markdown object>"
      ]
     },
     "metadata": {},
     "output_type": "display_data"
    },
    {
     "data": {
      "text/markdown": [
       "<span style=\"color: blue\"> Covid-19 is spreading rapidly through europe and north america. We rely on quarantine, isolation, and infection-control measures to prevent disease spread and on supportive care for those who become ill. To date, there are no vaccines or treatments capable of preventing or treating hcov infections. Human influenza viruses continue to pose important threats to human heth in the modern sociy. As of february 3, 2020, there are more than 20,000 patients diagnosed with 2019-ncov infection in china one with more than 400 deaths. The fate of covid-19 remains unclear. Understanding the likely age and seasonprofiles of infection risks will be criticto inform effective surveillance and control strategies. 7 outbreaks of covid-19 are now being reported across the globe, and l physicians need to be prepared for cases in their communities. The risk of widespread nationcommunity transmission of the infection in the european union is considered high. Nearly 170,000 people have been diagnosed with the disease in the world. Covid-19 is a new coronaviruses. It is transmitted through the respiratory tract and is highly infectious for the heth of the people. It was swiftly included among the class b infectious diseases stipulated in the law of the. people’s republic of china on the prevention and control of infectious diseases. World endoscopy organization has recently released a recommendation on infection prevention and control in digestive endoscopies based on experiences from china. Early and transparent dissemination of research findings may lead to more expedited prevention and treatment efforts. We will give full play to tcm and folk medicines of hnic minorities in disease prevention and Control.</span>"
      ],
      "text/plain": [
       "<IPython.core.display.Markdown object>"
      ]
     },
     "metadata": {},
     "output_type": "display_data"
    },
    {
     "name": "stdout",
     "output_type": "stream",
     "text": [
      "> mask\n"
     ]
    },
    {
     "data": {
      "text/markdown": [
       "<span style=\"color: red\">Do you want to ask this:Does mask useful?</span>"
      ],
      "text/plain": [
       "<IPython.core.display.Markdown object>"
      ]
     },
     "metadata": {},
     "output_type": "display_data"
    },
    {
     "data": {
      "text/markdown": [
       "<span style=\"color: blue\">The summary of 3500 paper that we know is\r",
       "</span>"
      ],
      "text/plain": [
       "<IPython.core.display.Markdown object>"
      ]
     },
     "metadata": {},
     "output_type": "display_data"
    },
    {
     "data": {
      "text/markdown": [
       "<span style=\"color: blue\"> The lack of agreement on the selection and use of masks  (medicor surgicfacemasks) and respirators (n95/p2/ffp2 or equivent) is reflected in inconsistent and conflicting policies worldwide chughtai ., 2013 ) ..the ccc is a non-profit consortium open to anyone who shares the same vision of making data available to help the public good and ht covid-19. There is no effective and approved vaccine or treatment for covid-19. There is sufficient evidence to recommend stringent hand hygiene and use of face masks. There are no direct scientific evidence regarding wearing protective masks in public spaces for asymptomatic people. The best approach is to develop a broad portfolio of vaccines in a coordinated manner. There are reports of significant shortages of medicstaff, a lack of clinics that can handle and treat infected patients, and high demands  for face masks for protection. There are often no instructions or playbook on how to best proceed in chaotic environments where cause and effect is unclear. stabilizing the system is chlenging. Coronaviruses belong to a family of viruses mainly found in anims but with the recent outbreak , they have transmitted to humans. Study: 37 % of participants admitted a  mask without the apparent signs and symptoms of the infection and more than 75 % felt the need to use sanitizers and gloves. , and, indeed, those who are giving babies formula milk, should \"practice respiratory hygiene during feeding,\" says the WHO. These public heth measures decrease the number of close contacts, resulting in higher degrees of separation within the public,  thereby impeding transmission. However the pandemic has effected the three countries in diversely different pattern hinting at the preparedness of the countries to tackle such naturdisasters.</span>"
      ],
      "text/plain": [
       "<IPython.core.display.Markdown object>"
      ]
     },
     "metadata": {},
     "output_type": "display_data"
    },
    {
     "name": "stdout",
     "output_type": "stream",
     "text": [
      "> disinfectant\n"
     ]
    },
    {
     "data": {
      "text/markdown": [
       "<span style=\"color: red\">Do you want to ask this:do disinfectants kill the virus?</span>"
      ],
      "text/plain": [
       "<IPython.core.display.Markdown object>"
      ]
     },
     "metadata": {},
     "output_type": "display_data"
    },
    {
     "data": {
      "text/markdown": [
       "<span style=\"color: blue\">The summary of 3500 paper that we know is\r",
       "</span>"
      ],
      "text/plain": [
       "<IPython.core.display.Markdown object>"
      ]
     },
     "metadata": {},
     "output_type": "display_data"
    },
    {
     "data": {
      "text/markdown": [
       "<span style=\"color: blue\"> Covid-19 viruses, mostly spread by large dropls, may remain viable on surfaces for up to 24 h,  but will lose infectivity with disinfectants. The virus presently spreads throughout the world and could end up with the death rate of 2-3 % of infected population. This new type of coronavirus could cause severe acute respiratory syndrome and injuries in other systems as well. The disease progresses rapidly, leading to multiple an failure and death 1 2 .. among them, semiconductor photocatysis has attracted wide attention in many research fields such as the degradation of anic pollutants. In less than 4 months, sars-cov-2 has rapidly spread to nearly l countries worldwide. By 3 april  2020 it had infected more than a million people, and killed nearly 50,000 people. The coronavirus disease 2019 pandemic is not only strching heth systems to their limits, it is rapidly becoming a threat to the entire globeconomy. The new coronavirus (2019-ncov) is closely related to sever acute respiratory syndrome cov (sars-cov).2 currently , there is no specific treatment against the new virus. The new antivirdrug remdesivir and chloroquine, at an ec 50 of 1.1 μm, were found to be effective in preventing replication of this virus. Virus sars-cov-2 is a new and 3 severe type of coronavirus. The infection has no immediate treatment and vaccine, and it has become a worldwide pandemic. World heth organization has been continuously emphasizing that the fast-developing nations such as india should triple their expenditure on heth care to methe sdg gos.</span>"
      ],
      "text/plain": [
       "<IPython.core.display.Markdown object>"
      ]
     },
     "metadata": {},
     "output_type": "display_data"
    },
    {
     "name": "stdout",
     "output_type": "stream",
     "text": [
      "> country\n",
      "Bot: hello . how are you today ? ?\n",
      "> which country affacted most by corona\n",
      "Error: Encountered unknown word.\n",
      "> which country affected most by corona\n"
     ]
    },
    {
     "data": {
      "text/markdown": [
       "<span style=\"color: red\">Do you want to ask this:Which country was less affected?</span>"
      ],
      "text/plain": [
       "<IPython.core.display.Markdown object>"
      ]
     },
     "metadata": {},
     "output_type": "display_data"
    },
    {
     "data": {
      "text/markdown": [
       "<span style=\"color: blue\">The summary of 3500 paper that we know is\r",
       "</span>"
      ],
      "text/plain": [
       "<IPython.core.display.Markdown object>"
      ]
     },
     "metadata": {},
     "output_type": "display_data"
    },
    {
     "data": {
      "text/markdown": [
       "<span style=\"color: blue\"> Covid-19 has spread to 48 countries worldwide, especily in iran, korea and some european countries, even affected  the united states. Less is known about its impact on psychiatric care, particularly in  the  united states, 'flattening the curve'), whereas countries with limited response, such as  the United States, have experienced steeper growth rates in cases. Covid-19 has spread from china to 29 other countries or regions including south korea, japan, thailand, singapore, vinam, taiwan, nep, and the united states. The current 5 infection has spread outwards from ch China to 29 countries or Regions. The outbreak of coronavirus disease 2019 (covid-19) has become a serious public heth situation in china. The number of infected patients is increasing in other countries (especily  in south korea, japan, and ity) The epidemic continues to spread throughout china at an arming rate. A totof 81300 cases were confirmed in china so far (march 20, 2020) and increasingly more cases have been confirmed abroad. The united kingdom, france and germany are at the highest risk, followed by ity, spain and  the nherlands. Other asian, african and south american countries are less affected till the beginning of april 2020. 77 and 861 cases were identified  in south korea and japan, respectively. except vinam and macau sar (which had 16 and 10 covid-19 cases, respectively), the other eight countries had a totof ≤3 cases. It first appeared in wuhan, china, but has now disseminated to multiple countries in the world, including  the united states.</span>"
      ],
      "text/plain": [
       "<IPython.core.display.Markdown object>"
      ]
     },
     "metadata": {},
     "output_type": "display_data"
    },
    {
     "name": "stdout",
     "output_type": "stream",
     "text": [
      "> heart\n",
      "Bot: i am a little bit of a person\n",
      "> heart disaese\n",
      "Error: Encountered unknown word.\n",
      "> q\n"
     ]
    }
   ],
   "source": [
    "evaluateInput(encoder, decoder, searcher, voc)"
   ]
  },
  {
   "cell_type": "code",
   "execution_count": null,
   "metadata": {},
   "outputs": [],
   "source": [
    "##Result of GRU Encoder and Decoder with 10000 iter Dropout=0.1\n",
    "evaluateInput(encoder, decoder, searcher, voc)"
   ]
  },
  {
   "cell_type": "code",
   "execution_count": null,
   "metadata": {},
   "outputs": [],
   "source": [
    "##Result of LSTM Encoder and Decoder with 10000 iter Dropout=0.1\n",
    "evaluateInput(encoder, decoder, searcher, voc)"
   ]
  },
  {
   "cell_type": "code",
   "execution_count": null,
   "metadata": {},
   "outputs": [],
   "source": [
    "evaluateInput(encoder, decoder, searcher, voc)"
   ]
  },
  {
   "cell_type": "code",
   "execution_count": null,
   "metadata": {},
   "outputs": [],
   "source": [
    "evaluateInput(encoder, decoder, searcher, voc)"
   ]
  }
 ],
 "metadata": {
  "kernelspec": {
   "display_name": "Python 3",
   "language": "python",
   "name": "python3"
  },
  "language_info": {
   "codemirror_mode": {
    "name": "ipython",
    "version": 3
   },
   "file_extension": ".py",
   "mimetype": "text/x-python",
   "name": "python",
   "nbconvert_exporter": "python",
   "pygments_lexer": "ipython3",
   "version": "3.7.4"
  }
 },
 "nbformat": 4,
 "nbformat_minor": 2
}
