{
 "cells": [
  {
   "cell_type": "code",
   "execution_count": 1,
   "metadata": {},
   "outputs": [
    {
     "name": "stderr",
     "output_type": "stream",
     "text": [
      "unable to import 'smart_open.gcs', disabling that module\n"
     ]
    }
   ],
   "source": [
    "from Seq2Seq.MakeConv import MakeConv\n",
    "import torch"
   ]
  },
  {
   "cell_type": "code",
   "execution_count": 2,
   "metadata": {},
   "outputs": [],
   "source": [
    "isav=torch.cuda.is_available()\n",
    "device=torch.device('cuda' if isav else 'cpu')\n",
    "\n",
    "Task_Path='data/Tasks'\n",
    "Embedding_Path='C:/Users/mkork/Desktop/BertTry/glove.840B.300d.txt'\n",
    "meta='C:/Users/mkork/Desktop/dat/data/AllArticles.csv'"
   ]
  },
  {
   "cell_type": "code",
   "execution_count": 3,
   "metadata": {},
   "outputs": [
    {
     "name": "stdout",
     "output_type": "stream",
     "text": [
      "Please wait until create the embedding file\n"
     ]
    },
    {
     "data": {
      "application/vnd.jupyter.widget-view+json": {
       "model_id": "74a1ddb6b40745c6baf01a68260ef47c",
       "version_major": 2,
       "version_minor": 0
      },
      "text/plain": [
       "HBox(children=(IntProgress(value=1, bar_style='info', max=1), HTML(value='')))"
      ]
     },
     "metadata": {},
     "output_type": "display_data"
    },
    {
     "name": "stdout",
     "output_type": "stream",
     "text": [
      "\n",
      "Loading Meta Data\n"
     ]
    }
   ],
   "source": [
    "name='ConvAIandFriends'\n",
    "MakeConv=MakeConv(Embedding_Path, Task_Path, device, name, meta)"
   ]
  },
  {
   "cell_type": "code",
   "execution_count": 5,
   "metadata": {},
   "outputs": [
    {
     "data": {
      "text/markdown": [
       "<span style=\"color: black\">Bot: Hello I am a chatbot. Please talk to me. If you want to quit write q or bye</span>"
      ],
      "text/plain": [
       "<IPython.core.display.Markdown object>"
      ]
     },
     "metadata": {},
     "output_type": "display_data"
    },
    {
     "name": "stdout",
     "output_type": "stream",
     "text": [
      "> yo\n",
      "Bot: what video games ? is ? .\n",
      "> no, what's up?\n",
      "Bot: oh well i see . what else ? ?\n",
      "> nothing\n",
      "Bot: not a thing ? is not\n",
      "> i guess yes\n",
      "Bot: what do you do for a living ?\n",
      "> nothing i guess\n",
      "Bot: where are you from ? ?\n",
      "> u don't know\n",
      "Bot: what do you do for a living ?\n",
      "> ok i am a student\n",
      "Bot: what do you do for work ? music\n",
      "> not music\n",
      "Bot: i like music but i like country music\n",
      "> which singer is your favorite\n",
      "Bot: i like the color yellow . .\n",
      "> nevermind give me information about corona\n"
     ]
    },
    {
     "data": {
      "text/markdown": [
       "<span style=\"color: black\">Do you want to ask this:What has been published about information sharing and inter-sectoral collaboration</span>"
      ],
      "text/plain": [
       "<IPython.core.display.Markdown object>"
      ]
     },
     "metadata": {},
     "output_type": "display_data"
    },
    {
     "data": {
      "text/markdown": [
       "<span style=\"color: red\">Reminder; you can click the answer to read the article</span>"
      ],
      "text/plain": [
       "<IPython.core.display.Markdown object>"
      ]
     },
     "metadata": {},
     "output_type": "display_data"
    },
    {
     "data": {
      "text/html": [
       "<a href=https://doi.org/10.1101/2020.01.28.923169 style=\"color: blue\">My First answer is: in recent days , domestic and foreign scholars have published research results about new coronaviruses online, and some of them are non-medicscholars who use mathematics and computer technology to simulate and predict disease transmission.\r",
       "</a>"
      ],
      "text/plain": [
       "<IPython.core.display.HTML object>"
      ]
     },
     "metadata": {},
     "output_type": "display_data"
    },
    {
     "data": {
      "text/html": [
       "<a href=nan style=\"color: blue\">Another Answer is:  where did you receive your training and what made you interested in exercise and immune function-related research ? woods : i am currently an administrator and researcher at uiuc. i received my phd from the university of south carolina at columbia</a>"
      ],
      "text/plain": [
       "<IPython.core.display.HTML object>"
      ]
     },
     "metadata": {},
     "output_type": "display_data"
    },
    {
     "data": {
      "text/markdown": [
       "<span style=\"color: red\">Also the summary of 3100 article is:</span>"
      ],
      "text/plain": [
       "<IPython.core.display.Markdown object>"
      ]
     },
     "metadata": {},
     "output_type": "display_data"
    },
    {
     "data": {
      "text/markdown": [
       "<span style=\"color: black\">The summary of 3500 paper that we know is\r\n",
       " i am currently an administrator and researcher at uiuc. i received my phd from the university of south carolina at columbia. The emergence of a novel coronavirus, 2019-ncov in wuhan december 2019 has led to a globresponse to the first epidemic of this decade. Covid-19 patient was identified in south korea (hereafter, korea) on january 20,2020. deaths have most exclusively occurred in china (1666 patients ; 3. 3 %), rather than outside china. the discrepancy in the death rate bween china and other countries might be due to differences in the disease manifestation.</span>"
      ],
      "text/plain": [
       "<IPython.core.display.Markdown object>"
      ]
     },
     "metadata": {},
     "output_type": "display_data"
    },
    {
     "name": "stdout",
     "output_type": "stream",
     "text": [
      "> what about transmission\n"
     ]
    },
    {
     "data": {
      "text/markdown": [
       "<span style=\"color: black\">Do you want to ask this:What do we know about natural history, transmission, and diagnostics</span>"
      ],
      "text/plain": [
       "<IPython.core.display.Markdown object>"
      ]
     },
     "metadata": {},
     "output_type": "display_data"
    },
    {
     "data": {
      "text/markdown": [
       "<span style=\"color: red\">Reminder; you can click the answer to read the article</span>"
      ],
      "text/plain": [
       "<IPython.core.display.Markdown object>"
      ]
     },
     "metadata": {},
     "output_type": "display_data"
    },
    {
     "data": {
      "text/html": [
       "<a href=https://doi.org/10.1101/2020.02.15.950568 style=\"color: blue\">My First answer is: this novel coronavirus 33 outbreak had raised globconcern  but current knowledge on the origin and transmission 34 route of the pathogen is still limited.\r",
       "</a>"
      ],
      "text/plain": [
       "<IPython.core.display.HTML object>"
      ]
     },
     "metadata": {},
     "output_type": "display_data"
    },
    {
     "data": {
      "text/html": [
       "<a href=https://doi.org/10.1101/2020.03.29.20046631 style=\"color: blue\">Another Answer is: at this time , little is known on the impact of covid-19 on pregnancy, transmission, and fwellbeing, but preliminary data looks promising     .</a>"
      ],
      "text/plain": [
       "<IPython.core.display.HTML object>"
      ]
     },
     "metadata": {},
     "output_type": "display_data"
    },
    {
     "data": {
      "text/markdown": [
       "<span style=\"color: red\">Also the summary of 3100 article is:</span>"
      ],
      "text/plain": [
       "<IPython.core.display.Markdown object>"
      ]
     },
     "metadata": {},
     "output_type": "display_data"
    },
    {
     "data": {
      "text/markdown": [
       "<span style=\"color: black\">The summary of 3500 paper that we know is\r\n",
       " Covid-19 has spread globly within 60 days with focus areas in asia, europe and the middle east. Human-to-human transmission is occurring and there are increasing confirmed cases around multiple countries every day. The virus shares up to 80% of the gene sequence with other members of coronavirus family. A series of pneumonia cases caby a novel coronavirus, 33 namely 2019-ncov, emerged in wuhan, the capitcity of hubei province in china. The symptoms of covid-19 range from mild to severe. They can be 93 fever, dry cough, shortness of breath, and in some severe cases, kidney failure or death may occur. The virus can be transmitted from human to human. Covid-19 can be found in human respiratory epithelicells after about 96 hours, while it takes about 6 days to isolate and culture vero e6 and huh-7 cell lines. 5 human-to-human transmission has been confirmed for the virus, 6,7 which is related to acute respiratory syndrome and middle eastern respiratory syndrome. The first person in the united states with diagnosed 2019-ncov infection was reported. Covid-19 has spread to more than three dozen countries with over 80,000 confirmed cases by late february. in a low-to-middle-income country could lead to massive numbers of patients with acute respiratory disease and death. in china, policies include unprecedented lockdowns to reduce contacts bween individus. A novel coronavirus (sars-cov-2) that emerged out of the city of wuhan, china in december 2019 has ready demonstrated its potentito generate explosive outbreaks in confined stings and cross borders following human mobility patterns. The main route of human-to-human transmission of 2019-ncov is probably through respiratory dropls. respiratory support is the most important means of life support. Sars-cov-2 may be less deadly than the influenza virus that hospits dewith on an annubasis, and transmission seems to occur mainly through dropls. We do not know what, if any, long-term effects this virus might have on the human body. The main source of infection comes from covid-19 pneumonia patients currently. The coronavirus is highly contagious and highly contagious. The virus has an incubation period of 2-14 days before symptoms appear. There are 85,403 cases worldwide, of which 79,394 correspond to china. 53 countries, including spain, have reported at least one case. The emergence of a novel coronavirus, 2019-ncov in wuhan december 2019 has led to a globresponse to the first epidemic of this decade. It has highlighted two key issues : first, china ' s rapid and efficient capacity to identify and investigate a newly emerging disease. and second, our continued globvulnerability to epidemics and pandemics. A cluster of pneumonia caby a novel coronavirus, covid-19, was first reported in wuhan in the hubei province in china in late december 2019. since then, severthousand cases have been reported in mainland china, with spread to over two dozen countries. we strongly believe that the virus is likely to be 190 spreading through the air. we present the only case with sars-cov-2 infection during pregnancy in qingdao. We propose an adaptation of current recommendations for practice. Lopinavir / ritonavir treatment. (lopinavirs / ritonsavir) treatment. Treatment for liver cancer. (ritonavirs / lopinavids) treatment for liver cancers. ( lopinvir / litonavids)</span>"
      ],
      "text/plain": [
       "<IPython.core.display.Markdown object>"
      ]
     },
     "metadata": {},
     "output_type": "display_data"
    },
    {
     "name": "stdout",
     "output_type": "stream",
     "text": [
      "> bye\n"
     ]
    },
    {
     "data": {
      "text/markdown": [
       "<span style=\"color: black\">Have a Good Day</span>"
      ],
      "text/plain": [
       "<IPython.core.display.Markdown object>"
      ]
     },
     "metadata": {},
     "output_type": "display_data"
    }
   ],
   "source": [
    "##If it gives Cuda error try to run this cell again\n",
    "MakeConv.startConv()"
   ]
  }
 ],
 "metadata": {
  "kernelspec": {
   "display_name": "Python 3",
   "language": "python",
   "name": "python3"
  },
  "language_info": {
   "codemirror_mode": {
    "name": "ipython",
    "version": 3
   },
   "file_extension": ".py",
   "mimetype": "text/x-python",
   "name": "python",
   "nbconvert_exporter": "python",
   "pygments_lexer": "ipython3",
   "version": "3.7.4"
  }
 },
 "nbformat": 4,
 "nbformat_minor": 2
}
