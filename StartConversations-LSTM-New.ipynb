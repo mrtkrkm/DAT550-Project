{
 "cells": [
  {
   "cell_type": "code",
   "execution_count": 1,
   "metadata": {},
   "outputs": [
    {
     "name": "stderr",
     "output_type": "stream",
     "text": [
      "unable to import 'smart_open.gcs', disabling that module\n"
     ]
    }
   ],
   "source": [
    "from Seq2Seq.MakeConv import MakeConv\n",
    "import torch"
   ]
  },
  {
   "cell_type": "code",
   "execution_count": 2,
   "metadata": {},
   "outputs": [],
   "source": [
    "isav=torch.cuda.is_available()\n",
    "device=torch.device('cuda' if isav else 'cpu')\n",
    "\n",
    "Task_Path='data/Tasks'\n",
    "Embedding_Path='C:/Users/mkork/Desktop/BertTry/glove.840B.300d.txt'\n",
    "meta='C:/Users/mkork/Desktop/dat/data/AllArticles.csv'"
   ]
  },
  {
   "cell_type": "code",
   "execution_count": 3,
   "metadata": {},
   "outputs": [
    {
     "name": "stdout",
     "output_type": "stream",
     "text": [
      "Please wait until create the embedding file\n"
     ]
    },
    {
     "data": {
      "application/vnd.jupyter.widget-view+json": {
       "model_id": "81a3552cf3c0428e922d946fd3e9097c",
       "version_major": 2,
       "version_minor": 0
      },
      "text/plain": [
       "HBox(children=(IntProgress(value=1, bar_style='info', max=1), HTML(value='')))"
      ]
     },
     "metadata": {},
     "output_type": "display_data"
    },
    {
     "name": "stdout",
     "output_type": "stream",
     "text": [
      "\n",
      "Loading Meta Data\n"
     ]
    }
   ],
   "source": [
    "name='ConvAIandFriendsLS'\n",
    "MakeConv=MakeConv(Embedding_Path, Task_Path, device, name, meta)"
   ]
  },
  {
   "cell_type": "code",
   "execution_count": 6,
   "metadata": {},
   "outputs": [
    {
     "data": {
      "text/markdown": [
       "<span style=\"color: black\">Bot: Hello I am a bot. If you want to quit write q or bye</span>"
      ],
      "text/plain": [
       "<IPython.core.display.Markdown object>"
      ]
     },
     "metadata": {},
     "output_type": "display_data"
    },
    {
     "name": "stdout",
     "output_type": "stream",
     "text": [
      "> yo\n",
      "Bot: what video games ? ? ? ?\n",
      "> no, what's up?\n",
      "Bot: i am at my tv . ?\n",
      "> really\n",
      "Bot: why ? is interesting !\n",
      "> yes\n",
      "Bot: do you have any hobbies ? again .\n",
      "> playing games\n",
      "Bot: i like driving my cars i ve three ferrari\n",
      "> so you are rich\n",
      "Bot: that is cool . i am an right .\n",
      "> yeah that's cool\n",
      "Bot: what do you do for a living ? ?\n",
      "> nothing i guess\n",
      "Bot: ok i ll get it soon .\n",
      "> what\n",
      "Bot: i love to cook .\n",
      "> what kind of cook\n",
      "Bot: i cook cook cook than you\n",
      "> shut up\n",
      "Bot: that is what happened with me ? !\n",
      "> anyway give me information about virus\n"
     ]
    },
    {
     "data": {
      "text/markdown": [
       "<span style=\"color: black\">Do you want to ask this:What animal did 2019-nCoV come from</span>"
      ],
      "text/plain": [
       "<IPython.core.display.Markdown object>"
      ]
     },
     "metadata": {},
     "output_type": "display_data"
    },
    {
     "data": {
      "text/markdown": [
       "<span style=\"color: red\">Reminder; you can click the answer to read the article</span>"
      ],
      "text/plain": [
       "<IPython.core.display.Markdown object>"
      ]
     },
     "metadata": {},
     "output_type": "display_data"
    },
    {
     "data": {
      "text/html": [
       "<a href=nan style=\"color: blue\">My First answer is: emerging infectious diseases (eids) such as ebola, influenza, sars, mers, and, most recently , coronavirus (2019-ncov) cause large-sce mortity and morbidity, disrupt trade and travel nworks, and stimulate civil unrest  .\r",
       "</a>"
      ],
      "text/plain": [
       "<IPython.core.display.HTML object>"
      ]
     },
     "metadata": {},
     "output_type": "display_data"
    },
    {
     "data": {
      "text/html": [
       "<a href=nan style=\"color: blue\">Another Answer is: emerging infectious diseases (eids) such as ebola, influenza, sars, mers, and, most recently , coronavirus (2019-ncov) cause large-sce mortity and morbidity, disrupt trade and travel nworks, and stimulate civil unrest  .</a>"
      ],
      "text/plain": [
       "<IPython.core.display.HTML object>"
      ]
     },
     "metadata": {},
     "output_type": "display_data"
    },
    {
     "data": {
      "text/markdown": [
       "<span style=\"color: red\">Also the summary of 3100 article is:</span>"
      ],
      "text/plain": [
       "<IPython.core.display.Markdown object>"
      ]
     },
     "metadata": {},
     "output_type": "display_data"
    },
    {
     "data": {
      "text/markdown": [
       "<span style=\"color: black\">The summary of 3500 paper that we know is\r\n",
       "  coronavirus (2019-ncov) cause large-sce mortity and morbidity, disrupt trade and travel nworks, and stimulate civil unrest. The 2019-ncOV belongs to bacoronavirus which so contains sars-cov and middle east respiratory syndrome cov (mers-c Cov) The first case of coronav virus disease 2019 was reported in korea on January 20, 2020. The 2019  novel coronavirus (2019-ncov) outbreak now spreading across the world. The pathogen originated  from bats and the intermediate host was the masked pm civ.. editor: la infección por el  nuevo coronav virus ( 2019- NCov) The coronavirus disease 2019 outbreak originated  from wuhan has spread to more than 100 countries. The most likely reservoir  were bats, with evidence that the virus was transmitted to a human through an intermediate host, probably a pm civor raccoon dog. The 2019-ncov is an bacoronavirus that possibly originated from wild anims that genome is highly homologous to bats 2. ivir of a wide range of coronaviruses in vitro and in vivo , may further indicate utility of remdesivir against the novel coronavirus 2019-ncov emerging from wuhan, china. This virus, so originating  from bats, and intermediate hosts, camels and dromedaries, had its greatest expression in the middle east, and the risk of new cases is still not considered to be over. The chinese government has converted 13 large-sce public places in wuhan city, hubei province into makeshift hospits for patients in the coronavirus disease 2019  with mild symptoms. Such conversion will continue to contain the spread of the covid-19. Being \"radiologicly idle,\" at least in the short term, may very well stimulate a desire for meaningful contribution.</span>"
      ],
      "text/plain": [
       "<IPython.core.display.Markdown object>"
      ]
     },
     "metadata": {},
     "output_type": "display_data"
    },
    {
     "name": "stdout",
     "output_type": "stream",
     "text": [
      "> transmission\n"
     ]
    },
    {
     "data": {
      "text/markdown": [
       "<span style=\"color: black\">Do you want to ask this:What do we know about natural history, transmission, and diagnostics</span>"
      ],
      "text/plain": [
       "<IPython.core.display.Markdown object>"
      ]
     },
     "metadata": {},
     "output_type": "display_data"
    },
    {
     "data": {
      "text/markdown": [
       "<span style=\"color: red\">Reminder; you can click the answer to read the article</span>"
      ],
      "text/plain": [
       "<IPython.core.display.Markdown object>"
      ]
     },
     "metadata": {},
     "output_type": "display_data"
    },
    {
     "data": {
      "text/html": [
       "<a href=https://doi.org/10.1101/2020.02.15.950568 style=\"color: blue\">My First answer is: this novel coronavirus 33 outbreak had raised globconcern  but current knowledge on the origin and transmission 34 route of the pathogen is still limited.\r",
       "</a>"
      ],
      "text/plain": [
       "<IPython.core.display.HTML object>"
      ]
     },
     "metadata": {},
     "output_type": "display_data"
    },
    {
     "data": {
      "text/html": [
       "<a href=https://doi.org/10.1101/2020.03.29.20046631 style=\"color: blue\">Another Answer is: at this time , little is known on the impact of covid-19 on pregnancy, transmission, and fwellbeing, but preliminary data looks promising     .</a>"
      ],
      "text/plain": [
       "<IPython.core.display.HTML object>"
      ]
     },
     "metadata": {},
     "output_type": "display_data"
    },
    {
     "data": {
      "text/markdown": [
       "<span style=\"color: red\">Also the summary of 3100 article is:</span>"
      ],
      "text/plain": [
       "<IPython.core.display.Markdown object>"
      ]
     },
     "metadata": {},
     "output_type": "display_data"
    },
    {
     "data": {
      "text/markdown": [
       "<span style=\"color: black\">The summary of 3500 paper that we know is\r\n",
       " Covid-19 has spread globly within 60 days with focus areas in asia, europe and the middle east. Human-to-human transmission is occurring and there are increasing confirmed cases around multiple countries every day. The virus shares up to 80% of the gene sequence with other members of coronavirus family. A series of pneumonia cases caby a novel coronavirus, 33 namely 2019-ncov, emerged in wuhan, the capitcity of hubei province in china. The symptoms of covid-19 range from mild to severe. They can be 93 fever, dry cough, shortness of breath, and in some severe cases, kidney failure or death may occur. The virus can be transmitted from human to human. Covid-19 can be found in human respiratory epithelicells after about 96 hours, while it takes about 6 days to isolate and culture vero e6 and huh-7 cell lines. 5 human-to-human transmission has been confirmed for the virus, 6,7 which is related to acute respiratory syndrome and middle eastern respiratory syndrome. The first person in the united states with diagnosed 2019-ncov infection was reported. Covid-19 has spread to more than three dozen countries with over 80,000 confirmed cases by late february. in a low-to-middle-income country could lead to massive numbers of patients with acute respiratory disease and death. in china, policies include unprecedented lockdowns to reduce contacts bween individus. A novel coronavirus (sars-cov-2) that emerged out of the city of wuhan, china in december 2019 has ready demonstrated its potentito generate explosive outbreaks in confined stings and cross borders following human mobility patterns. The main route of human-to-human transmission of 2019-ncov is probably through respiratory dropls. respiratory support is the most important means of life support. Sars-cov-2 may be less deadly than the influenza virus that hospits dewith on an annubasis, and transmission seems to occur mainly through dropls. We do not know what, if any, long-term effects this virus might have on the human body. The main source of infection comes from covid-19 pneumonia patients currently. The coronavirus is highly contagious and highly contagious. The virus has an incubation period of 2-14 days before symptoms appear. There are 85,403 cases worldwide, of which 79,394 correspond to china. 53 countries, including spain, have reported at least one case. The emergence of a novel coronavirus, 2019-ncov in wuhan december 2019 has led to a globresponse to the first epidemic of this decade. It has highlighted two key issues : first, china ' s rapid and efficient capacity to identify and investigate a newly emerging disease. and second, our continued globvulnerability to epidemics and pandemics. A cluster of pneumonia caby a novel coronavirus, covid-19, was first reported in wuhan in the hubei province in china in late december 2019. since then, severthousand cases have been reported in mainland china, with spread to over two dozen countries. we strongly believe that the virus is likely to be 190 spreading through the air. we present the only case with sars-cov-2 infection during pregnancy in qingdao. We propose an adaptation of current recommendations for practice. Lopinavir / ritonavir treatment. (lopinavirs / ritonsavir) treatment. Treatment for liver cancer. (ritonavirs / lopinavids) treatment for liver cancers. ( lopinvir / litonavids)</span>"
      ],
      "text/plain": [
       "<IPython.core.display.Markdown object>"
      ]
     },
     "metadata": {},
     "output_type": "display_data"
    },
    {
     "name": "stdout",
     "output_type": "stream",
     "text": [
      "> bye\n"
     ]
    },
    {
     "data": {
      "text/markdown": [
       "<span style=\"color: black\">Have a Good Day</span>"
      ],
      "text/plain": [
       "<IPython.core.display.Markdown object>"
      ]
     },
     "metadata": {},
     "output_type": "display_data"
    }
   ],
   "source": [
    "##If it gives Cuda error try to run this cell again\n",
    "MakeConv.startConv()"
   ]
  }
 ],
 "metadata": {
  "kernelspec": {
   "display_name": "Python 3",
   "language": "python",
   "name": "python3"
  },
  "language_info": {
   "codemirror_mode": {
    "name": "ipython",
    "version": 3
   },
   "file_extension": ".py",
   "mimetype": "text/x-python",
   "name": "python",
   "nbconvert_exporter": "python",
   "pygments_lexer": "ipython3",
   "version": "3.7.4"
  }
 },
 "nbformat": 4,
 "nbformat_minor": 2
}
