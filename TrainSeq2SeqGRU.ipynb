{
 "cells": [
  {
   "cell_type": "code",
   "execution_count": 1,
   "metadata": {},
   "outputs": [],
   "source": [
    "from __future__ import absolute_import\n",
    "from __future__ import division\n",
    "from __future__ import print_function\n",
    "from __future__ import unicode_literals\n",
    "import os\n",
    "import json \n",
    "import unicodedata\n",
    "import re\n",
    "import random\n",
    "\n",
    "\n",
    "import torch\n",
    "from torch.jit import script, trace\n",
    "import torch.nn as nn\n",
    "from torch import optim\n",
    "import torch.nn.functional as F\n",
    "import csv\n",
    "import random\n",
    "import re\n",
    "import os\n",
    "import unicodedata\n",
    "import codecs\n",
    "from io import open\n",
    "import itertools\n",
    "import math\n",
    "from Seq2Seq.CreatePairsandVoc import CreatePairs\n",
    "from Seq2Seq.GetTrainData import GetTrainData\n",
    "from Seq2Seq.Training import Training\n",
    "import matplotlib.pyplot as plt\n",
    "import numpy as np\n",
    "USE_CUDA = torch.cuda.is_available()\n",
    "device=torch.device('cpu')\n",
    "device = torch.device(\"cuda\" if USE_CUDA else \"cpu\")"
   ]
  },
  {
   "cell_type": "code",
   "execution_count": 2,
   "metadata": {},
   "outputs": [],
   "source": [
    "DDIR='data'\n",
    "corpus_f='friends-corpus'\n",
    "corpuss='ConvAIandFriends'\n",
    "utterancesPath='utterances.jsonl'\n",
    "corpus_chatter='chatterbot'\n",
    "Coca='coqa-train-v1.0.json'\n",
    "convai=['data_volunteers.json','data_intermediate.json','data_tolokers.json']"
   ]
  },
  {
   "cell_type": "code",
   "execution_count": 3,
   "metadata": {},
   "outputs": [],
   "source": [
    "cpv=CreatePairs(DDIR,corpus_f,utterancesPath,10,convai,corpus_chatter)"
   ]
  },
  {
   "cell_type": "code",
   "execution_count": 4,
   "metadata": {},
   "outputs": [
    {
     "name": "stdout",
     "output_type": "stream",
     "text": [
      "Starting\n",
      "Number of pairs is 109623\n",
      "After filters Number of pairs is 42394\n",
      "Counted words: 8451\n"
     ]
    }
   ],
   "source": [
    "voc, pairs = cpv.load_data()"
   ]
  },
  {
   "cell_type": "code",
   "execution_count": 5,
   "metadata": {},
   "outputs": [],
   "source": [
    "gtd=GetTrainData(voc)\n",
    "small_batch_size = 5\n",
    "batches = gtd.batch2TrainData([random.choice(pairs) for _ in range(small_batch_size)])\n",
    "input_variable, lengths, target_variable, mask, max_target_len = batches"
   ]
  },
  {
   "cell_type": "code",
   "execution_count": 7,
   "metadata": {},
   "outputs": [
    {
     "name": "stdout",
     "output_type": "stream",
     "text": [
      "Building encoder and decoder ...\n",
      "Models built and ready to go!\n"
     ]
    }
   ],
   "source": [
    "hidden_size=600\n",
    "dropot=0.2\n",
    "encoder_n_layer=2\n",
    "decode_n_layer=2\n",
    "batchesh_size=64\n",
    "Train=Training(voc,device, hidden_size,encoder_n_layer, decode_n_layer, dropot, batch_size=64)"
   ]
  },
  {
   "cell_type": "code",
   "execution_count": 9,
   "metadata": {},
   "outputs": [
    {
     "name": "stdout",
     "output_type": "stream",
     "text": [
      "Building optimizers ...\n",
      "Starting Training!\n",
      "Initializing ...\n",
      "Training...\n",
      "Iteration: 100; Percent complete: 0.5%; Average loss: 4.9321\n",
      "Iteration: 200; Percent complete: 1.0%; Average loss: 3.8985\n",
      "Iteration: 300; Percent complete: 1.5%; Average loss: 3.5996\n",
      "Iteration: 400; Percent complete: 2.0%; Average loss: 3.4082\n",
      "Iteration: 500; Percent complete: 2.5%; Average loss: 3.2725\n",
      "Iteration: 600; Percent complete: 3.0%; Average loss: 3.1491\n",
      "Iteration: 700; Percent complete: 3.5%; Average loss: 3.0554\n",
      "Iteration: 800; Percent complete: 4.0%; Average loss: 3.0369\n",
      "Iteration: 900; Percent complete: 4.5%; Average loss: 2.9301\n",
      "Iteration: 1000; Percent complete: 5.0%; Average loss: 2.8674\n",
      "Iteration: 1100; Percent complete: 5.5%; Average loss: 2.8454\n",
      "Iteration: 1200; Percent complete: 6.0%; Average loss: 2.7709\n",
      "Iteration: 1300; Percent complete: 6.5%; Average loss: 2.7103\n",
      "Iteration: 1400; Percent complete: 7.0%; Average loss: 2.7054\n",
      "Iteration: 1500; Percent complete: 7.5%; Average loss: 2.6613\n",
      "Iteration: 1600; Percent complete: 8.0%; Average loss: 2.5842\n",
      "Iteration: 1700; Percent complete: 8.5%; Average loss: 2.5710\n",
      "Iteration: 1800; Percent complete: 9.0%; Average loss: 2.4768\n",
      "Iteration: 1900; Percent complete: 9.5%; Average loss: 2.4560\n",
      "Iteration: 2000; Percent complete: 10.0%; Average loss: 2.4369\n",
      "Iteration: 2100; Percent complete: 10.5%; Average loss: 2.4195\n",
      "Iteration: 2200; Percent complete: 11.0%; Average loss: 2.3756\n",
      "Iteration: 2300; Percent complete: 11.5%; Average loss: 2.3251\n",
      "Iteration: 2400; Percent complete: 12.0%; Average loss: 2.3101\n",
      "Iteration: 2500; Percent complete: 12.5%; Average loss: 2.2536\n",
      "Iteration: 2600; Percent complete: 13.0%; Average loss: 2.2471\n",
      "Iteration: 2700; Percent complete: 13.5%; Average loss: 2.1530\n",
      "Iteration: 2800; Percent complete: 14.0%; Average loss: 2.1381\n",
      "Iteration: 2900; Percent complete: 14.5%; Average loss: 2.1371\n",
      "Iteration: 3000; Percent complete: 15.0%; Average loss: 2.1045\n",
      "Iteration: 3100; Percent complete: 15.5%; Average loss: 2.0654\n",
      "Iteration: 3200; Percent complete: 16.0%; Average loss: 2.0475\n",
      "Iteration: 3300; Percent complete: 16.5%; Average loss: 2.0116\n",
      "Iteration: 3400; Percent complete: 17.0%; Average loss: 1.9907\n",
      "Iteration: 3500; Percent complete: 17.5%; Average loss: 1.9222\n",
      "Iteration: 3600; Percent complete: 18.0%; Average loss: 1.9249\n",
      "Iteration: 3700; Percent complete: 18.5%; Average loss: 1.8968\n",
      "Iteration: 3800; Percent complete: 19.0%; Average loss: 1.8916\n",
      "Iteration: 3900; Percent complete: 19.5%; Average loss: 1.8217\n",
      "Iteration: 4000; Percent complete: 20.0%; Average loss: 1.8303\n",
      "Iteration: 4100; Percent complete: 20.5%; Average loss: 1.7942\n",
      "Iteration: 4200; Percent complete: 21.0%; Average loss: 1.7506\n",
      "Iteration: 4300; Percent complete: 21.5%; Average loss: 1.7387\n",
      "Iteration: 4400; Percent complete: 22.0%; Average loss: 1.7001\n",
      "Iteration: 4500; Percent complete: 22.5%; Average loss: 1.6627\n",
      "Iteration: 4600; Percent complete: 23.0%; Average loss: 1.6485\n",
      "Iteration: 4700; Percent complete: 23.5%; Average loss: 1.6247\n",
      "Iteration: 4800; Percent complete: 24.0%; Average loss: 1.5749\n",
      "Iteration: 4900; Percent complete: 24.5%; Average loss: 1.5569\n",
      "Iteration: 5000; Percent complete: 25.0%; Average loss: 1.5508\n",
      "Iteration: 5100; Percent complete: 25.5%; Average loss: 1.5318\n",
      "Iteration: 5200; Percent complete: 26.0%; Average loss: 1.5125\n",
      "Iteration: 5300; Percent complete: 26.5%; Average loss: 1.4816\n",
      "Iteration: 5400; Percent complete: 27.0%; Average loss: 1.4633\n",
      "Iteration: 5500; Percent complete: 27.5%; Average loss: 1.4393\n",
      "Iteration: 5600; Percent complete: 28.0%; Average loss: 1.4246\n",
      "Iteration: 5700; Percent complete: 28.5%; Average loss: 1.3894\n",
      "Iteration: 5800; Percent complete: 29.0%; Average loss: 1.3617\n",
      "Iteration: 5900; Percent complete: 29.5%; Average loss: 1.3585\n",
      "Iteration: 6000; Percent complete: 30.0%; Average loss: 1.3380\n",
      "Iteration: 6100; Percent complete: 30.5%; Average loss: 1.3036\n",
      "Iteration: 6200; Percent complete: 31.0%; Average loss: 1.3187\n",
      "Iteration: 6300; Percent complete: 31.5%; Average loss: 1.2663\n",
      "Iteration: 6400; Percent complete: 32.0%; Average loss: 1.2661\n",
      "Iteration: 6500; Percent complete: 32.5%; Average loss: 1.2416\n",
      "Iteration: 6600; Percent complete: 33.0%; Average loss: 1.2113\n",
      "Iteration: 6700; Percent complete: 33.5%; Average loss: 1.1909\n",
      "Iteration: 6800; Percent complete: 34.0%; Average loss: 1.1827\n",
      "Iteration: 6900; Percent complete: 34.5%; Average loss: 1.1694\n",
      "Iteration: 7000; Percent complete: 35.0%; Average loss: 1.1366\n",
      "Iteration: 7100; Percent complete: 35.5%; Average loss: 1.1281\n",
      "Iteration: 7200; Percent complete: 36.0%; Average loss: 1.1152\n",
      "Iteration: 7300; Percent complete: 36.5%; Average loss: 1.1017\n",
      "Iteration: 7400; Percent complete: 37.0%; Average loss: 1.0739\n",
      "Iteration: 7500; Percent complete: 37.5%; Average loss: 1.0718\n",
      "Iteration: 7600; Percent complete: 38.0%; Average loss: 1.0549\n",
      "Iteration: 7700; Percent complete: 38.5%; Average loss: 1.0224\n",
      "Iteration: 7800; Percent complete: 39.0%; Average loss: 0.9949\n",
      "Iteration: 7900; Percent complete: 39.5%; Average loss: 0.9994\n",
      "Iteration: 8000; Percent complete: 40.0%; Average loss: 0.9782\n",
      "Iteration: 8100; Percent complete: 40.5%; Average loss: 0.9760\n",
      "Iteration: 8200; Percent complete: 41.0%; Average loss: 0.9535\n",
      "Iteration: 8300; Percent complete: 41.5%; Average loss: 0.9452\n",
      "Iteration: 8400; Percent complete: 42.0%; Average loss: 0.9232\n",
      "Iteration: 8500; Percent complete: 42.5%; Average loss: 0.8880\n",
      "Iteration: 8600; Percent complete: 43.0%; Average loss: 0.9013\n",
      "Iteration: 8700; Percent complete: 43.5%; Average loss: 0.8959\n",
      "Iteration: 8800; Percent complete: 44.0%; Average loss: 0.8810\n",
      "Iteration: 8900; Percent complete: 44.5%; Average loss: 0.8816\n",
      "Iteration: 9000; Percent complete: 45.0%; Average loss: 0.8372\n",
      "Iteration: 9100; Percent complete: 45.5%; Average loss: 0.8349\n",
      "Iteration: 9200; Percent complete: 46.0%; Average loss: 0.8260\n",
      "Iteration: 9300; Percent complete: 46.5%; Average loss: 0.8150\n",
      "Iteration: 9400; Percent complete: 47.0%; Average loss: 0.7940\n",
      "Iteration: 9500; Percent complete: 47.5%; Average loss: 0.7669\n",
      "Iteration: 9600; Percent complete: 48.0%; Average loss: 0.7663\n",
      "Iteration: 9700; Percent complete: 48.5%; Average loss: 0.7699\n",
      "Iteration: 9800; Percent complete: 49.0%; Average loss: 0.7391\n",
      "Iteration: 9900; Percent complete: 49.5%; Average loss: 0.7261\n",
      "Iteration: 10000; Percent complete: 50.0%; Average loss: 0.7343\n",
      "Iteration: 10100; Percent complete: 50.5%; Average loss: 0.7311\n",
      "Iteration: 10200; Percent complete: 51.0%; Average loss: 0.7189\n",
      "Iteration: 10300; Percent complete: 51.5%; Average loss: 0.7144\n",
      "Iteration: 10400; Percent complete: 52.0%; Average loss: 0.6967\n",
      "Iteration: 10500; Percent complete: 52.5%; Average loss: 0.6829\n",
      "Iteration: 10600; Percent complete: 53.0%; Average loss: 0.6757\n",
      "Iteration: 10700; Percent complete: 53.5%; Average loss: 0.6577\n",
      "Iteration: 10800; Percent complete: 54.0%; Average loss: 0.6526\n",
      "Iteration: 10900; Percent complete: 54.5%; Average loss: 0.6384\n",
      "Iteration: 11000; Percent complete: 55.0%; Average loss: 0.6455\n",
      "Iteration: 11100; Percent complete: 55.5%; Average loss: 0.6324\n",
      "Iteration: 11200; Percent complete: 56.0%; Average loss: 0.6317\n",
      "Iteration: 11300; Percent complete: 56.5%; Average loss: 0.6284\n",
      "Iteration: 11400; Percent complete: 57.0%; Average loss: 0.6294\n",
      "Iteration: 11500; Percent complete: 57.5%; Average loss: 0.6129\n",
      "Iteration: 11600; Percent complete: 58.0%; Average loss: 0.6160\n",
      "Iteration: 11700; Percent complete: 58.5%; Average loss: 0.6075\n",
      "Iteration: 11800; Percent complete: 59.0%; Average loss: 0.5967\n",
      "Iteration: 11900; Percent complete: 59.5%; Average loss: 0.5948\n",
      "Iteration: 12000; Percent complete: 60.0%; Average loss: 0.5726\n",
      "Iteration: 12100; Percent complete: 60.5%; Average loss: 0.5711\n",
      "Iteration: 12200; Percent complete: 61.0%; Average loss: 0.5669\n",
      "Iteration: 12300; Percent complete: 61.5%; Average loss: 0.5738\n",
      "Iteration: 12400; Percent complete: 62.0%; Average loss: 0.5460\n",
      "Iteration: 12500; Percent complete: 62.5%; Average loss: 0.5440\n",
      "Iteration: 12600; Percent complete: 63.0%; Average loss: 0.5359\n",
      "Iteration: 12700; Percent complete: 63.5%; Average loss: 0.5441\n",
      "Iteration: 12800; Percent complete: 64.0%; Average loss: 0.5456\n",
      "Iteration: 12900; Percent complete: 64.5%; Average loss: 0.5354\n"
     ]
    },
    {
     "name": "stdout",
     "output_type": "stream",
     "text": [
      "Iteration: 13000; Percent complete: 65.0%; Average loss: 0.5283\n",
      "Iteration: 13100; Percent complete: 65.5%; Average loss: 0.5267\n",
      "Iteration: 13200; Percent complete: 66.0%; Average loss: 0.5177\n",
      "Iteration: 13300; Percent complete: 66.5%; Average loss: 0.5203\n",
      "Iteration: 13400; Percent complete: 67.0%; Average loss: 0.5086\n",
      "Iteration: 13500; Percent complete: 67.5%; Average loss: 0.5142\n",
      "Iteration: 13600; Percent complete: 68.0%; Average loss: 0.4937\n",
      "Iteration: 13700; Percent complete: 68.5%; Average loss: 0.4967\n",
      "Iteration: 13800; Percent complete: 69.0%; Average loss: 0.4811\n",
      "Iteration: 13900; Percent complete: 69.5%; Average loss: 0.4809\n",
      "Iteration: 14000; Percent complete: 70.0%; Average loss: 0.4689\n",
      "Iteration: 14100; Percent complete: 70.5%; Average loss: 0.4685\n",
      "Iteration: 14200; Percent complete: 71.0%; Average loss: 0.4735\n",
      "Iteration: 14300; Percent complete: 71.5%; Average loss: 0.4704\n",
      "Iteration: 14400; Percent complete: 72.0%; Average loss: 0.4638\n",
      "Iteration: 14500; Percent complete: 72.5%; Average loss: 0.4676\n",
      "Iteration: 14600; Percent complete: 73.0%; Average loss: 0.4549\n",
      "Iteration: 14700; Percent complete: 73.5%; Average loss: 0.4622\n",
      "Iteration: 14800; Percent complete: 74.0%; Average loss: 0.4508\n",
      "Iteration: 14900; Percent complete: 74.5%; Average loss: 0.4484\n",
      "Iteration: 15000; Percent complete: 75.0%; Average loss: 0.4383\n",
      "Iteration: 15100; Percent complete: 75.5%; Average loss: 0.4396\n",
      "Iteration: 15200; Percent complete: 76.0%; Average loss: 0.4392\n",
      "Iteration: 15300; Percent complete: 76.5%; Average loss: 0.4450\n",
      "Iteration: 15400; Percent complete: 77.0%; Average loss: 0.4403\n",
      "Iteration: 15500; Percent complete: 77.5%; Average loss: 0.4364\n",
      "Iteration: 15600; Percent complete: 78.0%; Average loss: 0.4296\n",
      "Iteration: 15700; Percent complete: 78.5%; Average loss: 0.4234\n",
      "Iteration: 15800; Percent complete: 79.0%; Average loss: 0.4232\n",
      "Iteration: 15900; Percent complete: 79.5%; Average loss: 0.4227\n",
      "Iteration: 16000; Percent complete: 80.0%; Average loss: 0.4279\n",
      "Iteration: 16100; Percent complete: 80.5%; Average loss: 0.4264\n",
      "Iteration: 16200; Percent complete: 81.0%; Average loss: 0.4212\n",
      "Iteration: 16300; Percent complete: 81.5%; Average loss: 0.4214\n",
      "Iteration: 16400; Percent complete: 82.0%; Average loss: 0.4088\n",
      "Iteration: 16500; Percent complete: 82.5%; Average loss: 0.4136\n",
      "Iteration: 16600; Percent complete: 83.0%; Average loss: 0.4179\n",
      "Iteration: 16700; Percent complete: 83.5%; Average loss: 0.4135\n",
      "Iteration: 16800; Percent complete: 84.0%; Average loss: 0.4075\n",
      "Iteration: 16900; Percent complete: 84.5%; Average loss: 0.4132\n",
      "Iteration: 17000; Percent complete: 85.0%; Average loss: 0.4104\n",
      "Iteration: 17100; Percent complete: 85.5%; Average loss: 0.4116\n",
      "Iteration: 17200; Percent complete: 86.0%; Average loss: 0.3955\n",
      "Iteration: 17300; Percent complete: 86.5%; Average loss: 0.4014\n",
      "Iteration: 17400; Percent complete: 87.0%; Average loss: 0.4017\n",
      "Iteration: 17500; Percent complete: 87.5%; Average loss: 0.4025\n",
      "Iteration: 17600; Percent complete: 88.0%; Average loss: 0.3987\n",
      "Iteration: 17700; Percent complete: 88.5%; Average loss: 0.4073\n",
      "Iteration: 17800; Percent complete: 89.0%; Average loss: 0.4128\n",
      "Iteration: 17900; Percent complete: 89.5%; Average loss: 0.3907\n",
      "Iteration: 18000; Percent complete: 90.0%; Average loss: 0.3809\n",
      "Iteration: 18100; Percent complete: 90.5%; Average loss: 0.3820\n",
      "Iteration: 18200; Percent complete: 91.0%; Average loss: 0.3930\n",
      "Iteration: 18300; Percent complete: 91.5%; Average loss: 0.3924\n",
      "Iteration: 18400; Percent complete: 92.0%; Average loss: 0.3782\n",
      "Iteration: 18500; Percent complete: 92.5%; Average loss: 0.3829\n",
      "Iteration: 18600; Percent complete: 93.0%; Average loss: 0.3851\n",
      "Iteration: 18700; Percent complete: 93.5%; Average loss: 0.3880\n",
      "Iteration: 18800; Percent complete: 94.0%; Average loss: 0.3861\n",
      "Iteration: 18900; Percent complete: 94.5%; Average loss: 0.3814\n",
      "Iteration: 19000; Percent complete: 95.0%; Average loss: 0.3859\n",
      "Iteration: 19100; Percent complete: 95.5%; Average loss: 0.3807\n",
      "Iteration: 19200; Percent complete: 96.0%; Average loss: 0.3720\n",
      "Iteration: 19300; Percent complete: 96.5%; Average loss: 0.3798\n",
      "Iteration: 19400; Percent complete: 97.0%; Average loss: 0.3735\n",
      "Iteration: 19500; Percent complete: 97.5%; Average loss: 0.3721\n",
      "Iteration: 19600; Percent complete: 98.0%; Average loss: 0.3806\n",
      "Iteration: 19700; Percent complete: 98.5%; Average loss: 0.3748\n",
      "Iteration: 19800; Percent complete: 99.0%; Average loss: 0.3763\n",
      "Iteration: 19900; Percent complete: 99.5%; Average loss: 0.3708\n",
      "Iteration: 20000; Percent complete: 100.0%; Average loss: 0.3756\n"
     ]
    }
   ],
   "source": [
    "loadfilename=None\n",
    "learning_rate = 0.0001\n",
    "decoder_learning_ratio = 5.0\n",
    "n_iteration = 20000\n",
    "print_every = 100\n",
    "save_every = 10000\n",
    "clip = 50.0\n",
    "teacher_forcing_ratio = 1.0\n",
    "\n",
    "loss=Train.fit(corpuss, corpuss, voc, pairs, learning_rate, n_iteration,print_every, save_every, clip, corpuss, \\\n",
    "          loadfilename, teacher_forcing_ratio)"
   ]
  },
  {
   "cell_type": "code",
   "execution_count": 14,
   "metadata": {},
   "outputs": [
    {
     "data": {
      "text/plain": [
       "Text(0, 0.5, 'Loss')"
      ]
     },
     "execution_count": 14,
     "metadata": {},
     "output_type": "execute_result"
    },
    {
     "data": {
      "image/png": "[encoded data removed]",
      "text/plain": [
       "<Figure size 720x720 with 1 Axes>"
      ]
     },
     "metadata": {
      "needs_background": "light"
     },
     "output_type": "display_data"
    }
   ],
   "source": [
    "fig=plt.figure(figsize=(10,10))\n",
    "plt.plot(np.arange(0, n_iteration,print_every), loss)\n",
    "plt.xlabel('Number of Iteration')\n",
    "plt.ylabel('Loss')"
   ]
  },
  {
   "cell_type": "code",
   "execution_count": null,
   "metadata": {},
   "outputs": [],
   "source": []
  }
 ],
 "metadata": {
  "kernelspec": {
   "display_name": "Python 3",
   "language": "python",
   "name": "python3"
  },
  "language_info": {
   "codemirror_mode": {
    "name": "ipython",
    "version": 3
   },
   "file_extension": ".py",
   "mimetype": "text/x-python",
   "name": "python",
   "nbconvert_exporter": "python",
   "pygments_lexer": "ipython3",
   "version": "3.7.4"
  }
 },
 "nbformat": 4,
 "nbformat_minor": 2
}
