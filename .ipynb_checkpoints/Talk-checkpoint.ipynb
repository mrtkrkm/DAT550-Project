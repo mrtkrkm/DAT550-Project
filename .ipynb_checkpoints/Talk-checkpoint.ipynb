{
 "cells": [
  {
   "cell_type": "code",
   "execution_count": 1,
   "metadata": {},
   "outputs": [
    {
     "name": "stderr",
     "output_type": "stream",
     "text": [
      "unable to import 'smart_open.gcs', disabling that module\n"
     ]
    }
   ],
   "source": [
    "import pandas as pd\n",
    "import numpy as np\n",
    "from TaskModelling import TaskModelling\n",
    "from QAModels.Question_Answering import QuestionAnswering\n",
    "from GetTasks import GetTasks\n",
    "from tqdm import notebook\n",
    "import joblib\n",
    "import datetime\n",
    "import os\n",
    "from colorama import Fore, Back, Style\n",
    "from termcolor import colored\n",
    "from IPython.display import Markdown\n",
    "import scipy.spatial.distance as distance\n",
    "import string\n",
    "from ipywidgets import interact, interactive, fixed, interact_manual\n",
    "import ipywidgets as widgets"
   ]
  },
  {
   "cell_type": "code",
   "execution_count": 2,
   "metadata": {},
   "outputs": [],
   "source": [
    "Task_Path='Tasks'\n",
    "Embedding_Path='C:/Users/mkork/Desktop/BertTry/glove.840B.300d.txt'"
   ]
  },
  {
   "cell_type": "code",
   "execution_count": 3,
   "metadata": {},
   "outputs": [
    {
     "data": {
      "application/vnd.jupyter.widget-view+json": {
       "model_id": "e38ab187d6ee492dbe4a3e016a19c092",
       "version_major": 2,
       "version_minor": 0
      },
      "text/plain": [
       "HBox(children=(IntProgress(value=1, bar_style='info', max=1), HTML(value='')))"
      ]
     },
     "metadata": {},
     "output_type": "display_data"
    },
    {
     "name": "stdout",
     "output_type": "stream",
     "text": [
      "\n"
     ]
    }
   ],
   "source": [
    "embeddings=TaskModelling(Embedding_Path,Task_Path)"
   ]
  },
  {
   "cell_type": "code",
   "execution_count": 11,
   "metadata": {},
   "outputs": [],
   "source": [
    "tasks=GetTasks.get_tasks(Task_Path)"
   ]
  },
  {
   "cell_type": "code",
   "execution_count": 37,
   "metadata": {},
   "outputs": [],
   "source": [
    "def read_dict_sum():\n",
    "    def merge_files(path_d, path_s):\n",
    "        all_dicts={}\n",
    "        all_sums={}\n",
    "        for path_d, path_s in zip(path_d, path_s):\n",
    "            dicts=joblib.load(path_d)\n",
    "            sums=joblib.load(path_s)\n",
    "            all_dicts={**all_dicts, **dicts}\n",
    "            all_sums={**all_sums, **sums}\n",
    "        return all_dicts, all_sums\n",
    "    datas='QAResults'\n",
    "    files=os.listdir(os.path.join(datas))\n",
    "    dicts=[]\n",
    "    summaries=[]\n",
    "    for file in files:\n",
    "        if file.endswith('.dic'):\n",
    "            dicts.append(os.path.join(datas,file))\n",
    "        if file.endswith('.sum'):\n",
    "            summaries.append(os.path.join(datas,file))\n",
    "    return merge_files(dicts,summaries)"
   ]
  },
  {
   "cell_type": "code",
   "execution_count": 38,
   "metadata": {},
   "outputs": [],
   "source": [
    "all_dicts, all_sums=read_dict_sum()"
   ]
  },
  {
   "cell_type": "code",
   "execution_count": 40,
   "metadata": {},
   "outputs": [],
   "source": [
    "task_questions=joblib.load('tasks/task_questions')"
   ]
  },
  {
   "cell_type": "code",
   "execution_count": 66,
   "metadata": {},
   "outputs": [],
   "source": [
    "#keys=list(dicts.keys())"
   ]
  },
  {
   "cell_type": "code",
   "execution_count": 41,
   "metadata": {},
   "outputs": [],
   "source": [
    "new_embeds=embeddings.fit()"
   ]
  },
  {
   "cell_type": "code",
   "execution_count": 90,
   "metadata": {},
   "outputs": [],
   "source": [
    "def find_task_Summary(scores):\n",
    "    text='The summary of 3500 paper that we know is'+os.linesep\n",
    "    #task=int(scores[0][-1])\n",
    "    text= text+all_sums[scores]\n",
    "    return scores, text "
   ]
  },
  {
   "cell_type": "code",
   "execution_count": 80,
   "metadata": {},
   "outputs": [],
   "source": [
    "def find_task_ques(scores):\n",
    "    text='My First answer is:'\n",
    "    #task=int(scores[0][-1])\n",
    "    rangeS=2\n",
    "    for i in range(rangeS):\n",
    "        text= text+all_dicts[scores].iloc[i,3]\n",
    "        if i<rangeS-1:\n",
    "            text= text+os.linesep+'Another Answer is:'\n",
    "    return scores, text "
   ]
  },
  {
   "cell_type": "code",
   "execution_count": 43,
   "metadata": {},
   "outputs": [],
   "source": [
    "def End_conv():\n",
    "    time=int(str(datetime.datetime.now().time())[:2])\n",
    "    if time>18 or time<6:\n",
    "        response='Have a Good evening'\n",
    "    else:\n",
    "        response='Have a Good Day'\n",
    "    return response\n",
    "  "
   ]
  },
  {
   "cell_type": "code",
   "execution_count": 49,
   "metadata": {},
   "outputs": [],
   "source": [
    "Cov_list=['COVID-19', 'SARS-CoV-2', '2019-nCov', 'SARS Coronavirus 2' ,'2019 Novel Coronavirus','2019nCoV','COVID19','SARSCoV2',\n",
    "         'SARSCoronavirus2','2019NovelCoronavirus']"
   ]
  },
  {
   "cell_type": "code",
   "execution_count": 102,
   "metadata": {},
   "outputs": [],
   "source": [
    "def check_distanceq(best,query):\n",
    "    idx=best[0]\n",
    "    query=query.translate(str.maketrans('', '', string.punctuation))\n",
    "    querys=embeddings.get_text(query)\n",
    "    distances={}\n",
    "    for query in querys:\n",
    "        if query in Cov_list:\n",
    "            query='Coronavirus'\n",
    "        query_embed=embeddings.embedding_index[query]\n",
    "        for i,sques in enumerate(task_questions[idx]):\n",
    "            sques=sques.translate(str.maketrans('', '', string.punctuation))\n",
    "            quests=embeddings.get_text(sques)\n",
    "            for qw in quests:\n",
    "                if qw in Cov_list:\n",
    "                    qw='Coronavirus'\n",
    "                value=embeddings.embedding_index[qw]\n",
    "                sim=1-distance.cosine(query_embed, value)\n",
    "                if sim>0.6:\n",
    "                    distances[i] = distances.get(i, 0) + sim\n",
    "    return distances, idx\n",
    "    #return task_questions[idx][sorted(distances.items(), key=lambda x:x[0],reverse=True)[0][0]]"
   ]
  },
  {
   "cell_type": "code",
   "execution_count": 103,
   "metadata": {},
   "outputs": [],
   "source": [
    "def sort_response(result,user_i):\n",
    "    if len(result)<1:\n",
    "        response=\"Sorry i couldn't understand your question. Can you give more detail?\"\n",
    "        quest=''\n",
    "    else:\n",
    "        best=sorted(result.items(), key=lambda x:x[1], reverse=True)[0]\n",
    "        #response=find_task_ques(best)\n",
    "        #####\n",
    "        distances, idx=check_distanceq(best,user_i)\n",
    "        if len(distances)>0:\n",
    "            items=task_questions[idx][sorted(distances.items(), key=lambda x:x[0],reverse=True)[0][0]]\n",
    "            quest,response=find_task_Summary(items)\n",
    "        else:\n",
    "            response=\"Sorry i couldn't understand your question. Can you give more detail?\"\n",
    "            quest=''\n",
    "    return quest,response"
   ]
  },
  {
   "cell_type": "code",
   "execution_count": 46,
   "metadata": {},
   "outputs": [],
   "source": [
    "ans=''\n",
    "def display_option():\n",
    "    def f(x):\n",
    "        global ans\n",
    "        ans=x\n",
    "    display (Markdown('<span style=\"color: blue\">Hello I want to help you about corona virus. \\\n",
    "    Please write what are you wondering for? If you want to quit please write bye</span>'))\n",
    "    interact(f, x=['General','Corona']);\n",
    "    return ans"
   ]
  },
  {
   "cell_type": "code",
   "execution_count": null,
   "metadata": {},
   "outputs": [],
   "source": []
  },
  {
   "cell_type": "code",
   "execution_count": 98,
   "metadata": {},
   "outputs": [],
   "source": [
    "def make_conv(ans):\n",
    "    if ans=='Corona':\n",
    "        Stop=False\n",
    "        display (Markdown('<span style=\"color: blue\">Hello I want to help you about corona virus. Please write what are you wondering for? If you want to quit please write bye</span>'))\n",
    "        while (Stop==False):\n",
    "            user_i=input()\n",
    "            if(user_i!='bye'):\n",
    "                ques=embeddings.check_distance(user_i)\n",
    "                quest, response=sort_response(ques,user_i)\n",
    "                responsek=response\n",
    "                display (Markdown(f'<span style=\"color: red\">Do you want to ask this:{quest}?</span>'))\n",
    "            else:\n",
    "                response=End_conv()\n",
    "                Stop=True\n",
    "            if len(response.split('\\n'))>1:\n",
    "                for resp_p in response.split('\\n'):\n",
    "                    display(Markdown(f'<span style=\"color: blue\">{resp_p}</span>'))\n",
    "            else:\n",
    "                display(Markdown(f'<span style=\"color: blue\">{response}</span>'))\n",
    "    return responsek"
   ]
  },
  {
   "cell_type": "code",
   "execution_count": 104,
   "metadata": {},
   "outputs": [
    {
     "data": {
      "text/markdown": [
       "<span style=\"color: blue\">Hello I want to help you about corona virus. Please write what are you wondering for? If you want to quit please write bye</span>"
      ],
      "text/plain": [
       "<IPython.core.display.Markdown object>"
      ]
     },
     "metadata": {},
     "output_type": "display_data"
    },
    {
     "name": "stdout",
     "output_type": "stream",
     "text": [
      "mask\n"
     ]
    },
    {
     "data": {
      "text/markdown": [
       "<span style=\"color: red\">Do you want to ask this:Does mask useful?</span>"
      ],
      "text/plain": [
       "<IPython.core.display.Markdown object>"
      ]
     },
     "metadata": {},
     "output_type": "display_data"
    },
    {
     "data": {
      "text/markdown": [
       "<span style=\"color: blue\">The summary of 3500 paper that we know is\r",
       "</span>"
      ],
      "text/plain": [
       "<IPython.core.display.Markdown object>"
      ]
     },
     "metadata": {},
     "output_type": "display_data"
    },
    {
     "data": {
      "text/markdown": [
       "<span style=\"color: blue\"> The lack of agreement on the selection and use of masks  (medicor surgicfacemasks) and respirators (n95/p2/ffp2 or equivent) is reflected in inconsistent and conflicting policies worldwide chughtai ., 2013 ) ..the ccc is a non-profit consortium open to anyone who shares the same vision of making data available to help the public good and ht covid-19. There is no effective and approved vaccine or treatment for covid-19. There is sufficient evidence to recommend stringent hand hygiene and use of face masks. There are no direct scientific evidence regarding wearing protective masks in public spaces for asymptomatic people. The best approach is to develop a broad portfolio of vaccines in a coordinated manner. There are reports of significant shortages of medicstaff, a lack of clinics that can handle and treat infected patients, and high demands  for face masks for protection. There are often no instructions or playbook on how to best proceed in chaotic environments where cause and effect is unclear. stabilizing the system is chlenging. Coronaviruses belong to a family of viruses mainly found in anims but with the recent outbreak , they have transmitted to humans. Study: 37 % of participants admitted a  mask without the apparent signs and symptoms of the infection and more than 75 % felt the need to use sanitizers and gloves. , and, indeed, those who are giving babies formula milk, should \"practice respiratory hygiene during feeding,\" says the WHO. These public heth measures decrease the number of close contacts, resulting in higher degrees of separation within the public,  thereby impeding transmission. However the pandemic has effected the three countries in diversely different pattern hinting at the preparedness of the countries to tackle such naturdisasters.</span>"
      ],
      "text/plain": [
       "<IPython.core.display.Markdown object>"
      ]
     },
     "metadata": {},
     "output_type": "display_data"
    },
    {
     "name": "stdout",
     "output_type": "stream",
     "text": [
      "h\n"
     ]
    },
    {
     "data": {
      "text/markdown": [
       "<span style=\"color: red\">Do you want to ask this:?</span>"
      ],
      "text/plain": [
       "<IPython.core.display.Markdown object>"
      ]
     },
     "metadata": {},
     "output_type": "display_data"
    },
    {
     "data": {
      "text/markdown": [
       "<span style=\"color: blue\">Sorry i couldn't understand your question. Can you give more detail?</span>"
      ],
      "text/plain": [
       "<IPython.core.display.Markdown object>"
      ]
     },
     "metadata": {},
     "output_type": "display_data"
    },
    {
     "name": "stdout",
     "output_type": "stream",
     "text": [
      "ww\n"
     ]
    },
    {
     "data": {
      "text/markdown": [
       "<span style=\"color: red\">Do you want to ask this:?</span>"
      ],
      "text/plain": [
       "<IPython.core.display.Markdown object>"
      ]
     },
     "metadata": {},
     "output_type": "display_data"
    },
    {
     "data": {
      "text/markdown": [
       "<span style=\"color: blue\">Sorry i couldn't understand your question. Can you give more detail?</span>"
      ],
      "text/plain": [
       "<IPython.core.display.Markdown object>"
      ]
     },
     "metadata": {},
     "output_type": "display_data"
    },
    {
     "name": "stdout",
     "output_type": "stream",
     "text": [
      "no\n"
     ]
    },
    {
     "data": {
      "text/markdown": [
       "<span style=\"color: red\">Do you want to ask this:?</span>"
      ],
      "text/plain": [
       "<IPython.core.display.Markdown object>"
      ]
     },
     "metadata": {},
     "output_type": "display_data"
    },
    {
     "data": {
      "text/markdown": [
       "<span style=\"color: blue\">Sorry i couldn't understand your question. Can you give more detail?</span>"
      ],
      "text/plain": [
       "<IPython.core.display.Markdown object>"
      ]
     },
     "metadata": {},
     "output_type": "display_data"
    },
    {
     "name": "stdout",
     "output_type": "stream",
     "text": [
      "ok\n"
     ]
    },
    {
     "data": {
      "text/markdown": [
       "<span style=\"color: red\">Do you want to ask this:?</span>"
      ],
      "text/plain": [
       "<IPython.core.display.Markdown object>"
      ]
     },
     "metadata": {},
     "output_type": "display_data"
    },
    {
     "data": {
      "text/markdown": [
       "<span style=\"color: blue\">Sorry i couldn't understand your question. Can you give more detail?</span>"
      ],
      "text/plain": [
       "<IPython.core.display.Markdown object>"
      ]
     },
     "metadata": {},
     "output_type": "display_data"
    },
    {
     "name": "stdout",
     "output_type": "stream",
     "text": [
      "us\n"
     ]
    },
    {
     "data": {
      "text/markdown": [
       "<span style=\"color: red\">Do you want to ask this:?</span>"
      ],
      "text/plain": [
       "<IPython.core.display.Markdown object>"
      ]
     },
     "metadata": {},
     "output_type": "display_data"
    },
    {
     "data": {
      "text/markdown": [
       "<span style=\"color: blue\">Sorry i couldn't understand your question. Can you give more detail?</span>"
      ],
      "text/plain": [
       "<IPython.core.display.Markdown object>"
      ]
     },
     "metadata": {},
     "output_type": "display_data"
    },
    {
     "name": "stdout",
     "output_type": "stream",
     "text": [
      "u.s\n"
     ]
    },
    {
     "data": {
      "text/markdown": [
       "<span style=\"color: red\">Do you want to ask this:?</span>"
      ],
      "text/plain": [
       "<IPython.core.display.Markdown object>"
      ]
     },
     "metadata": {},
     "output_type": "display_data"
    },
    {
     "data": {
      "text/markdown": [
       "<span style=\"color: blue\">Sorry i couldn't understand your question. Can you give more detail?</span>"
      ],
      "text/plain": [
       "<IPython.core.display.Markdown object>"
      ]
     },
     "metadata": {},
     "output_type": "display_data"
    },
    {
     "name": "stdout",
     "output_type": "stream",
     "text": [
      "italy\n"
     ]
    },
    {
     "data": {
      "text/markdown": [
       "<span style=\"color: red\">Do you want to ask this:?</span>"
      ],
      "text/plain": [
       "<IPython.core.display.Markdown object>"
      ]
     },
     "metadata": {},
     "output_type": "display_data"
    },
    {
     "data": {
      "text/markdown": [
       "<span style=\"color: blue\">Sorry i couldn't understand your question. Can you give more detail?</span>"
      ],
      "text/plain": [
       "<IPython.core.display.Markdown object>"
      ]
     },
     "metadata": {},
     "output_type": "display_data"
    },
    {
     "name": "stdout",
     "output_type": "stream",
     "text": [
      "china\n"
     ]
    },
    {
     "data": {
      "text/markdown": [
       "<span style=\"color: red\">Do you want to ask this:?</span>"
      ],
      "text/plain": [
       "<IPython.core.display.Markdown object>"
      ]
     },
     "metadata": {},
     "output_type": "display_data"
    },
    {
     "data": {
      "text/markdown": [
       "<span style=\"color: blue\">Sorry i couldn't understand your question. Can you give more detail?</span>"
      ],
      "text/plain": [
       "<IPython.core.display.Markdown object>"
      ]
     },
     "metadata": {},
     "output_type": "display_data"
    },
    {
     "name": "stdout",
     "output_type": "stream",
     "text": [
      "what\n"
     ]
    },
    {
     "data": {
      "text/markdown": [
       "<span style=\"color: red\">Do you want to ask this:?</span>"
      ],
      "text/plain": [
       "<IPython.core.display.Markdown object>"
      ]
     },
     "metadata": {},
     "output_type": "display_data"
    },
    {
     "data": {
      "text/markdown": [
       "<span style=\"color: blue\">Sorry i couldn't understand your question. Can you give more detail?</span>"
      ],
      "text/plain": [
       "<IPython.core.display.Markdown object>"
      ]
     },
     "metadata": {},
     "output_type": "display_data"
    },
    {
     "name": "stdout",
     "output_type": "stream",
     "text": [
      "what is \n"
     ]
    },
    {
     "data": {
      "text/markdown": [
       "<span style=\"color: red\">Do you want to ask this:?</span>"
      ],
      "text/plain": [
       "<IPython.core.display.Markdown object>"
      ]
     },
     "metadata": {},
     "output_type": "display_data"
    },
    {
     "data": {
      "text/markdown": [
       "<span style=\"color: blue\">Sorry i couldn't understand your question. Can you give more detail?</span>"
      ],
      "text/plain": [
       "<IPython.core.display.Markdown object>"
      ]
     },
     "metadata": {},
     "output_type": "display_data"
    },
    {
     "name": "stdout",
     "output_type": "stream",
     "text": [
      "who \n"
     ]
    },
    {
     "data": {
      "text/markdown": [
       "<span style=\"color: red\">Do you want to ask this:?</span>"
      ],
      "text/plain": [
       "<IPython.core.display.Markdown object>"
      ]
     },
     "metadata": {},
     "output_type": "display_data"
    },
    {
     "data": {
      "text/markdown": [
       "<span style=\"color: blue\">Sorry i couldn't understand your question. Can you give more detail?</span>"
      ],
      "text/plain": [
       "<IPython.core.display.Markdown object>"
      ]
     },
     "metadata": {},
     "output_type": "display_data"
    },
    {
     "name": "stdout",
     "output_type": "stream",
     "text": [
      "fucks\n"
     ]
    },
    {
     "data": {
      "text/markdown": [
       "<span style=\"color: red\">Do you want to ask this:?</span>"
      ],
      "text/plain": [
       "<IPython.core.display.Markdown object>"
      ]
     },
     "metadata": {},
     "output_type": "display_data"
    },
    {
     "data": {
      "text/markdown": [
       "<span style=\"color: blue\">Sorry i couldn't understand your question. Can you give more detail?</span>"
      ],
      "text/plain": [
       "<IPython.core.display.Markdown object>"
      ]
     },
     "metadata": {},
     "output_type": "display_data"
    },
    {
     "name": "stdout",
     "output_type": "stream",
     "text": [
      "fuck you\n"
     ]
    },
    {
     "data": {
      "text/markdown": [
       "<span style=\"color: red\">Do you want to ask this:?</span>"
      ],
      "text/plain": [
       "<IPython.core.display.Markdown object>"
      ]
     },
     "metadata": {},
     "output_type": "display_data"
    },
    {
     "data": {
      "text/markdown": [
       "<span style=\"color: blue\">Sorry i couldn't understand your question. Can you give more detail?</span>"
      ],
      "text/plain": [
       "<IPython.core.display.Markdown object>"
      ]
     },
     "metadata": {},
     "output_type": "display_data"
    },
    {
     "name": "stdout",
     "output_type": "stream",
     "text": [
      "incubation\n"
     ]
    },
    {
     "data": {
      "text/markdown": [
       "<span style=\"color: red\">Do you want to ask this:What is the range of incubation period?</span>"
      ],
      "text/plain": [
       "<IPython.core.display.Markdown object>"
      ]
     },
     "metadata": {},
     "output_type": "display_data"
    },
    {
     "data": {
      "text/markdown": [
       "<span style=\"color: blue\">The summary of 3500 paper that we know is\r",
       "</span>"
      ],
      "text/plain": [
       "<IPython.core.display.Markdown object>"
      ]
     },
     "metadata": {},
     "output_type": "display_data"
    },
    {
     "data": {
      "text/markdown": [
       "<span style=\"color: blue\"> The 2019-ncov virus is capable of human-to-human transmission even during its asymptomatic incubation period (3-7 days) The virus has been extremely difficult to contain. It is transmitted by inhaling or contact with infected dropls or fomites, and the incubation. period may range from 2 to 14 days. The virus is transmitted from person to person by respiratory droplers and close contact. Covid-19 is spread by human-to-human transmission through dropl, feco-or, and direct contact and has an incubation period of 2-14 days. Most patients show symptoms within 11.5 days. The median incubation time of covid- 19 has been estimated at approximately 5-6 days, with a range bwee n 1- 14 days. The average incubation period of covid-19 is 5-6 days with the longest incubation Period of 14 days. The virus ranges bwee n 2-14 days (linton ., 2020) and in some cases, transmission is so 47 reported during asymptomatic period.</span>"
      ],
      "text/plain": [
       "<IPython.core.display.Markdown object>"
      ]
     },
     "metadata": {},
     "output_type": "display_data"
    },
    {
     "name": "stdout",
     "output_type": "stream",
     "text": [
      "bye\n"
     ]
    },
    {
     "data": {
      "text/markdown": [
       "<span style=\"color: blue\">Have a Good evening</span>"
      ],
      "text/plain": [
       "<IPython.core.display.Markdown object>"
      ]
     },
     "metadata": {},
     "output_type": "display_data"
    }
   ],
   "source": [
    "make_conv('Corona')"
   ]
  }
 ],
 "metadata": {
  "kernelspec": {
   "display_name": "Python 3",
   "language": "python",
   "name": "python3"
  },
  "language_info": {
   "codemirror_mode": {
    "name": "ipython",
    "version": 3
   },
   "file_extension": ".py",
   "mimetype": "text/x-python",
   "name": "python",
   "nbconvert_exporter": "python",
   "pygments_lexer": "ipython3",
   "version": "3.7.4"
  }
 },
 "nbformat": 4,
 "nbformat_minor": 2
}
