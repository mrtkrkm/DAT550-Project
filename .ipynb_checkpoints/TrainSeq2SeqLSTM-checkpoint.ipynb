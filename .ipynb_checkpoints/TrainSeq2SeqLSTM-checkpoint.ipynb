{
 "cells": [
  {
   "cell_type": "code",
   "execution_count": 1,
   "metadata": {},
   "outputs": [],
   "source": [
    "from __future__ import absolute_import\n",
    "from __future__ import division\n",
    "from __future__ import print_function\n",
    "from __future__ import unicode_literals\n",
    "import os\n",
    "import json \n",
    "import unicodedata\n",
    "import re\n",
    "import random\n",
    "\n",
    "\n",
    "import torch\n",
    "from torch.jit import script, trace\n",
    "import torch.nn as nn\n",
    "from torch import optim\n",
    "import torch.nn.functional as F\n",
    "import csv\n",
    "import random\n",
    "import re\n",
    "import os\n",
    "import unicodedata\n",
    "import codecs\n",
    "from io import open\n",
    "import itertools\n",
    "import math\n",
    "from Seq2Seq.CreatePairsandVoc import CreatePairs\n",
    "from Seq2Seq.GetTrainData import GetTrainData\n",
    "from Seq2Seq.Training import Training\n",
    "import matplotlib.pyplot as plt\n",
    "import numpy as np\n",
    "import time\n",
    "USE_CUDA = torch.cuda.is_available()\n",
    "device=torch.device('cpu')\n",
    "device = torch.device(\"cuda\" if USE_CUDA else \"cpu\")"
   ]
  },
  {
   "cell_type": "code",
   "execution_count": 2,
   "metadata": {},
   "outputs": [],
   "source": [
    "DDIR='data'\n",
    "corpus_f='friends-corpus'\n",
    "corpuss='ConvAIandFriendsLS'\n",
    "utterancesPath='utterances.jsonl'\n",
    "corpus_chatter='chatterbot'\n",
    "Coca='coqa-train-v1.0.json'\n",
    "convai=['data_volunteers.json','data_intermediate.json','data_tolokers.json']"
   ]
  },
  {
   "cell_type": "code",
   "execution_count": 3,
   "metadata": {},
   "outputs": [],
   "source": [
    "cpv=CreatePairs(DDIR,corpus_f,utterancesPath,10,convai,corpus_chatter)"
   ]
  },
  {
   "cell_type": "code",
   "execution_count": 4,
   "metadata": {},
   "outputs": [
    {
     "name": "stdout",
     "output_type": "stream",
     "text": [
      "Starting\n",
      "Number of pairs is 109623\n",
      "After filters Number of pairs is 42394\n",
      "Counted words: 8451\n"
     ]
    }
   ],
   "source": [
    "voc, pairs = cpv.load_data()"
   ]
  },
  {
   "cell_type": "code",
   "execution_count": 5,
   "metadata": {},
   "outputs": [],
   "source": [
    "gtd=GetTrainData(voc)\n",
    "small_batch_size = 5\n",
    "batches = gtd.batch2TrainData([random.choice(pairs) for _ in range(small_batch_size)])\n",
    "input_variable, lengths, target_variable, mask, max_target_len = batches"
   ]
  },
  {
   "cell_type": "code",
   "execution_count": 7,
   "metadata": {},
   "outputs": [
    {
     "name": "stdout",
     "output_type": "stream",
     "text": [
      "Building encoder and decoder ...\n",
      "Models built and ready to go!\n"
     ]
    }
   ],
   "source": [
    "hidden_size=600\n",
    "dropot=0.1\n",
    "encoder_n_layer=2\n",
    "decode_n_layer=2\n",
    "batchesh_size=64\n",
    "Train=Training(voc,device, hidden_size,encoder_n_layer, decode_n_layer, dropot, batch_size=64)"
   ]
  },
  {
   "cell_type": "code",
   "execution_count": 9,
   "metadata": {},
   "outputs": [
    {
     "name": "stdout",
     "output_type": "stream",
     "text": [
      "Building optimizers ...\n",
      "Starting Training!\n",
      "Initializing ...\n",
      "Training...\n",
      "Iteration: 100; Percent complete: 0.5%; Average loss: 5.3677\n",
      "Iteration: 200; Percent complete: 1.0%; Average loss: 4.6437\n",
      "Iteration: 300; Percent complete: 1.5%; Average loss: 4.4689\n",
      "Iteration: 400; Percent complete: 2.0%; Average loss: 4.2041\n",
      "Iteration: 500; Percent complete: 2.5%; Average loss: 3.9498\n",
      "Iteration: 600; Percent complete: 3.0%; Average loss: 3.7962\n",
      "Iteration: 700; Percent complete: 3.5%; Average loss: 3.5823\n",
      "Iteration: 800; Percent complete: 4.0%; Average loss: 3.5277\n",
      "Iteration: 900; Percent complete: 4.5%; Average loss: 3.3841\n",
      "Iteration: 1000; Percent complete: 5.0%; Average loss: 3.2717\n",
      "Iteration: 1100; Percent complete: 5.5%; Average loss: 3.2286\n",
      "Iteration: 1200; Percent complete: 6.0%; Average loss: 3.1715\n",
      "Iteration: 1300; Percent complete: 6.5%; Average loss: 3.1034\n",
      "Iteration: 1400; Percent complete: 7.0%; Average loss: 3.0525\n",
      "Iteration: 1500; Percent complete: 7.5%; Average loss: 3.0416\n",
      "Iteration: 1600; Percent complete: 8.0%; Average loss: 2.9512\n",
      "Iteration: 1700; Percent complete: 8.5%; Average loss: 2.9103\n",
      "Iteration: 1800; Percent complete: 9.0%; Average loss: 2.8869\n",
      "Iteration: 1900; Percent complete: 9.5%; Average loss: 2.8472\n",
      "Iteration: 2000; Percent complete: 10.0%; Average loss: 2.8102\n",
      "Iteration: 2100; Percent complete: 10.5%; Average loss: 2.7748\n",
      "Iteration: 2200; Percent complete: 11.0%; Average loss: 2.7257\n",
      "Iteration: 2300; Percent complete: 11.5%; Average loss: 2.6997\n",
      "Iteration: 2400; Percent complete: 12.0%; Average loss: 2.6701\n",
      "Iteration: 2500; Percent complete: 12.5%; Average loss: 2.6239\n",
      "Iteration: 2600; Percent complete: 13.0%; Average loss: 2.5829\n",
      "Iteration: 2700; Percent complete: 13.5%; Average loss: 2.5498\n",
      "Iteration: 2800; Percent complete: 14.0%; Average loss: 2.5136\n",
      "Iteration: 2900; Percent complete: 14.5%; Average loss: 2.5158\n",
      "Iteration: 3000; Percent complete: 15.0%; Average loss: 2.4710\n",
      "Iteration: 3100; Percent complete: 15.5%; Average loss: 2.4160\n",
      "Iteration: 3200; Percent complete: 16.0%; Average loss: 2.3789\n",
      "Iteration: 3300; Percent complete: 16.5%; Average loss: 2.3593\n",
      "Iteration: 3400; Percent complete: 17.0%; Average loss: 2.3649\n",
      "Iteration: 3500; Percent complete: 17.5%; Average loss: 2.3091\n",
      "Iteration: 3600; Percent complete: 18.0%; Average loss: 2.2812\n",
      "Iteration: 3700; Percent complete: 18.5%; Average loss: 2.2306\n",
      "Iteration: 3800; Percent complete: 19.0%; Average loss: 2.2150\n",
      "Iteration: 3900; Percent complete: 19.5%; Average loss: 2.1410\n",
      "Iteration: 4000; Percent complete: 20.0%; Average loss: 2.1370\n",
      "Iteration: 4100; Percent complete: 20.5%; Average loss: 2.1017\n",
      "Iteration: 4200; Percent complete: 21.0%; Average loss: 2.0801\n",
      "Iteration: 4300; Percent complete: 21.5%; Average loss: 2.0766\n",
      "Iteration: 4400; Percent complete: 22.0%; Average loss: 2.0238\n",
      "Iteration: 4500; Percent complete: 22.5%; Average loss: 1.9993\n",
      "Iteration: 4600; Percent complete: 23.0%; Average loss: 1.9800\n",
      "Iteration: 4700; Percent complete: 23.5%; Average loss: 1.9315\n",
      "Iteration: 4800; Percent complete: 24.0%; Average loss: 1.9183\n",
      "Iteration: 4900; Percent complete: 24.5%; Average loss: 1.8971\n",
      "Iteration: 5000; Percent complete: 25.0%; Average loss: 1.8115\n",
      "Iteration: 5100; Percent complete: 25.5%; Average loss: 1.8321\n",
      "Iteration: 5200; Percent complete: 26.0%; Average loss: 1.7947\n",
      "Iteration: 5300; Percent complete: 26.5%; Average loss: 1.7726\n",
      "Iteration: 5400; Percent complete: 27.0%; Average loss: 1.7398\n",
      "Iteration: 5500; Percent complete: 27.5%; Average loss: 1.7174\n",
      "Iteration: 5600; Percent complete: 28.0%; Average loss: 1.6843\n",
      "Iteration: 5700; Percent complete: 28.5%; Average loss: 1.6641\n",
      "Iteration: 5800; Percent complete: 29.0%; Average loss: 1.6614\n",
      "Iteration: 5900; Percent complete: 29.5%; Average loss: 1.6011\n",
      "Iteration: 6000; Percent complete: 30.0%; Average loss: 1.5891\n",
      "Iteration: 6100; Percent complete: 30.5%; Average loss: 1.5769\n",
      "Iteration: 6200; Percent complete: 31.0%; Average loss: 1.5587\n",
      "Iteration: 6300; Percent complete: 31.5%; Average loss: 1.5072\n",
      "Iteration: 6400; Percent complete: 32.0%; Average loss: 1.4826\n",
      "Iteration: 6500; Percent complete: 32.5%; Average loss: 1.4654\n",
      "Iteration: 6600; Percent complete: 33.0%; Average loss: 1.4487\n",
      "Iteration: 6700; Percent complete: 33.5%; Average loss: 1.3882\n",
      "Iteration: 6800; Percent complete: 34.0%; Average loss: 1.4179\n",
      "Iteration: 6900; Percent complete: 34.5%; Average loss: 1.3977\n",
      "Iteration: 7000; Percent complete: 35.0%; Average loss: 1.4057\n",
      "Iteration: 7100; Percent complete: 35.5%; Average loss: 1.3381\n",
      "Iteration: 7200; Percent complete: 36.0%; Average loss: 1.3256\n",
      "Iteration: 7300; Percent complete: 36.5%; Average loss: 1.3139\n",
      "Iteration: 7400; Percent complete: 37.0%; Average loss: 1.2666\n",
      "Iteration: 7500; Percent complete: 37.5%; Average loss: 1.2610\n",
      "Iteration: 7600; Percent complete: 38.0%; Average loss: 1.2232\n",
      "Iteration: 7700; Percent complete: 38.5%; Average loss: 1.2130\n",
      "Iteration: 7800; Percent complete: 39.0%; Average loss: 1.2006\n",
      "Iteration: 7900; Percent complete: 39.5%; Average loss: 1.1655\n",
      "Iteration: 8000; Percent complete: 40.0%; Average loss: 1.1305\n",
      "Iteration: 8100; Percent complete: 40.5%; Average loss: 1.1425\n",
      "Iteration: 8200; Percent complete: 41.0%; Average loss: 1.1039\n",
      "Iteration: 8300; Percent complete: 41.5%; Average loss: 1.0932\n",
      "Iteration: 8400; Percent complete: 42.0%; Average loss: 1.0891\n",
      "Iteration: 8500; Percent complete: 42.5%; Average loss: 1.0533\n",
      "Iteration: 8600; Percent complete: 43.0%; Average loss: 1.0258\n",
      "Iteration: 8700; Percent complete: 43.5%; Average loss: 1.0013\n",
      "Iteration: 8800; Percent complete: 44.0%; Average loss: 1.0163\n",
      "Iteration: 8900; Percent complete: 44.5%; Average loss: 1.0090\n",
      "Iteration: 9000; Percent complete: 45.0%; Average loss: 0.9756\n",
      "Iteration: 9100; Percent complete: 45.5%; Average loss: 0.9854\n",
      "Iteration: 9200; Percent complete: 46.0%; Average loss: 0.9545\n",
      "Iteration: 9300; Percent complete: 46.5%; Average loss: 0.9288\n",
      "Iteration: 9400; Percent complete: 47.0%; Average loss: 0.9317\n",
      "Iteration: 9500; Percent complete: 47.5%; Average loss: 0.8951\n",
      "Iteration: 9600; Percent complete: 48.0%; Average loss: 0.8841\n",
      "Iteration: 9700; Percent complete: 48.5%; Average loss: 0.8584\n",
      "Iteration: 9800; Percent complete: 49.0%; Average loss: 0.8754\n",
      "Iteration: 9900; Percent complete: 49.5%; Average loss: 0.8428\n",
      "Iteration: 10000; Percent complete: 50.0%; Average loss: 0.8341\n",
      "Iteration: 10100; Percent complete: 50.5%; Average loss: 0.8193\n",
      "Iteration: 10200; Percent complete: 51.0%; Average loss: 0.8092\n",
      "Iteration: 10300; Percent complete: 51.5%; Average loss: 0.7888\n",
      "Iteration: 10400; Percent complete: 52.0%; Average loss: 0.7827\n",
      "Iteration: 10500; Percent complete: 52.5%; Average loss: 0.7738\n",
      "Iteration: 10600; Percent complete: 53.0%; Average loss: 0.7532\n",
      "Iteration: 10700; Percent complete: 53.5%; Average loss: 0.7171\n",
      "Iteration: 10800; Percent complete: 54.0%; Average loss: 0.7206\n",
      "Iteration: 10900; Percent complete: 54.5%; Average loss: 0.7145\n",
      "Iteration: 11000; Percent complete: 55.0%; Average loss: 0.7209\n",
      "Iteration: 11100; Percent complete: 55.5%; Average loss: 0.6916\n",
      "Iteration: 11200; Percent complete: 56.0%; Average loss: 0.6740\n",
      "Iteration: 11300; Percent complete: 56.5%; Average loss: 0.6724\n",
      "Iteration: 11400; Percent complete: 57.0%; Average loss: 0.6768\n",
      "Iteration: 11500; Percent complete: 57.5%; Average loss: 0.6538\n",
      "Iteration: 11600; Percent complete: 58.0%; Average loss: 0.6702\n",
      "Iteration: 11700; Percent complete: 58.5%; Average loss: 0.6546\n",
      "Iteration: 11800; Percent complete: 59.0%; Average loss: 0.6377\n",
      "Iteration: 11900; Percent complete: 59.5%; Average loss: 0.6270\n",
      "Iteration: 12000; Percent complete: 60.0%; Average loss: 0.6063\n",
      "Iteration: 12100; Percent complete: 60.5%; Average loss: 0.6119\n",
      "Iteration: 12200; Percent complete: 61.0%; Average loss: 0.5927\n",
      "Iteration: 12300; Percent complete: 61.5%; Average loss: 0.5926\n",
      "Iteration: 12400; Percent complete: 62.0%; Average loss: 0.5888\n",
      "Iteration: 12500; Percent complete: 62.5%; Average loss: 0.5974\n",
      "Iteration: 12600; Percent complete: 63.0%; Average loss: 0.5841\n",
      "Iteration: 12700; Percent complete: 63.5%; Average loss: 0.5816\n",
      "Iteration: 12800; Percent complete: 64.0%; Average loss: 0.5558\n",
      "Iteration: 12900; Percent complete: 64.5%; Average loss: 0.5415\n"
     ]
    },
    {
     "name": "stdout",
     "output_type": "stream",
     "text": [
      "Iteration: 13000; Percent complete: 65.0%; Average loss: 0.5576\n",
      "Iteration: 13100; Percent complete: 65.5%; Average loss: 0.5458\n",
      "Iteration: 13200; Percent complete: 66.0%; Average loss: 0.5252\n",
      "Iteration: 13300; Percent complete: 66.5%; Average loss: 0.5286\n",
      "Iteration: 13400; Percent complete: 67.0%; Average loss: 0.5229\n",
      "Iteration: 13500; Percent complete: 67.5%; Average loss: 0.5140\n",
      "Iteration: 13600; Percent complete: 68.0%; Average loss: 0.5011\n",
      "Iteration: 13700; Percent complete: 68.5%; Average loss: 0.4967\n",
      "Iteration: 13800; Percent complete: 69.0%; Average loss: 0.4972\n",
      "Iteration: 13900; Percent complete: 69.5%; Average loss: 0.4914\n",
      "Iteration: 14000; Percent complete: 70.0%; Average loss: 0.4988\n",
      "Iteration: 14100; Percent complete: 70.5%; Average loss: 0.4842\n",
      "Iteration: 14200; Percent complete: 71.0%; Average loss: 0.4727\n",
      "Iteration: 14300; Percent complete: 71.5%; Average loss: 0.4934\n",
      "Iteration: 14400; Percent complete: 72.0%; Average loss: 0.4843\n",
      "Iteration: 14500; Percent complete: 72.5%; Average loss: 0.4741\n",
      "Iteration: 14600; Percent complete: 73.0%; Average loss: 0.4827\n",
      "Iteration: 14700; Percent complete: 73.5%; Average loss: 0.4626\n",
      "Iteration: 14800; Percent complete: 74.0%; Average loss: 0.4626\n",
      "Iteration: 14900; Percent complete: 74.5%; Average loss: 0.4603\n",
      "Iteration: 15000; Percent complete: 75.0%; Average loss: 0.4403\n",
      "Iteration: 15100; Percent complete: 75.5%; Average loss: 0.4441\n",
      "Iteration: 15200; Percent complete: 76.0%; Average loss: 0.4491\n",
      "Iteration: 15300; Percent complete: 76.5%; Average loss: 0.4423\n",
      "Iteration: 15400; Percent complete: 77.0%; Average loss: 0.4370\n",
      "Iteration: 15500; Percent complete: 77.5%; Average loss: 0.4323\n",
      "Iteration: 15600; Percent complete: 78.0%; Average loss: 0.4360\n",
      "Iteration: 15700; Percent complete: 78.5%; Average loss: 0.4368\n",
      "Iteration: 15800; Percent complete: 79.0%; Average loss: 0.4398\n",
      "Iteration: 15900; Percent complete: 79.5%; Average loss: 0.4315\n",
      "Iteration: 16000; Percent complete: 80.0%; Average loss: 0.4373\n",
      "Iteration: 16100; Percent complete: 80.5%; Average loss: 0.4131\n",
      "Iteration: 16200; Percent complete: 81.0%; Average loss: 0.4248\n",
      "Iteration: 16300; Percent complete: 81.5%; Average loss: 0.4071\n",
      "Iteration: 16400; Percent complete: 82.0%; Average loss: 0.4114\n",
      "Iteration: 16500; Percent complete: 82.5%; Average loss: 0.4011\n",
      "Iteration: 16600; Percent complete: 83.0%; Average loss: 0.4090\n",
      "Iteration: 16700; Percent complete: 83.5%; Average loss: 0.4015\n",
      "Iteration: 16800; Percent complete: 84.0%; Average loss: 0.3991\n",
      "Iteration: 16900; Percent complete: 84.5%; Average loss: 0.4075\n",
      "Iteration: 17000; Percent complete: 85.0%; Average loss: 0.4030\n",
      "Iteration: 17100; Percent complete: 85.5%; Average loss: 0.3921\n",
      "Iteration: 17200; Percent complete: 86.0%; Average loss: 0.3901\n",
      "Iteration: 17300; Percent complete: 86.5%; Average loss: 0.3896\n",
      "Iteration: 17400; Percent complete: 87.0%; Average loss: 0.3956\n",
      "Iteration: 17500; Percent complete: 87.5%; Average loss: 0.3822\n",
      "Iteration: 17600; Percent complete: 88.0%; Average loss: 0.3888\n",
      "Iteration: 17700; Percent complete: 88.5%; Average loss: 0.3910\n",
      "Iteration: 17800; Percent complete: 89.0%; Average loss: 0.3792\n",
      "Iteration: 17900; Percent complete: 89.5%; Average loss: 0.3780\n",
      "Iteration: 18000; Percent complete: 90.0%; Average loss: 0.3830\n",
      "Iteration: 18100; Percent complete: 90.5%; Average loss: 0.3790\n",
      "Iteration: 18200; Percent complete: 91.0%; Average loss: 0.3826\n",
      "Iteration: 18300; Percent complete: 91.5%; Average loss: 0.3720\n",
      "Iteration: 18400; Percent complete: 92.0%; Average loss: 0.3707\n",
      "Iteration: 18500; Percent complete: 92.5%; Average loss: 0.3841\n",
      "Iteration: 18600; Percent complete: 93.0%; Average loss: 0.3727\n",
      "Iteration: 18700; Percent complete: 93.5%; Average loss: 0.3633\n",
      "Iteration: 18800; Percent complete: 94.0%; Average loss: 0.3644\n",
      "Iteration: 18900; Percent complete: 94.5%; Average loss: 0.3616\n",
      "Iteration: 19000; Percent complete: 95.0%; Average loss: 0.3612\n",
      "Iteration: 19100; Percent complete: 95.5%; Average loss: 0.3616\n",
      "Iteration: 19200; Percent complete: 96.0%; Average loss: 0.3597\n",
      "Iteration: 19300; Percent complete: 96.5%; Average loss: 0.3743\n",
      "Iteration: 19400; Percent complete: 97.0%; Average loss: 0.3538\n",
      "Iteration: 19500; Percent complete: 97.5%; Average loss: 0.3491\n",
      "Iteration: 19600; Percent complete: 98.0%; Average loss: 0.3524\n",
      "Iteration: 19700; Percent complete: 98.5%; Average loss: 0.3576\n",
      "Iteration: 19800; Percent complete: 99.0%; Average loss: 0.3560\n",
      "Iteration: 19900; Percent complete: 99.5%; Average loss: 0.3455\n",
      "Iteration: 20000; Percent complete: 100.0%; Average loss: 0.3532\n"
     ]
    }
   ],
   "source": [
    "loadfilename=None\n",
    "learning_rate = 0.0001\n",
    "decoder_learning_ratio = 5.0\n",
    "n_iteration = 20000\n",
    "print_every = 100\n",
    "save_every = 10000\n",
    "clip = 50.0\n",
    "teacher_forcing_ratio = 1.0\n",
    "\n",
    "start=time.time()\n",
    "loss=Train.fit(corpuss, corpuss, voc, pairs, learning_rate, n_iteration,print_every, save_every, clip, corpuss, \\\n",
    "          loadfilename, teacher_forcing_ratio)\n",
    "end=time.time()"
   ]
  },
  {
   "cell_type": "code",
   "execution_count": 10,
   "metadata": {},
   "outputs": [
    {
     "name": "stdout",
     "output_type": "stream",
     "text": [
      "Took 43.76 minutes\n"
     ]
    }
   ],
   "source": [
    "print(f'Took {(end-start)/60:.2f} minutes')"
   ]
  },
  {
   "cell_type": "code",
   "execution_count": 11,
   "metadata": {},
   "outputs": [
    {
     "data": {
      "text/plain": [
       "Text(0, 0.5, 'Loss')"
      ]
     },
     "execution_count": 11,
     "metadata": {},
     "output_type": "execute_result"
    },
    {
     "data": {
      "image/png": "[encoded data removed]",
      "text/plain": [
       "<Figure size 720x720 with 1 Axes>"
      ]
     },
     "metadata": {
      "needs_background": "light"
     },
     "output_type": "display_data"
    }
   ],
   "source": [
    "fig=plt.figure(figsize=(10,10))\n",
    "plt.plot(np.arange(0, n_iteration,print_every), loss)\n",
    "plt.xlabel('Number of Iteration')\n",
    "plt.ylabel('Loss')"
   ]
  },
  {
   "cell_type": "code",
   "execution_count": null,
   "metadata": {},
   "outputs": [],
   "source": []
  }
 ],
 "metadata": {
  "kernelspec": {
   "display_name": "Python 3",
   "language": "python",
   "name": "python3"
  },
  "language_info": {
   "codemirror_mode": {
    "name": "ipython",
    "version": 3
   },
   "file_extension": ".py",
   "mimetype": "text/x-python",
   "name": "python",
   "nbconvert_exporter": "python",
   "pygments_lexer": "ipython3",
   "version": "3.7.4"
  }
 },
 "nbformat": 4,
 "nbformat_minor": 2
}
