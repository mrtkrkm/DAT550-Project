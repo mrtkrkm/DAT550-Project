{
 "cells": [
  {
   "cell_type": "code",
   "execution_count": 1,
   "metadata": {},
   "outputs": [
    {
     "name": "stderr",
     "output_type": "stream",
     "text": [
      "unable to import 'smart_open.gcs', disabling that module\n"
     ]
    }
   ],
   "source": [
    "from Seq2Seq.MakeConv import MakeConv\n",
    "import torch"
   ]
  },
  {
   "cell_type": "code",
   "execution_count": 2,
   "metadata": {},
   "outputs": [],
   "source": [
    "isav=torch.cuda.is_available()\n",
    "device=torch.device('cuda' if isav else 'cpu')\n",
    "\n",
    "Task_Path='data/Tasks'\n",
    "Embedding_Path='C:/Users/mkork/Desktop/BertTry/glove.840B.300d.txt'\n",
    "name='ConvAIandFriends'\n",
    "meta='C:/Users/mkork/Desktop/dat/data/AllArticles.csv'"
   ]
  },
  {
   "cell_type": "code",
   "execution_count": 3,
   "metadata": {},
   "outputs": [
    {
     "name": "stdout",
     "output_type": "stream",
     "text": [
      "Please wait until create the embedding file\n"
     ]
    },
    {
     "data": {
      "application/vnd.jupyter.widget-view+json": {
       "model_id": "302b5367f105427792f9fda435f65d1f",
       "version_major": 2,
       "version_minor": 0
      },
      "text/plain": [
       "HBox(children=(IntProgress(value=1, bar_style='info', max=1), HTML(value='')))"
      ]
     },
     "metadata": {},
     "output_type": "display_data"
    },
    {
     "name": "stdout",
     "output_type": "stream",
     "text": [
      "\n",
      "Loading Meta Data\n"
     ]
    }
   ],
   "source": [
    "MakeConv=MakeConv(Embedding_Path, Task_Path, device, name, meta)"
   ]
  },
  {
   "cell_type": "code",
   "execution_count": null,
   "metadata": {},
   "outputs": [
    {
     "name": "stdout",
     "output_type": "stream",
     "text": [
      "> hello\n",
      "Bot: hello how are you ? ?\n",
      "> i am good\n",
      "Bot: i m doing great . day .\n",
      "> i didn't ask\n",
      "Bot: what do you do for a living ?\n",
      "> i am a student\n",
      "Bot: what city are you from ?\n",
      "> u don't know\n",
      "Bot: what do you do for a living ?\n",
      "> i said student\n",
      "Bot: i am a teacher and you ?\n",
      "> who are you\n",
      "Bot: i am an american . what about you ?\n",
      "> so you are human?\n",
      "Bot: i m not sure . ?\n",
      "> why\n",
      "Bot: i just like to say it is\n",
      "> so are you robot\n",
      "Bot: i am good . i like to sing .\n",
      "> what kind of music do you like\n",
      "Bot: rock music\n",
      "> anyway what do we know about incubation of corona\n"
     ]
    },
    {
     "data": {
      "text/markdown": [
       "<span style=\"color: black\">Do you want to ask this:Can I be affected by the virus by touching the surfaces</span>"
      ],
      "text/plain": [
       "<IPython.core.display.Markdown object>"
      ]
     },
     "metadata": {},
     "output_type": "display_data"
    },
    {
     "data": {
      "text/markdown": [
       "<span style=\"color: red\">Reminder; you can click the answer to read the article</span>"
      ],
      "text/plain": [
       "<IPython.core.display.Markdown object>"
      ]
     },
     "metadata": {},
     "output_type": "display_data"
    },
    {
     "data": {
      "text/html": [
       "<a href=https://doi.org/10.1016/j.jacr.2020.04.004 style=\"color: blue\">My First answer is: virtuvisits are now being developed for our interventionradiologists so they may continue their ir  clinics covid-19 can be transmitted through contact with contaminated surfaces.\r",
       "</a>"
      ],
      "text/plain": [
       "<IPython.core.display.HTML object>"
      ]
     },
     "metadata": {},
     "output_type": "display_data"
    },
    {
     "data": {
      "text/html": [
       "<a href=https://www.ncbi.nlm.nih.gov/pmc/articles/PMC7135119/ style=\"color: blue\">Another Answer is: moreover , it can remain viable for a few days on multiple surfaces.</a>"
      ],
      "text/plain": [
       "<IPython.core.display.HTML object>"
      ]
     },
     "metadata": {},
     "output_type": "display_data"
    },
    {
     "data": {
      "text/markdown": [
       "<span style=\"color: red\">Also the summary of 3100 article is:</span>"
      ],
      "text/plain": [
       "<IPython.core.display.Markdown object>"
      ]
     },
     "metadata": {},
     "output_type": "display_data"
    },
    {
     "data": {
      "text/markdown": [
       "<span style=\"color: black\">The summary of 3500 paper that we know is\r\n",
       " Covid-19 can be transmitted through contact with contaminated surfaces. It can remain viable for a few days on multiple surfaces. The virus is transmitted through direct contact with the infected person ’ s respiratory dropls (coughing and sneezing), as well as contact with infected surfaces. The toll of the current pandemic will, however, not be limited to those infected by the virus. The source of infection is thought to be wild anims, possibly the chinese rufous horseshoe bat (rhinolophus sinicus) transmission of 2019-ncov is mainly via dropls but can be through contact. id-19 has not been officily labelled as a pandemic y, the globburden of disease is significant and continues to rise. The virus has a high human-to-human transmissibility via airborne, dropland contact routes. contamination of the department equipment can initiate an outbreak within the hethcare facility.  severe acute respiratory syndrome coronavirus 2 (sars-cov-2) has claimed the lives of more than 20,000 individus worldwide. The virus responsible for the coronav virus disease 2019  respiratory illness, has sickened more than 1.2 billion people worldwide.</span>"
      ],
      "text/plain": [
       "<IPython.core.display.Markdown object>"
      ]
     },
     "metadata": {},
     "output_type": "display_data"
    }
   ],
   "source": [
    "##If it gives Cuda error try to run this cell again\n",
    "MakeConv.startConv()"
   ]
  },
  {
   "cell_type": "code",
   "execution_count": null,
   "metadata": {},
   "outputs": [],
   "source": []
  }
 ],
 "metadata": {
  "kernelspec": {
   "display_name": "Python 3",
   "language": "python",
   "name": "python3"
  },
  "language_info": {
   "codemirror_mode": {
    "name": "ipython",
    "version": 3
   },
   "file_extension": ".py",
   "mimetype": "text/x-python",
   "name": "python",
   "nbconvert_exporter": "python",
   "pygments_lexer": "ipython3",
   "version": "3.7.4"
  }
 },
 "nbformat": 4,
 "nbformat_minor": 2
}
