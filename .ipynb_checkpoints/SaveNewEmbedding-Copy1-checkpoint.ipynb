{
 "cells": [
  {
   "cell_type": "code",
   "execution_count": 1,
   "metadata": {},
   "outputs": [
    {
     "name": "stderr",
     "output_type": "stream",
     "text": [
      "unable to import 'smart_open.gcs', disabling that module\n"
     ]
    }
   ],
   "source": [
    "import pandas as pd\n",
    "import numpy as np\n",
    "from TaskModelling import TaskModelling\n",
    "from QAModels.Question_Answering import QuestionAnswering\n",
    "from GetTasks import GetTasks\n",
    "from tqdm import notebook\n",
    "import joblib\n",
    "import datetime\n",
    "import os\n",
    "from colorama import Fore, Back, Style\n",
    "from termcolor import colored\n",
    "from IPython.display import Markdown"
   ]
  },
  {
   "cell_type": "code",
   "execution_count": 2,
   "metadata": {},
   "outputs": [],
   "source": [
    "Task_Path='Tasks'\n",
    "Embedding_Path='C:/Users/mkork/Desktop/BertTry/glove.840B.300d.txt'"
   ]
  },
  {
   "cell_type": "code",
   "execution_count": 3,
   "metadata": {},
   "outputs": [
    {
     "data": {
      "application/vnd.jupyter.widget-view+json": {
       "model_id": "0dd062384fb144ec8cc443d4d42c3f32",
       "version_major": 2,
       "version_minor": 0
      },
      "text/plain": [
       "HBox(children=(IntProgress(value=1, bar_style='info', max=1), HTML(value='')))"
      ]
     },
     "metadata": {},
     "output_type": "display_data"
    },
    {
     "name": "stdout",
     "output_type": "stream",
     "text": [
      "\n"
     ]
    }
   ],
   "source": [
    "embeddings=TaskModelling(Embedding_Path,Task_Path)"
   ]
  },
  {
   "cell_type": "code",
   "execution_count": 4,
   "metadata": {},
   "outputs": [],
   "source": [
    "tasks=GetTasks.get_tasks(Task_Path)"
   ]
  },
  {
   "cell_type": "code",
   "execution_count": 7,
   "metadata": {},
   "outputs": [],
   "source": [
    "dicts=joblib.load('QAResults/MainTaskDictionaries.dic')"
   ]
  },
  {
   "cell_type": "code",
   "execution_count": null,
   "metadata": {},
   "outputs": [],
   "source": [
    "datas='QAResults'\n",
    "files=os.listdir(os.path.join(datas))\n",
    "dicts=[]\n",
    "summaries=[]\n",
    "for file in files:\n",
    "    if file.endswith('.dic'):\n",
    "        dicts.append(os.path.join(datas,file))\n",
    "    if file.endswith('.SUM'):\n",
    "        dicts.append(os.path.join(datas,file))"
   ]
  },
  {
   "cell_type": "code",
   "execution_count": null,
   "metadata": {},
   "outputs": [],
   "source": []
  },
  {
   "cell_type": "code",
   "execution_count": 62,
   "metadata": {},
   "outputs": [],
   "source": [
    "dicts=joblib.load('QAResults/MainTaskDictionaries')"
   ]
  },
  {
   "cell_type": "code",
   "execution_count": 7,
   "metadata": {},
   "outputs": [],
   "source": [
    "dicts3=joblib.load('QAResults/NewAddidionaldictionaries3')"
   ]
  },
  {
   "cell_type": "code",
   "execution_count": 17,
   "metadata": {},
   "outputs": [
    {
     "data": {
      "text/html": [
       "<div>\n",
       "<style scoped>\n",
       "    .dataframe tbody tr th:only-of-type {\n",
       "        vertical-align: middle;\n",
       "    }\n",
       "\n",
       "    .dataframe tbody tr th {\n",
       "        vertical-align: top;\n",
       "    }\n",
       "\n",
       "    .dataframe thead th {\n",
       "        text-align: right;\n",
       "    }\n",
       "</style>\n",
       "<table border=\"1\" class=\"dataframe\">\n",
       "  <thead>\n",
       "    <tr style=\"text-align: right;\">\n",
       "      <th></th>\n",
       "      <th>Id</th>\n",
       "      <th>abstract</th>\n",
       "      <th>Answer</th>\n",
       "      <th>answer_sent</th>\n",
       "      <th>conf</th>\n",
       "    </tr>\n",
       "  </thead>\n",
       "  <tbody>\n",
       "    <tr>\n",
       "      <td>0</td>\n",
       "      <td>7721a5991adb22000506b40f511a800f879d5914</td>\n",
       "      <td></td>\n",
       "      <td>and tools for rapid diagnostic testing have be...</td>\n",
       "      <td>the novel coronavirus has a homology with sar...</td>\n",
       "      <td>9.843430</td>\n",
       "    </tr>\n",
       "    <tr>\n",
       "      <td>1</td>\n",
       "      <td>189ebc4f63c934960c6627e9b4138955ffe12f1d</td>\n",
       "      <td>CC-BY-NC-ND 4.0 InternationIt is made availabl...</td>\n",
       "      <td>. genomic epidemiology</td>\n",
       "      <td>2020 ] . genomic epidemiology of emerging vir...</td>\n",
       "      <td>9.400908</td>\n",
       "    </tr>\n",
       "    <tr>\n",
       "      <td>2</td>\n",
       "      <td>05d99c07db59b6948e39bfa62c2cbbf62944059a</td>\n",
       "      <td>An outbreak of a novel coronavirus, named CoVI...</td>\n",
       "      <td>. mathematicmodels</td>\n",
       "      <td>control of spread by contact tracing and isol...</td>\n",
       "      <td>8.909660</td>\n",
       "    </tr>\n",
       "    <tr>\n",
       "      <td>3</td>\n",
       "      <td>1b9ab8207b230567a44753b4596666e28b4d800b</td>\n",
       "      <td>COVID-19 is the most rapidly expanding coronav...</td>\n",
       "      <td>utilizing state-of-the-art data science tools</td>\n",
       "      <td>three key questions arise in light of the cov...</td>\n",
       "      <td>8.278328</td>\n",
       "    </tr>\n",
       "    <tr>\n",
       "      <td>4</td>\n",
       "      <td>6c3c1e30f75ee8414d8695117502b72030a443fd</td>\n",
       "      <td>bioRxiv 2 ABSTRACT. Coronaviruses may produce ...</td>\n",
       "      <td>of molecular modeling and simulation</td>\n",
       "      <td>important successes have notably been achieve...</td>\n",
       "      <td>7.884251</td>\n",
       "    </tr>\n",
       "    <tr>\n",
       "      <td>...</td>\n",
       "      <td>...</td>\n",
       "      <td>...</td>\n",
       "      <td>...</td>\n",
       "      <td>...</td>\n",
       "      <td>...</td>\n",
       "    </tr>\n",
       "    <tr>\n",
       "      <td>134</td>\n",
       "      <td>0704b30b30c26480bbfa3b3a911a88301519ca3d</td>\n",
       "      <td></td>\n",
       "      <td>that lowed proper implementation of infection ...</td>\n",
       "      <td>that lowed proper implementation of infecti...</td>\n",
       "      <td>-7.983980</td>\n",
       "    </tr>\n",
       "    <tr>\n",
       "      <td>135</td>\n",
       "      <td>cf4cad81492fa69b8fdc6ec5f8a67eebf37d79ef</td>\n",
       "      <td>The objective of our systematic review is to i...</td>\n",
       "      <td>is an infection caby the sars-cov-2 coronavirus</td>\n",
       "      <td>is an infection caby the sars-cov-2 coronavir...</td>\n",
       "      <td>-8.174518</td>\n",
       "    </tr>\n",
       "    <tr>\n",
       "      <td>136</td>\n",
       "      <td>14591bae9b4cf2cfdbd409c0dec9106a13298297</td>\n",
       "      <td></td>\n",
       "      <td>as shown in. the indices for the degree of fit...</td>\n",
       "      <td>as shown in. the indices for the degree of f...</td>\n",
       "      <td>-8.198971</td>\n",
       "    </tr>\n",
       "    <tr>\n",
       "      <td>137</td>\n",
       "      <td>111b9a6e91c938696fcdb4cb128b8ae739dbe11c</td>\n",
       "      <td>Background: As of March 2, 2020, SARS-CoV-2 ha...</td>\n",
       "      <td>. in addition, sars-cov was dected in urine, f...</td>\n",
       "      <td>26.20028225 : medrxiv  . in addition, sars-co...</td>\n",
       "      <td>-8.214926</td>\n",
       "    </tr>\n",
       "    <tr>\n",
       "      <td>138</td>\n",
       "      <td>adb8dc5cdc9f7d9a9f1ad32501e08f0509e699cf</td>\n",
       "      <td></td>\n",
       "      <td>them</td>\n",
       "      <td>treat contaminated clothes and shes as infect...</td>\n",
       "      <td>-8.659179</td>\n",
       "    </tr>\n",
       "  </tbody>\n",
       "</table>\n",
       "<p>139 rows × 5 columns</p>\n",
       "</div>"
      ],
      "text/plain": [
       "                                           Id  \\\n",
       "0    7721a5991adb22000506b40f511a800f879d5914   \n",
       "1    189ebc4f63c934960c6627e9b4138955ffe12f1d   \n",
       "2    05d99c07db59b6948e39bfa62c2cbbf62944059a   \n",
       "3    1b9ab8207b230567a44753b4596666e28b4d800b   \n",
       "4    6c3c1e30f75ee8414d8695117502b72030a443fd   \n",
       "..                                        ...   \n",
       "134  0704b30b30c26480bbfa3b3a911a88301519ca3d   \n",
       "135  cf4cad81492fa69b8fdc6ec5f8a67eebf37d79ef   \n",
       "136  14591bae9b4cf2cfdbd409c0dec9106a13298297   \n",
       "137  111b9a6e91c938696fcdb4cb128b8ae739dbe11c   \n",
       "138  adb8dc5cdc9f7d9a9f1ad32501e08f0509e699cf   \n",
       "\n",
       "                                              abstract  \\\n",
       "0                                                        \n",
       "1    CC-BY-NC-ND 4.0 InternationIt is made availabl...   \n",
       "2    An outbreak of a novel coronavirus, named CoVI...   \n",
       "3    COVID-19 is the most rapidly expanding coronav...   \n",
       "4    bioRxiv 2 ABSTRACT. Coronaviruses may produce ...   \n",
       "..                                                 ...   \n",
       "134                                                      \n",
       "135  The objective of our systematic review is to i...   \n",
       "136                                                      \n",
       "137  Background: As of March 2, 2020, SARS-CoV-2 ha...   \n",
       "138                                                      \n",
       "\n",
       "                                                Answer  \\\n",
       "0    and tools for rapid diagnostic testing have be...   \n",
       "1                               . genomic epidemiology   \n",
       "2                                   . mathematicmodels   \n",
       "3        utilizing state-of-the-art data science tools   \n",
       "4                 of molecular modeling and simulation   \n",
       "..                                                 ...   \n",
       "134  that lowed proper implementation of infection ...   \n",
       "135    is an infection caby the sars-cov-2 coronavirus   \n",
       "136  as shown in. the indices for the degree of fit...   \n",
       "137  . in addition, sars-cov was dected in urine, f...   \n",
       "138                                               them   \n",
       "\n",
       "                                           answer_sent      conf  \n",
       "0     the novel coronavirus has a homology with sar...  9.843430  \n",
       "1     2020 ] . genomic epidemiology of emerging vir...  9.400908  \n",
       "2     control of spread by contact tracing and isol...  8.909660  \n",
       "3     three key questions arise in light of the cov...  8.278328  \n",
       "4     important successes have notably been achieve...  7.884251  \n",
       "..                                                 ...       ...  \n",
       "134     that lowed proper implementation of infecti... -7.983980  \n",
       "135   is an infection caby the sars-cov-2 coronavir... -8.174518  \n",
       "136    as shown in. the indices for the degree of f... -8.198971  \n",
       "137   26.20028225 : medrxiv  . in addition, sars-co... -8.214926  \n",
       "138   treat contaminated clothes and shes as infect... -8.659179  \n",
       "\n",
       "[139 rows x 5 columns]"
      ]
     },
     "execution_count": 17,
     "metadata": {},
     "output_type": "execute_result"
    }
   ],
   "source": [
    "dicts3['What should we do to prevent']"
   ]
  },
  {
   "cell_type": "code",
   "execution_count": 18,
   "metadata": {},
   "outputs": [],
   "source": [
    "sums3=joblib.load('QAResults/NewAddidionalsummaries3')"
   ]
  },
  {
   "cell_type": "code",
   "execution_count": 23,
   "metadata": {},
   "outputs": [
    {
     "data": {
      "text/plain": [
       "' Covid-19 is spreading rapidly through europe and north america. We rely on quarantine, isolation, and infection-control measures to prevent disease spread and on supportive care for those who become ill. To date, there are no vaccines or treatments capable of preventing or treating hcov infections. Human influenza viruses continue to pose important threats to human heth in the modern sociy. As of february 3, 2020, there are more than 20,000 patients diagnosed with 2019-ncov infection in china one with more than 400 deaths. The fate of covid-19 remains unclear. Understanding the likely age and seasonprofiles of infection risks will be criticto inform effective surveillance and control strategies. 7 outbreaks of covid-19 are now being reported across the globe, and l physicians need to be prepared for cases in their communities. The risk of widespread nationcommunity transmission of the infection in the european union is considered high. Nearly 170,000 people have been diagnosed with the disease in the world. Covid-19 is a new coronaviruses. It is transmitted through the respiratory tract and is highly infectious for the heth of the people. It was swiftly included among the class b infectious diseases stipulated in the law of the. people’s republic of china on the prevention and control of infectious diseases. World endoscopy organization has recently released a recommendation on infection prevention and control in digestive endoscopies based on experiences from china. Early and transparent dissemination of research findings may lead to more expedited prevention and treatment efforts. We will give full play to tcm and folk medicines of hnic minorities in disease prevention and Control.'"
      ]
     },
     "execution_count": 23,
     "metadata": {},
     "output_type": "execute_result"
    }
   ],
   "source": [
    "sums3['What have we learned about infection prevention and control']"
   ]
  },
  {
   "cell_type": "code",
   "execution_count": null,
   "metadata": {},
   "outputs": [],
   "source": []
  },
  {
   "cell_type": "code",
   "execution_count": 26,
   "metadata": {},
   "outputs": [],
   "source": [
    "keys=list(dicts.keys())"
   ]
  },
  {
   "cell_type": "code",
   "execution_count": 70,
   "metadata": {},
   "outputs": [
    {
     "data": {
      "text/plain": [
       "['What is known about transmission,incubation,and environmental stability',\n",
       " 'What do we know about COVID-19 risk factors',\n",
       " 'What do we know about virus genetics, origin, and evolution',\n",
       " 'What do we know about vaccines and therapeutics',\n",
       " 'What has been published about medical care',\n",
       " 'What do we know about non-pharmaceutical interventions',\n",
       " 'What do we know about diagnostics and surveillance',\n",
       " 'What has been published about ethical and social science considerations',\n",
       " 'What has been published about information sharing and inter-sectoral collaboration']"
      ]
     },
     "execution_count": 70,
     "metadata": {},
     "output_type": "execute_result"
    }
   ],
   "source": [
    "keys"
   ]
  },
  {
   "cell_type": "code",
   "execution_count": 20,
   "metadata": {},
   "outputs": [],
   "source": [
    "new_embeds=embeddings.fit()"
   ]
  },
  {
   "cell_type": "code",
   "execution_count": 8,
   "metadata": {},
   "outputs": [],
   "source": [
    "def find_task_ques(scores):\n",
    "    text='First answer is:'+'\\n'\n",
    "    task=int(scores[0][-1])\n",
    "    rangeS=2\n",
    "    for i in range(rangeS):\n",
    "        text= text+dicts[keys[task-1]].iloc[i,3]\n",
    "        if i<rangeS-1:\n",
    "            text= text+'\\n'+'Another Answer is:'+'\\n'\n",
    "    return text "
   ]
  },
  {
   "cell_type": "code",
   "execution_count": 9,
   "metadata": {},
   "outputs": [],
   "source": [
    "def End_conv():\n",
    "    time=int(str(datetime.datetime.now().time())[:2])\n",
    "    if time>18 or time<6:\n",
    "        response='Have a Good evening'\n",
    "    else:\n",
    "        response='Have a Good Day'\n",
    "    return response\n",
    "  "
   ]
  },
  {
   "cell_type": "code",
   "execution_count": 10,
   "metadata": {},
   "outputs": [],
   "source": [
    "def sort_response(result):\n",
    "    if len(result)<1:\n",
    "        response=\"Sorry i couldn't understand your question. Can you give more detail?\"\n",
    "    else:\n",
    "        best=sorted(result.items(), key=lambda x:x[1], reverse=True)[0]\n",
    "        response=find_task_ques(best)\n",
    "    return response"
   ]
  },
  {
   "cell_type": "code",
   "execution_count": 28,
   "metadata": {},
   "outputs": [
    {
     "data": {
      "text/plain": [
       "('task 3', 1.350098729133606)"
      ]
     },
     "execution_count": 28,
     "metadata": {},
     "output_type": "execute_result"
    }
   ],
   "source": [
    "user_i='What do we know about transmission'\n",
    "ques=embeddings.check_distance(user_i)\n",
    "best=sorted(ques.items(), key=lambda x:x[1], reverse=True)[0]\n",
    "best"
   ]
  },
  {
   "cell_type": "code",
   "execution_count": 24,
   "metadata": {},
   "outputs": [
    {
     "data": {
      "text/plain": [
       "{'task 6': 0.6072680950164795,\n",
       " 'task 3': 1.350098729133606,\n",
       " 'task 2': 0.6116427183151245,\n",
       " 'task 1': 1.0}"
      ]
     },
     "execution_count": 24,
     "metadata": {},
     "output_type": "execute_result"
    }
   ],
   "source": [
    "def find_question(score,uques):\n",
    "    idx=score[0]\n",
    "    alls=embeddings.get_text(uques)\n",
    "    for w in alls:\n",
    "        uques =embeddings.embedding_index[uques]\n",
    "    \n",
    "    scores={}\n",
    "    for ques in enumerate(taskss[idx]):\n",
    "        ques=embeddings.embedding_index[ques]\n",
    "        sim=1-distance.cosine(uques, ques)\n",
    "        scores[i]=sim\n",
    "    best=sorted(scores.items(), key=lambda x:x[1], reverse=True)[0]\n",
    "    return best\n",
    "    "
   ]
  },
  {
   "cell_type": "code",
   "execution_count": 11,
   "metadata": {},
   "outputs": [
    {
     "data": {
      "text/markdown": [
       "<span style=\"color: blue\">Hello I want to help you about corona virus. Please write what are you wondering for? If you want to quit please write bye</span>"
      ],
      "text/plain": [
       "<IPython.core.display.Markdown object>"
      ]
     },
     "metadata": {},
     "output_type": "display_data"
    },
    {
     "name": "stdout",
     "output_type": "stream",
     "text": [
      "hey\n"
     ]
    },
    {
     "data": {
      "text/markdown": [
       "<span style=\"color: blue\">Sorry i couldn't understand your question. Can you give more detail?</span>"
      ],
      "text/plain": [
       "<IPython.core.display.Markdown object>"
      ]
     },
     "metadata": {},
     "output_type": "display_data"
    },
    {
     "name": "stdout",
     "output_type": "stream",
     "text": [
      "hello\n"
     ]
    },
    {
     "data": {
      "text/markdown": [
       "<span style=\"color: blue\">Sorry i couldn't understand your question. Can you give more detail?</span>"
      ],
      "text/plain": [
       "<IPython.core.display.Markdown object>"
      ]
     },
     "metadata": {},
     "output_type": "display_data"
    },
    {
     "name": "stdout",
     "output_type": "stream",
     "text": [
      "ok\n"
     ]
    },
    {
     "data": {
      "text/markdown": [
       "<span style=\"color: blue\">Sorry i couldn't understand your question. Can you give more detail?</span>"
      ],
      "text/plain": [
       "<IPython.core.display.Markdown object>"
      ]
     },
     "metadata": {},
     "output_type": "display_data"
    },
    {
     "name": "stdout",
     "output_type": "stream",
     "text": [
      "q\n"
     ]
    },
    {
     "data": {
      "text/markdown": [
       "<span style=\"color: blue\">Sorry i couldn't understand your question. Can you give more detail?</span>"
      ],
      "text/plain": [
       "<IPython.core.display.Markdown object>"
      ]
     },
     "metadata": {},
     "output_type": "display_data"
    },
    {
     "name": "stdout",
     "output_type": "stream",
     "text": [
      "bye\n"
     ]
    },
    {
     "data": {
      "text/markdown": [
       "<span style=\"color: blue\">Have a Good evening</span>"
      ],
      "text/plain": [
       "<IPython.core.display.Markdown object>"
      ]
     },
     "metadata": {},
     "output_type": "display_data"
    }
   ],
   "source": [
    "Stop=False\n",
    "display (Markdown('<span style=\"color: blue\">Hello I want to help you about corona virus. Please write what are you wondering for? If you want to quit please write bye</span>'))\n",
    "while (Stop==False):\n",
    "    user_i=input()\n",
    "    if(user_i!='bye'):\n",
    "        ques=embeddings.check_distance(user_i)\n",
    "        response=sort_response(ques)\n",
    "    else:\n",
    "        response=End_conv()\n",
    "        Stop=True\n",
    "    display (Markdown(f'<span style=\"color: blue\">{response}</span>'))"
   ]
  },
  {
   "cell_type": "code",
   "execution_count": 5,
   "metadata": {},
   "outputs": [
    {
     "data": {
      "text/plain": [
       "['new_embeds']"
      ]
     },
     "execution_count": 5,
     "metadata": {},
     "output_type": "execute_result"
    }
   ],
   "source": [
    "joblib.dump(new_embeds, 'new_embeds')"
   ]
  },
  {
   "cell_type": "code",
   "execution_count": null,
   "metadata": {},
   "outputs": [],
   "source": []
  }
 ],
 "metadata": {
  "kernelspec": {
   "display_name": "Python 3",
   "language": "python",
   "name": "python3"
  },
  "language_info": {
   "codemirror_mode": {
    "name": "ipython",
    "version": 3
   },
   "file_extension": ".py",
   "mimetype": "text/x-python",
   "name": "python",
   "nbconvert_exporter": "python",
   "pygments_lexer": "ipython3",
   "version": "3.7.4"
  }
 },
 "nbformat": 4,
 "nbformat_minor": 2
}
