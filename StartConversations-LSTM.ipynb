{
 "cells": [
  {
   "cell_type": "code",
   "execution_count": 1,
   "metadata": {},
   "outputs": [
    {
     "name": "stderr",
     "output_type": "stream",
     "text": [
      "unable to import 'smart_open.gcs', disabling that module\n"
     ]
    }
   ],
   "source": [
    "from Seq2Seq.MakeConv import MakeConv\n",
    "import torch"
   ]
  },
  {
   "cell_type": "code",
   "execution_count": 2,
   "metadata": {},
   "outputs": [],
   "source": [
    "isav=torch.cuda.is_available()\n",
    "device=torch.device('cuda' if isav else 'cpu')\n",
    "\n",
    "Task_Path='data/Tasks'\n",
    "Embedding_Path='C:/Users/mkork/Desktop/BertTry/glove.840B.300d.txt'\n",
    "meta='C:/Users/mkork/Desktop/dat/data/AllArticles.csv'"
   ]
  },
  {
   "cell_type": "code",
   "execution_count": 3,
   "metadata": {},
   "outputs": [
    {
     "name": "stdout",
     "output_type": "stream",
     "text": [
      "Please wait until create the embedding file\n"
     ]
    },
    {
     "data": {
      "application/vnd.jupyter.widget-view+json": {
       "model_id": "585ec18d940640e69ce7cacf619a4feb",
       "version_major": 2,
       "version_minor": 0
      },
      "text/plain": [
       "HBox(children=(IntProgress(value=1, bar_style='info', max=1), HTML(value='')))"
      ]
     },
     "metadata": {},
     "output_type": "display_data"
    },
    {
     "name": "stdout",
     "output_type": "stream",
     "text": [
      "\n",
      "Loading Meta Data\n"
     ]
    }
   ],
   "source": [
    "name='ConvAIandFriendsLS'\n",
    "MakeConv=MakeConv(Embedding_Path, Task_Path, device, name, meta)"
   ]
  },
  {
   "cell_type": "code",
   "execution_count": null,
   "metadata": {},
   "outputs": [
    {
     "name": "stdout",
     "output_type": "stream",
     "text": [
      "> hey\n",
      "Bot: how are you ? about the weekend\n",
      "> good. you\n",
      "Bot: i am doing well how about you ?\n",
      "> i said yes\n",
      "Bot: what would you work at ? ? !\n",
      "> school\n",
      "Bot: what kind of school do you work in\n",
      "> university\n",
      "Bot: why ? is a great day !\n",
      "> i guess\n",
      "Bot: i ll be well . how are you ?\n",
      "> nice \n",
      "Bot: what do you do for a living ? ?\n",
      "> i am a student\n",
      "Bot: what are you studying ? ? !\n",
      "> computer engineering\n",
      "Bot: that is interesting . i am a programmer .\n",
      "> really\n",
      "Bot: why ? is interesting !\n",
      "> kind of\n",
      "Bot: what do you do for a living ?\n",
      "> i said i am student\n",
      "Bot: what are you going to school for ? ?\n",
      "> anyway \n",
      "Bot: i am a huge gamer like you .\n",
      "> anyway give me information about corona\n"
     ]
    },
    {
     "data": {
      "text/markdown": [
       "<span style=\"color: red\">Do you want to ask this:What animal did 2019-nCoV come from?</span>"
      ],
      "text/plain": [
       "<IPython.core.display.Markdown object>"
      ]
     },
     "metadata": {},
     "output_type": "display_data"
    },
    {
     "data": {
      "text/markdown": [
       "<span style=\"color: black\">Do you want to ask this:Reminder; you can click the answer to read the article?</span>"
      ],
      "text/plain": [
       "<IPython.core.display.Markdown object>"
      ]
     },
     "metadata": {},
     "output_type": "display_data"
    },
    {
     "data": {
      "text/html": [
       "<a href=nan style=\"color: blue\">My First answer is: emerging infectious diseases (eids) such as ebola, influenza, sars, mers, and, most recently , coronavirus (2019-ncov) cause large-sce mortity and morbidity, disrupt trade and travel nworks, and stimulate civil unrest  .\r",
       "</a>"
      ],
      "text/plain": [
       "<IPython.core.display.HTML object>"
      ]
     },
     "metadata": {},
     "output_type": "display_data"
    },
    {
     "data": {
      "text/html": [
       "<a href=nan style=\"color: blue\">Another Answer is: emerging infectious diseases (eids) such as ebola, influenza, sars, mers, and, most recently , coronavirus (2019-ncov) cause large-sce mortity and morbidity, disrupt trade and travel nworks, and stimulate civil unrest  .</a>"
      ],
      "text/plain": [
       "<IPython.core.display.HTML object>"
      ]
     },
     "metadata": {},
     "output_type": "display_data"
    },
    {
     "name": "stdout",
     "output_type": "stream",
     "text": [
      "> what about incubation\n"
     ]
    },
    {
     "data": {
      "text/markdown": [
       "<span style=\"color: red\">Do you want to ask this:What is the range of incubation period?</span>"
      ],
      "text/plain": [
       "<IPython.core.display.Markdown object>"
      ]
     },
     "metadata": {},
     "output_type": "display_data"
    },
    {
     "data": {
      "text/markdown": [
       "<span style=\"color: black\">Do you want to ask this:Reminder; you can click the answer to read the article?</span>"
      ],
      "text/plain": [
       "<IPython.core.display.Markdown object>"
      ]
     },
     "metadata": {},
     "output_type": "display_data"
    },
    {
     "data": {
      "text/html": [
       "<a href=https://doi.org/10.1016/j.nefroe.2020.03.017 style=\"color: blue\">My First answer is: the average incubation period has been estimated to be 5-6 days, with a range  of 1-14 days.\r",
       "</a>"
      ],
      "text/plain": [
       "<IPython.core.display.HTML object>"
      ]
     },
     "metadata": {},
     "output_type": "display_data"
    },
    {
     "data": {
      "text/html": [
       "<a href=https://doi.org/10.1016/j.tim.2020.02.001 style=\"color: blue\">Another Answer is: given the known incubation periodbwee n 1 and 14 daysthe interspecies transmission could have occurred as late as november 2019.</a>"
      ],
      "text/plain": [
       "<IPython.core.display.HTML object>"
      ]
     },
     "metadata": {},
     "output_type": "display_data"
    }
   ],
   "source": [
    "MakeConv.startConv()"
   ]
  },
  {
   "cell_type": "code",
   "execution_count": null,
   "metadata": {},
   "outputs": [
    {
     "name": "stdout",
     "output_type": "stream",
     "text": [
      "> corona\n"
     ]
    },
    {
     "data": {
      "text/html": [
       "<a href= style=\"color: blue\">Sorry i couldn't understand your question. Can you give more detail?</a>"
      ],
      "text/plain": [
       "<IPython.core.display.HTML object>"
      ]
     },
     "metadata": {},
     "output_type": "display_data"
    },
    {
     "name": "stdout",
     "output_type": "stream",
     "text": [
      "> what is corona\n"
     ]
    },
    {
     "data": {
      "text/html": [
       "<a href= style=\"color: blue\">Sorry i couldn't understand your question. Can you give more detail?</a>"
      ],
      "text/plain": [
       "<IPython.core.display.HTML object>"
      ]
     },
     "metadata": {},
     "output_type": "display_data"
    },
    {
     "name": "stdout",
     "output_type": "stream",
     "text": [
      "> what do we know about corona\n"
     ]
    },
    {
     "data": {
      "text/markdown": [
       "<span style=\"color: red\">Do you want to ask this:What animal did 2019-nCoV come from?</span>"
      ],
      "text/plain": [
       "<IPython.core.display.Markdown object>"
      ]
     },
     "metadata": {},
     "output_type": "display_data"
    },
    {
     "data": {
      "text/html": [
       "<a href=nan style=\"color: blue\">My First answer is: emerging infectious diseases (eids) such as ebola, influenza, sars, mers, and, most recently , coronavirus (2019-ncov) cause large-sce mortity and morbidity, disrupt trade and travel nworks, and stimulate civil unrest  .\r",
       "</a>"
      ],
      "text/plain": [
       "<IPython.core.display.HTML object>"
      ]
     },
     "metadata": {},
     "output_type": "display_data"
    },
    {
     "data": {
      "text/html": [
       "<a href=nan style=\"color: blue\">Another Answer is: emerging infectious diseases (eids) such as ebola, influenza, sars, mers, and, most recently , coronavirus (2019-ncov) cause large-sce mortity and morbidity, disrupt trade and travel nworks, and stimulate civil unrest  .</a>"
      ],
      "text/plain": [
       "<IPython.core.display.HTML object>"
      ]
     },
     "metadata": {},
     "output_type": "display_data"
    }
   ],
   "source": [
    "MakeConv.startConv()"
   ]
  },
  {
   "cell_type": "code",
   "execution_count": null,
   "metadata": {},
   "outputs": [],
   "source": [
    "##If it gives Cuda error try to run this cell again\n",
    "MakeConv.startConv()"
   ]
  }
 ],
 "metadata": {
  "kernelspec": {
   "display_name": "Python 3",
   "language": "python",
   "name": "python3"
  },
  "language_info": {
   "codemirror_mode": {
    "name": "ipython",
    "version": 3
   },
   "file_extension": ".py",
   "mimetype": "text/x-python",
   "name": "python",
   "nbconvert_exporter": "python",
   "pygments_lexer": "ipython3",
   "version": "3.7.4"
  }
 },
 "nbformat": 4,
 "nbformat_minor": 2
}
