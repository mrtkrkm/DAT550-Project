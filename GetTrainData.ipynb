{
 "cells": [
  {
   "cell_type": "code",
   "execution_count": 1,
   "metadata": {},
   "outputs": [],
   "source": [
    "from Seq2Seq.Vocab import Vocab\n",
    "from Seq2Seq.GetTrainData import GetTrainData\n",
    "from Seq2Seq.CreatePairsandVoc import CreatePairs\n",
    "import random"
   ]
  },
  {
   "cell_type": "code",
   "execution_count": 2,
   "metadata": {},
   "outputs": [],
   "source": [
    "DDIR='data'\n",
    "corpus='friends-corpus'\n",
    "utterancesPath='utterances.jsonl'"
   ]
  },
  {
   "cell_type": "code",
   "execution_count": 3,
   "metadata": {},
   "outputs": [],
   "source": [
    "GetPairs=CreatePairs(DDIR, corpus, utterancesPath, 30)"
   ]
  },
  {
   "cell_type": "code",
   "execution_count": 4,
   "metadata": {},
   "outputs": [
    {
     "name": "stdout",
     "output_type": "stream",
     "text": [
      "Starting\n",
      "Number of pairs is 55490\n",
      "After filters Number of pairs is 46396\n",
      "Counted words: 12755\n"
     ]
    }
   ],
   "source": [
    "voc, pairs = GetPairs.load_data()"
   ]
  },
  {
   "cell_type": "code",
   "execution_count": 5,
   "metadata": {},
   "outputs": [
    {
     "name": "stdout",
     "output_type": "stream",
     "text": [
      "input_variable: tensor([[ 229,  447,   13,   86,   33],\n",
      "        [  63,   18,   83,    8,   38],\n",
      "        [  59,    8, 9075,   18,    2],\n",
      "        [  36,  447,    8,  125,    0],\n",
      "        [ 552,   18, 9075,  272,    0],\n",
      "        [3021,   33,    8,   38,    0],\n",
      "        [  51,  448,    8,    2,    0],\n",
      "        [  59,    8,    2,    0,    0],\n",
      "        [   9,    2,    0,    0,    0],\n",
      "        [1333,    0,    0,    0,    0],\n",
      "        [   6,    0,    0,    0,    0],\n",
      "        [ 180,    0,    0,    0,    0],\n",
      "        [  38,    0,    0,    0,    0],\n",
      "        [   2,    0,    0,    0,    0]])\n",
      "lengths: tensor([14,  9,  8,  7,  3])\n",
      "target_variable: tensor([[  55,  153,   63,   86,   33],\n",
      "        [ 151,    8,    4,    8,   38],\n",
      "        [  32,    2,   36,    2,  201],\n",
      "        [  86,    0, 9907,    0,  335],\n",
      "        [  13,    0, 5643,    0,   18],\n",
      "        [ 160,    0, 5757,    0, 2885],\n",
      "        [ 363,    0,   32,    0,   35],\n",
      "        [  88,    0,  373,    0,  624],\n",
      "        [  32,    0,    8,    0,   18],\n",
      "        [   2,    0,    2,    0,   71],\n",
      "        [   0,    0,    0,    0,  217],\n",
      "        [   0,    0,    0,    0,  273],\n",
      "        [   0,    0,    0,    0,   38],\n",
      "        [   0,    0,    0,    0,    2]])\n",
      "mask: tensor([[1, 1, 1, 1, 1],\n",
      "        [1, 1, 1, 1, 1],\n",
      "        [1, 1, 1, 1, 1],\n",
      "        [1, 0, 1, 0, 1],\n",
      "        [1, 0, 1, 0, 1],\n",
      "        [1, 0, 1, 0, 1],\n",
      "        [1, 0, 1, 0, 1],\n",
      "        [1, 0, 1, 0, 1],\n",
      "        [1, 0, 1, 0, 1],\n",
      "        [1, 0, 1, 0, 1],\n",
      "        [0, 0, 0, 0, 1],\n",
      "        [0, 0, 0, 0, 1],\n",
      "        [0, 0, 0, 0, 1],\n",
      "        [0, 0, 0, 0, 1]], dtype=torch.uint8)\n",
      "max_target_len: 14\n"
     ]
    }
   ],
   "source": [
    "GetTrainDat=GetTrainData(voc)\n",
    "small_batch_size = 5\n",
    "batches = GetTrainDat.batch2TrainData([random.choice(pairs) for _ in range(small_batch_size)])\n",
    "input_variable, lengths, target_variable, mask, max_target_len = batches\n",
    "\n",
    "print(\"input_variable:\", input_variable)\n",
    "print(\"lengths:\", lengths)\n",
    "print(\"target_variable:\", target_variable)\n",
    "print(\"mask:\", mask)\n",
    "print(\"max_target_len:\", max_target_len)"
   ]
  },
  {
   "cell_type": "code",
   "execution_count": null,
   "metadata": {},
   "outputs": [],
   "source": []
  }
 ],
 "metadata": {
  "kernelspec": {
   "display_name": "Python 3",
   "language": "python",
   "name": "python3"
  },
  "language_info": {
   "codemirror_mode": {
    "name": "ipython",
    "version": 3
   },
   "file_extension": ".py",
   "mimetype": "text/x-python",
   "name": "python",
   "nbconvert_exporter": "python",
   "pygments_lexer": "ipython3",
   "version": "3.7.4"
  }
 },
 "nbformat": 4,
 "nbformat_minor": 2
}
