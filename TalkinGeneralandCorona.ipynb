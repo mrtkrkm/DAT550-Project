{
 "cells": [
  {
   "cell_type": "code",
   "execution_count": 20,
   "metadata": {},
   "outputs": [],
   "source": [
    "from TaskModelling.ResponseFunctions import ResponseFunctions\n",
    "import os\n",
    "from Seq2Seq.Encoder import EncoderRNN\n",
    "from Seq2Seq.Decoder import LuongAttnDecoderRNN\n",
    "from Seq2Seq.Attention import Attn\n",
    "import torch\n",
    "import torch.nn as nn\n",
    "import unicodedata\n",
    "import re\n",
    "from Seq2Seq.GreedySearchDecoder import GreedySearchDecoder\n",
    "check=torch.cuda.is_available()\n",
    "from IPython.display import Markdown\n",
    "from ipywidgets import interact, interactive, fixed, interact_manual\n",
    "import ipywidgets as widgets\n",
    "device=torch.device('cuda' if check else 'cpu')"
   ]
  },
  {
   "cell_type": "code",
   "execution_count": 2,
   "metadata": {},
   "outputs": [],
   "source": [
    "Task_Path='data/Tasks'\n",
    "Embedding_Path='C:/Users/mkork/Desktop/BertTry/glove.840B.300d.txt'"
   ]
  },
  {
   "cell_type": "code",
   "execution_count": 3,
   "metadata": {},
   "outputs": [
    {
     "data": {
      "application/vnd.jupyter.widget-view+json": {
       "model_id": "b1f74b09e4bb4b9788156d873d4ddf65",
       "version_major": 2,
       "version_minor": 0
      },
      "text/plain": [
       "HBox(children=(IntProgress(value=1, bar_style='info', max=1), HTML(value='')))"
      ]
     },
     "metadata": {},
     "output_type": "display_data"
    },
    {
     "name": "stdout",
     "output_type": "stream",
     "text": [
      "\n"
     ]
    }
   ],
   "source": [
    "functions=ResponseFunctions(Embedding_Path, Task_Path)"
   ]
  },
  {
   "cell_type": "code",
   "execution_count": 4,
   "metadata": {},
   "outputs": [],
   "source": [
    "save_dir=os.path.join(\"data\", \"save\")\n",
    "corpus_name='ConvAIandFriends'\n",
    "attn_model = 'dot'\n",
    "model_name = 'ConvAIandFriends'\n",
    "hidden_size = 600\n",
    "encoder_n_layers = 2\n",
    "decoder_n_layers = 2\n",
    "dropout = 0.1\n",
    "batch_size = 64\n",
    "checkpoint_iter=20000\n",
    "\n",
    "loadFilename = os.path.join(save_dir, model_name, corpus_name,\n",
    "                           '{}-{}_{}'.format(encoder_n_layers, decoder_n_layers, hidden_size),\n",
    "                           '{}_checkpoint.tar'.format(checkpoint_iter))"
   ]
  },
  {
   "cell_type": "code",
   "execution_count": 6,
   "metadata": {},
   "outputs": [],
   "source": [
    "if loadFilename:\n",
    "    # If loading on same machine the model was trained on\n",
    "    checkpoint = torch.load(loadFilename)\n",
    "    # If loading a model trained on GPU to CPU\n",
    "    #checkpoint = torch.load(loadFilename, map_location=torch.device('cpu'))\n",
    "    encoder_sd = checkpoint['en']\n",
    "    decoder_sd = checkpoint['de']\n",
    "    encoder_optimizer_sd = checkpoint['en_opt']\n",
    "    decoder_optimizer_sd = checkpoint['de_opt']\n",
    "    embedding_sd = checkpoint['embedding']\n",
    "    yy = checkpoint['voc_dict']\n",
    "    xx=checkpoint['embedding']\n",
    "\n",
    "tuple_list=list(xx.items())\n",
    "num_words=tuple_list[0][1].shape[0]\n",
    "embedding = nn.Embedding(num_words, hidden_size)\n",
    "if loadFilename:\n",
    "    embedding.load_state_dict(xx)\n",
    "encoder = EncoderRNN(hidden_size, embedding, encoder_n_layers, dropout)\n",
    "decoder = LuongAttnDecoderRNN(attn_model, embedding, hidden_size, num_words, decoder_n_layers, dropout)\n",
    "if loadFilename:\n",
    "    encoder.load_state_dict(encoder_sd)\n",
    "    decoder.load_state_dict(decoder_sd)\n",
    "encoder = encoder.to(device)\n",
    "decoder = decoder.to(device)"
   ]
  },
  {
   "cell_type": "code",
   "execution_count": 7,
   "metadata": {},
   "outputs": [],
   "source": [
    "encoder.eval()\n",
    "decoder.eval()\n",
    "\n",
    "searcher = GreedySearchDecoder(encoder, decoder, device)"
   ]
  },
  {
   "cell_type": "code",
   "execution_count": 16,
   "metadata": {},
   "outputs": [],
   "source": [
    "MAX_LENGTH=10\n",
    "def evaluate(encoder, decoder, searcher, voc, sentence, max_length=MAX_LENGTH):\n",
    "    ### Format input sentence as a batch\n",
    "    # words -> indexes\n",
    "    indexes_batch = [indexesFromSentence(voc, sentence)]\n",
    "    # Create lengths tensor\n",
    "    lengths = torch.tensor([len(indexes) for indexes in indexes_batch])\n",
    "    # Transpose dimensions of batch to match models' expectations\n",
    "    input_batch = torch.LongTensor(indexes_batch).transpose(0, 1)\n",
    "    # Use appropriate device\n",
    "    input_batch = input_batch.to(device)\n",
    "    lengths = lengths.to(device)\n",
    "    # Decode sentence with searcher\n",
    "    tokens, scores = searcher(input_batch, lengths, max_length)\n",
    "    # indexes -> words\n",
    "    decoded_words = [voc['idx2word'][token.item()] for token in tokens]\n",
    "\n",
    "    return decoded_words\n",
    "\n",
    "\n",
    "def startConv(encoder, decoder, searcher, voc):\n",
    "    input_sentence = ''\n",
    "    while(1):\n",
    "        try:\n",
    "            # Get input sentence\n",
    "            input_sentence = input('> ')\n",
    "            res=check_words(input_sentence)\n",
    "            # Check if it is quit case\n",
    "            if input_sentence == 'q' or input_sentence == 'quit': break\n",
    "\n",
    "            \n",
    "            if res:\n",
    "                if(input_sentence!='bye'):\n",
    "                    user_i=input_sentence\n",
    "                    ques=functions.embeddings.check_distance(user_i)\n",
    "                    quest, response=functions.sort_response(ques,user_i)\n",
    "                    responsek=response\n",
    "                    display (Markdown(f'<span style=\"color: red\">Do you want to ask this:{quest}?</span>'))\n",
    "                else:\n",
    "                    response=End_conv()\n",
    "                    Stop=True\n",
    "                if len(response.split('\\n'))>1:\n",
    "                    for resp_p in response.split('\\n'):\n",
    "                        display(Markdown(f'<span style=\"color: blue\">{resp_p}</span>'))\n",
    "                else:\n",
    "                    display(Markdown(f'<span style=\"color: blue\">{response}</span>'))\n",
    "                        # Normalize sentence\n",
    "            else:\n",
    "                input_sentence = sentenceOperation(input_sentence)\n",
    "                # Evaluate sentence\n",
    "                output_words = evaluate(encoder, decoder, searcher, voc, input_sentence)\n",
    "                # Format and print response sentence\n",
    "                output_words[:] = [x for x in output_words if not (x == 'EOS' or x == 'PAD')]\n",
    "                print('Bot:', ' '.join(output_words))\n",
    "\n",
    "        except KeyError:\n",
    "            print(\"Error: Encountered unknown word.\")"
   ]
  },
  {
   "cell_type": "code",
   "execution_count": 17,
   "metadata": {},
   "outputs": [],
   "source": [
    "def check_words(inputs):\n",
    "    inputs=inputs.split(' ')\n",
    "    for inputa in inputs:\n",
    "        if inputa in functions.Related_word:\n",
    "            return True\n",
    "    return False"
   ]
  },
  {
   "cell_type": "code",
   "execution_count": 18,
   "metadata": {},
   "outputs": [],
   "source": [
    "EOS=2\n",
    "SOS=1\n",
    "PAD=0\n",
    "def unicodeToAscii(s):\n",
    "    return ''.join(\n",
    "        c for c in unicodedata.normalize('NFD', s)\n",
    "        if unicodedata.category(c) != 'Mn'\n",
    "    )\n",
    "def indexesFromSentence(voc, sentence):\n",
    "    return [voc['word2idx'][word] for word in sentence.split(' ')] + [EOS]\n",
    "\n",
    "def sentenceOperation(s):\n",
    "    s = unicodeToAscii(s.lower().strip())\n",
    "    s = re.sub(r\"([.!?])\", r\" \\1\", s)\n",
    "    s = re.sub(r\"[^a-zA-Z.!?]+\", r\" \", s)\n",
    "    s = re.sub(r\"\\s+\", r\" \", s).strip()\n",
    "    return s"
   ]
  },
  {
   "cell_type": "code",
   "execution_count": null,
   "metadata": {},
   "outputs": [
    {
     "name": "stdout",
     "output_type": "stream",
     "text": [
      "> what do we know about corona\n"
     ]
    },
    {
     "data": {
      "text/markdown": [
       "<span style=\"color: red\">Do you want to ask this:What animal did 2019-nCoV come from?</span>"
      ],
      "text/plain": [
       "<IPython.core.display.Markdown object>"
      ]
     },
     "metadata": {},
     "output_type": "display_data"
    },
    {
     "data": {
      "text/markdown": [
       "<span style=\"color: blue\">The summary of 3500 paper that we know is\r",
       "</span>"
      ],
      "text/plain": [
       "<IPython.core.display.Markdown object>"
      ]
     },
     "metadata": {},
     "output_type": "display_data"
    },
    {
     "data": {
      "text/markdown": [
       "<span style=\"color: blue\">  coronavirus (2019-ncov) cause large-sce mortity and morbidity, disrupt trade and travel nworks, and stimulate civil unrest. The 2019-ncOV belongs to bacoronavirus which so contains sars-cov and middle east respiratory syndrome cov (mers-c Cov) The first case of coronav virus disease 2019 was reported in korea on January 20, 2020. The 2019  novel coronavirus (2019-ncov) outbreak now spreading across the world. The pathogen originated  from bats and the intermediate host was the masked pm civ.. editor: la infección por el  nuevo coronav virus ( 2019- NCov) The coronavirus disease 2019 outbreak originated  from wuhan has spread to more than 100 countries. The most likely reservoir  were bats, with evidence that the virus was transmitted to a human through an intermediate host, probably a pm civor raccoon dog. The 2019-ncov is an bacoronavirus that possibly originated from wild anims that genome is highly homologous to bats 2. ivir of a wide range of coronaviruses in vitro and in vivo , may further indicate utility of remdesivir against the novel coronavirus 2019-ncov emerging from wuhan, china. This virus, so originating  from bats, and intermediate hosts, camels and dromedaries, had its greatest expression in the middle east, and the risk of new cases is still not considered to be over. The chinese government has converted 13 large-sce public places in wuhan city, hubei province into makeshift hospits for patients in the coronavirus disease 2019  with mild symptoms. Such conversion will continue to contain the spread of the covid-19. Being \"radiologicly idle,\" at least in the short term, may very well stimulate a desire for meaningful contribution.</span>"
      ],
      "text/plain": [
       "<IPython.core.display.Markdown object>"
      ]
     },
     "metadata": {},
     "output_type": "display_data"
    },
    {
     "name": "stdout",
     "output_type": "stream",
     "text": [
      "> no\n",
      "Bot: \n",
      "> what should we do to protect ourself\n",
      "Error: Encountered unknown word.\n",
      "> protection\n",
      "Bot: what do you do for a living ?\n",
      "> transmission\n"
     ]
    },
    {
     "data": {
      "text/markdown": [
       "<span style=\"color: red\">Do you want to ask this:What do we know about natural history, transmission, and diagnostics?</span>"
      ],
      "text/plain": [
       "<IPython.core.display.Markdown object>"
      ]
     },
     "metadata": {},
     "output_type": "display_data"
    },
    {
     "data": {
      "text/markdown": [
       "<span style=\"color: blue\">The summary of 3500 paper that we know is\r",
       "</span>"
      ],
      "text/plain": [
       "<IPython.core.display.Markdown object>"
      ]
     },
     "metadata": {},
     "output_type": "display_data"
    },
    {
     "data": {
      "text/markdown": [
       "<span style=\"color: blue\"> Covid-19 has spread globly within 60 days with focus areas in asia, europe and the middle east. Human-to-human transmission is occurring and there are increasing confirmed cases around multiple countries every day. The virus shares up to 80% of the gene sequence with other members of coronavirus family. A series of pneumonia cases caby a novel coronavirus, 33 namely 2019-ncov, emerged in wuhan, the capitcity of hubei province in china. The symptoms of covid-19 range from mild to severe. They can be 93 fever, dry cough, shortness of breath, and in some severe cases, kidney failure or death may occur. The virus can be transmitted from human to human. Covid-19 can be found in human respiratory epithelicells after about 96 hours, while it takes about 6 days to isolate and culture vero e6 and huh-7 cell lines. 5 human-to-human transmission has been confirmed for the virus, 6,7 which is related to acute respiratory syndrome and middle eastern respiratory syndrome. The first person in the united states with diagnosed 2019-ncov infection was reported. Covid-19 has spread to more than three dozen countries with over 80,000 confirmed cases by late february. in a low-to-middle-income country could lead to massive numbers of patients with acute respiratory disease and death. in china, policies include unprecedented lockdowns to reduce contacts bween individus. A novel coronavirus (sars-cov-2) that emerged out of the city of wuhan, china in december 2019 has ready demonstrated its potentito generate explosive outbreaks in confined stings and cross borders following human mobility patterns. The main route of human-to-human transmission of 2019-ncov is probably through respiratory dropls. respiratory support is the most important means of life support. Sars-cov-2 may be less deadly than the influenza virus that hospits dewith on an annubasis, and transmission seems to occur mainly through dropls. We do not know what, if any, long-term effects this virus might have on the human body. The main source of infection comes from covid-19 pneumonia patients currently. The coronavirus is highly contagious and highly contagious. The virus has an incubation period of 2-14 days before symptoms appear. There are 85,403 cases worldwide, of which 79,394 correspond to china. 53 countries, including spain, have reported at least one case. The emergence of a novel coronavirus, 2019-ncov in wuhan december 2019 has led to a globresponse to the first epidemic of this decade. It has highlighted two key issues : first, china ' s rapid and efficient capacity to identify and investigate a newly emerging disease. and second, our continued globvulnerability to epidemics and pandemics. A cluster of pneumonia caby a novel coronavirus, covid-19, was first reported in wuhan in the hubei province in china in late december 2019. since then, severthousand cases have been reported in mainland china, with spread to over two dozen countries. we strongly believe that the virus is likely to be 190 spreading through the air. we present the only case with sars-cov-2 infection during pregnancy in qingdao. We propose an adaptation of current recommendations for practice. Lopinavir / ritonavir treatment. (lopinavirs / ritonsavir) treatment. Treatment for liver cancer. (ritonavirs / lopinavids) treatment for liver cancers. ( lopinvir / litonavids)</span>"
      ],
      "text/plain": [
       "<IPython.core.display.Markdown object>"
      ]
     },
     "metadata": {},
     "output_type": "display_data"
    },
    {
     "name": "stdout",
     "output_type": "stream",
     "text": [
      "> incubate\n"
     ]
    },
    {
     "data": {
      "text/markdown": [
       "<span style=\"color: red\">Do you want to ask this:What is the range of incubation period?</span>"
      ],
      "text/plain": [
       "<IPython.core.display.Markdown object>"
      ]
     },
     "metadata": {},
     "output_type": "display_data"
    },
    {
     "data": {
      "text/markdown": [
       "<span style=\"color: blue\">The summary of 3500 paper that we know is\r",
       "</span>"
      ],
      "text/plain": [
       "<IPython.core.display.Markdown object>"
      ]
     },
     "metadata": {},
     "output_type": "display_data"
    },
    {
     "data": {
      "text/markdown": [
       "<span style=\"color: blue\"> The 2019-ncov virus is capable of human-to-human transmission even during its asymptomatic incubation period (3-7 days) The virus has been extremely difficult to contain. It is transmitted by inhaling or contact with infected dropls or fomites, and the incubation. period may range from 2 to 14 days. The virus is transmitted from person to person by respiratory droplers and close contact. Covid-19 is spread by human-to-human transmission through dropl, feco-or, and direct contact and has an incubation period of 2-14 days. Most patients show symptoms within 11.5 days. The median incubation time of covid- 19 has been estimated at approximately 5-6 days, with a range bwee n 1- 14 days. The average incubation period of covid-19 is 5-6 days with the longest incubation Period of 14 days. The virus ranges bwee n 2-14 days (linton ., 2020) and in some cases, transmission is so 47 reported during asymptomatic period.</span>"
      ],
      "text/plain": [
       "<IPython.core.display.Markdown object>"
      ]
     },
     "metadata": {},
     "output_type": "display_data"
    },
    {
     "name": "stdout",
     "output_type": "stream",
     "text": [
      "> mask\n"
     ]
    },
    {
     "data": {
      "text/markdown": [
       "<span style=\"color: red\">Do you want to ask this:Does mask useful?</span>"
      ],
      "text/plain": [
       "<IPython.core.display.Markdown object>"
      ]
     },
     "metadata": {},
     "output_type": "display_data"
    },
    {
     "data": {
      "text/markdown": [
       "<span style=\"color: blue\">The summary of 3500 paper that we know is\r",
       "</span>"
      ],
      "text/plain": [
       "<IPython.core.display.Markdown object>"
      ]
     },
     "metadata": {},
     "output_type": "display_data"
    },
    {
     "data": {
      "text/markdown": [
       "<span style=\"color: blue\"> The lack of agreement on the selection and use of masks  (medicor surgicfacemasks) and respirators (n95/p2/ffp2 or equivent) is reflected in inconsistent and conflicting policies worldwide chughtai ., 2013 ) ..the ccc is a non-profit consortium open to anyone who shares the same vision of making data available to help the public good and ht covid-19. There is no effective and approved vaccine or treatment for covid-19. There is sufficient evidence to recommend stringent hand hygiene and use of face masks. There are no direct scientific evidence regarding wearing protective masks in public spaces for asymptomatic people. The best approach is to develop a broad portfolio of vaccines in a coordinated manner. There are reports of significant shortages of medicstaff, a lack of clinics that can handle and treat infected patients, and high demands  for face masks for protection. There are often no instructions or playbook on how to best proceed in chaotic environments where cause and effect is unclear. stabilizing the system is chlenging. Coronaviruses belong to a family of viruses mainly found in anims but with the recent outbreak , they have transmitted to humans. Study: 37 % of participants admitted a  mask without the apparent signs and symptoms of the infection and more than 75 % felt the need to use sanitizers and gloves. , and, indeed, those who are giving babies formula milk, should \"practice respiratory hygiene during feeding,\" says the WHO. These public heth measures decrease the number of close contacts, resulting in higher degrees of separation within the public,  thereby impeding transmission. However the pandemic has effected the three countries in diversely different pattern hinting at the preparedness of the countries to tackle such naturdisasters.</span>"
      ],
      "text/plain": [
       "<IPython.core.display.Markdown object>"
      ]
     },
     "metadata": {},
     "output_type": "display_data"
    }
   ],
   "source": [
    "startConv(encoder, decoder, searcher, yy)"
   ]
  },
  {
   "cell_type": "code",
   "execution_count": null,
   "metadata": {},
   "outputs": [],
   "source": []
  }
 ],
 "metadata": {
  "kernelspec": {
   "display_name": "Python 3",
   "language": "python",
   "name": "python3"
  },
  "language_info": {
   "codemirror_mode": {
    "name": "ipython",
    "version": 3
   },
   "file_extension": ".py",
   "mimetype": "text/x-python",
   "name": "python",
   "nbconvert_exporter": "python",
   "pygments_lexer": "ipython3",
   "version": "3.7.4"
  }
 },
 "nbformat": 4,
 "nbformat_minor": 2
}
