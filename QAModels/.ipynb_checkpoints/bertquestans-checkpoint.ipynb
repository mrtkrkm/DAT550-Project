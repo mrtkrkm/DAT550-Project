{
 "cells": [
  {
   "cell_type": "code",
   "execution_count": 1,
   "metadata": {
    "_cell_guid": "b1076dfc-b9ad-4769-8c92-a6c4dae69d19",
    "_uuid": "8f2839f25d086af736a60e9eeb907d3b93b6e0e5"
   },
   "outputs": [
    {
     "name": "stdout",
     "output_type": "stream",
     "text": [
      "/kaggle/input/articles/AllArticles.csv\n",
      "/kaggle/input/covidd/biorxiv_data.csv\n",
      "/kaggle/input/covidd/comm_use_subset.csv\n",
      "/kaggle/input/bertuncaselargesquad/vocab.txt\n",
      "/kaggle/input/bertuncaselargesquad/config.json\n",
      "/kaggle/input/bertuncaselargesquad/pytorch_model.bin\n"
     ]
    }
   ],
   "source": [
    "import joblib\n",
    "import numpy as np # linear algebra\n",
    "import pandas as pd # data processing, CSV file I/O (e.g. pd.read_csv)\n",
    "\n",
    "\n",
    "import os\n",
    "for dirname, _, filenames in os.walk('/kaggle/input'):\n",
    "    for filename in filenames:\n",
    "        print(os.path.join(dirname, filename))\n",
    "import torch\n",
    "import pandas as pd\n",
    "from transformers import BertTokenizer\n",
    "from transformers import BertForQuestionAnswering\n",
    "\n",
    "# Any results you write to the current directory are saved as output."
   ]
  },
  {
   "cell_type": "code",
   "execution_count": 2,
   "metadata": {},
   "outputs": [
    {
     "name": "stdout",
     "output_type": "stream",
     "text": [
      "['vocab.txt', 'config.json', 'pytorch_model.bin']\n"
     ]
    }
   ],
   "source": [
    "print(os.listdir('/kaggle/input/bertuncaselargesquad'))"
   ]
  },
  {
   "cell_type": "code",
   "execution_count": 36,
   "metadata": {},
   "outputs": [],
   "source": [
    "import torch\n",
    "import pandas as pd\n",
    "import numpy as np\n",
    "from transformers import BartForConditionalGeneration, BartConfig, BartTokenizer\n",
    "\n",
    "class Summary_Model(object):\n",
    "    def __init__(self, summary_model_path, token_path, device):\n",
    "        self.summary_model_path=summary_model_path\n",
    "        self.token_model_path=token_path\n",
    "        self.model=None\n",
    "        self.tokenizer=None\n",
    "        self.device=device\n",
    "        self.create_models()\n",
    "\n",
    "    def create_models(self):\n",
    "        self.model = BartForConditionalGeneration.from_pretrained(self.summary_model_path)\n",
    "        self.tokenizer = BartTokenizer.from_pretrained(self.token_model_path)\n",
    "        self.model = self.model.to(self.device)\n",
    "\n",
    "    def get_summary(self, data, count):\n",
    "        ### Top confident answer to article\n",
    "        total_abstract = ''\n",
    "        for i in range(len(data[:count])):\n",
    "            abss, ans = data.loc[i, ['answer_sent', 'Answer']].values\n",
    "            total_abstract += (abss + \".\")\n",
    "        ARTICLE_TO_SUMMARIZE = total_abstract\n",
    "\n",
    "        ### Token the article, if larger than 1024, then split the article\n",
    "        tokens = self.tokenizer.tokenize(ARTICLE_TO_SUMMARIZE)\n",
    "        max_seq_length = 1024\n",
    "        longer = 0\n",
    "        all_tokens = []\n",
    "        if len(tokens) > 1024:\n",
    "            for i in range(0, len(tokens), max_seq_length):\n",
    "                tokens_a = tokens[i:i + max_seq_length]\n",
    "                one_token = self.tokenizer.batch_encode_plus([tokens_a], max_length=1024, return_tensors='pt')\n",
    "                all_tokens.append(one_token)\n",
    "\n",
    "        Summary_text = []\n",
    "\n",
    "        ## decode the model output as summary text\n",
    "        def decode_text(sum_ids):\n",
    "            text = ''\n",
    "            for g in sum_ids:\n",
    "                text = text + self.tokenizer.decode(g, skip_special_tokens=True, clean_up_tokenization_spaces=False)\n",
    "            return text\n",
    "\n",
    "        ## Summary model\n",
    "        model = self.model.to(self.device)\n",
    "        model.eval()\n",
    "        Summary_text = ''\n",
    "        for inputs in all_tokens:\n",
    "            summary_ids = model.generate(inputs['input_ids'].to(self.device), num_beams=2, max_length=1000,\n",
    "                                         early_stopping=True)\n",
    "            Summary_text = Summary_text + \" \" + decode_text(summary_ids)\n",
    "\n",
    "        if Summary_text == '':\n",
    "            Summary_text = \"Can't find summary of answer\"\n",
    "        \n",
    "        return Summary_text\n",
    "\n"
   ]
  },
  {
   "cell_type": "code",
   "execution_count": 37,
   "metadata": {},
   "outputs": [],
   "source": [
    "import torch\n",
    "import pandas as pd\n",
    "from transformers import BertTokenizer\n",
    "from transformers import BertForQuestionAnswering\n",
    "from tqdm import notebook\n",
    "\n",
    "class QuestionAnswering(object):\n",
    "    def __init__(self, bert_model_path, token_model_path, device):\n",
    "        self.bert_model_path=bert_model_path\n",
    "        self.token_model_path=token_model_path\n",
    "        self.model=None\n",
    "        self.tokenizer=None\n",
    "        self.device=device\n",
    "        self.create_models()\n",
    "        self.sum_model=Summary_Model(summary_model_path=Bart, token_path=Bart, device=device)\n",
    "\n",
    "\n",
    "    def create_models(self):\n",
    "        self.model= BertForQuestionAnswering.from_pretrained(self.bert_model_path)\n",
    "        self.tokenizer=BertTokenizer.from_pretrained(self.token_model_path)\n",
    "        self.model=self.model.to(self.device)\n",
    "        \n",
    "    def get_answer_sentence(self, text, answer):\n",
    "        text=text.lower()\n",
    "        answer=answer.lower()\n",
    "        split_byans = text.split(answer)\n",
    "        if len(split_byans)==1:\n",
    "            return split_byans[0][split_byans[0].rfind(\". \")+1:]+\" \"+answer\n",
    "        else: \n",
    "            return split_byans[0][split_byans[0].rfind(\". \")+1:]+\" \"+answer+split_byans[1][:split_byans[1].find(\". \")+1]\n",
    "\n",
    "    def create_answer_text(self, tokens, start=0, stop=-1):\n",
    "        tokens = tokens[start: stop]\n",
    "        if '[SEP]' in tokens:\n",
    "            sepind = tokens.index('[SEP]')\n",
    "            tokens = tokens[sepind+1:]\n",
    "        txt = ' '.join(tokens)\n",
    "        txt = txt.replace(' ##', '')\n",
    "        txt = txt.replace('##', '')\n",
    "        txt = txt.strip()\n",
    "        txt = \" \".join(txt.split())\n",
    "        txt = txt.replace(' .', '.')\n",
    "        txt = txt.replace('( ', '(')\n",
    "        txt = txt.replace(' )', ')')\n",
    "        txt = txt.replace(' - ', '-')\n",
    "        txt_list = txt.split(' , ')\n",
    "        txt = ''\n",
    "        nTxtL = len(txt_list)\n",
    "        if nTxtL == 1:\n",
    "            return txt_list[0]\n",
    "        newList =[]\n",
    "        for i,t in enumerate(txt_list):\n",
    "            if i < nTxtL -1:\n",
    "                if t[-1].isdigit() and txt_list[i+1][0].isdigit():\n",
    "                    newList += [t,',']\n",
    "                else:\n",
    "                    newList += [t, ', ']\n",
    "            else:\n",
    "                newList += [t]\n",
    "        return ''.join(newList)\n",
    "\n",
    "    def train_model_func(self, question, document):\n",
    "        token_ids = self.tokenizer.encode(question, document)\n",
    "        tokens = self.tokenizer.convert_ids_to_tokens(token_ids)\n",
    "        answers = []\n",
    "        nWords = len(document.split())\n",
    "        cs = []\n",
    "        if len(token_ids) > 512:\n",
    "            #divIndex = len(token_ids) // 2\n",
    "            divIndex =int(np.ceil(nWords/2))\n",
    "            all_sp = document.split()\n",
    "            docs = [' '.join(all_sp[:divIndex]), ' '.join(all_sp[divIndex:])]\n",
    "            token_ids = [self.tokenizer.encode(question, doc) for doc in docs]\n",
    "        else:\n",
    "            token_ids = [token_ids]\n",
    "\n",
    "        for token_idp in token_ids:\n",
    "            tokens = self.tokenizer.convert_ids_to_tokens(token_idp)\n",
    "            sep_index = token_idp.index(self.tokenizer.sep_token_id)\n",
    "            \n",
    "\n",
    "            # Because of CLS\n",
    "            questP = sep_index + 1\n",
    "            secp = len(token_idp) - questP\n",
    "\n",
    "            seq_types = [0] * questP + [1] * secp\n",
    "\n",
    "            if len(seq_types)<512:\n",
    "\n",
    "                start_index, end_index = self.model(torch.tensor([token_idp]).to(self.device),\n",
    "                                                token_type_ids=torch.tensor([seq_types]) \\\n",
    "                                                .to(self.device))\n",
    "            else:\n",
    "                start_index, end_index = self.model(torch.tensor([token_idp[:512]]).to(self.device),\n",
    "                                                    token_type_ids=torch.tensor([seq_types[:512]]) \\\n",
    "                                                    .to(self.device))\n",
    "            start_index = start_index[:,1:-1]\n",
    "            end_index = end_index[:,1:-1]\n",
    "\n",
    "            answer_start = torch.argmax(start_index)\n",
    "            answer_end = torch.argmax(end_index)\n",
    "\n",
    "            answer = self.create_answer_text(tokens, answer_start, answer_end+2)\n",
    "\n",
    "            answers.append(answer)\n",
    "\n",
    "            c = start_index[0, answer_start].item() + end_index[0, answer_end].item()\n",
    "            cs.append(c)\n",
    "\n",
    "        maxC = max(cs)\n",
    "        maxC_ind = cs.index(maxC)\n",
    "        answer = answers[maxC_ind]\n",
    "        return answer, maxC\n",
    "\n",
    "    def train(self, documents, questions):\n",
    "        df_dicts = {}\n",
    "        summaries={}\n",
    "        for question in questions:\n",
    "            ids = []\n",
    "            answers = []\n",
    "            confs = []\n",
    "            abstracts = []\n",
    "            sent_ans=[]\n",
    "            for document, abstract, id in notebook.tqdm(documents):\n",
    "                answer, c = self.train_model_func(question, document)\n",
    "                if answer!='':\n",
    "                    ans_sent=self.get_answer_sentence(document, answer)\n",
    "                    sent_ans.append(ans_sent)\n",
    "                    ids.append(id)\n",
    "                    answers.append(answer)\n",
    "                    confs.append(c)\n",
    "                    abstracts.append(abstract)\n",
    "            \n",
    "            \n",
    "            question_df = pd.DataFrame({'Id': ids, 'abstract': abstracts, 'Answer': answers, 'answer_sent':sent_ans, 'conf': confs})\n",
    "            question_df = question_df.sort_values(by=['conf'], ascending=False).reset_index(drop=True)\n",
    "            summary=self.sum_model.get_summary(question_df, 100)\n",
    "            df_dicts[question] = question_df\n",
    "            summaries[question]=summary\n",
    "            # df_lists.append(question_df)\n",
    "        return df_dicts, summaries"
   ]
  },
  {
   "cell_type": "code",
   "execution_count": 5,
   "metadata": {},
   "outputs": [],
   "source": [
    "Bert_config='/kaggle/input/bertuncaselargesquad'\n",
    "use_cuda=torch.cuda.is_available()\n",
    "device=torch.device('cuda' if use_cuda else 'cpu')\n",
    "token_p='bert-large-uncased-whole-word-masking-finetuned-squad'\n",
    "Bart='bart-large-cnn'\n",
    "#token_path='f{Bert_config}/vocab.txt'"
   ]
  },
  {
   "cell_type": "code",
   "execution_count": 38,
   "metadata": {},
   "outputs": [],
   "source": [
    "question_model=QuestionAnswering(bert_model_path=Bert_config, token_model_path=token_p, device=device)"
   ]
  },
  {
   "cell_type": "code",
   "execution_count": 39,
   "metadata": {},
   "outputs": [],
   "source": [
    "questions=['What is known about transmission,incubation,and environmental stability',\n",
    "    'What do we know about COVID-19 risk factors',\n",
    "    'What do we know about virus genetics, origin, and evolution',\n",
    "    'What do we know about vaccines and therapeutics',\n",
    "    'What has been published about medical care',\n",
    "    'What do we know about non-pharmaceutical interventions',\n",
    "    'What do we know about diagnostics and surveillance',\n",
    "    'What has been published about ethical and social science considerations',\n",
    "    'What has been published about information sharing and inter-sectoral collaboration']\n",
    "# questions=[questions[0]]\n",
    "# questions"
   ]
  },
  {
   "cell_type": "code",
   "execution_count": null,
   "metadata": {},
   "outputs": [],
   "source": [
    "questin_m=['How does temperature and humidity affect the tramsmission',\n",
    "          'What do we know about natural history, transmission, and diagnostics',\n",
    "          'How does smoking affect',\n",
    "          'How does pregnancy affect patients',\n",
    "          'Can animals transmit',\n",
    "          'What animal did 2019-nCoV come from',\n",
    "          'What drugs or therapies are being investigated',\n",
    "          'What antiviral drug clinical trials have been completed',\n",
    "          'How is artificial intelligence being used in real time health delivery',\n",
    "          'What adjunctive or supportive methods can help patients',\n",
    "          'What are most important barriers to compliance',\n",
    "          'What is being done to increase testing capacity or throughput',\n",
    "          'What collaborations are happening within the research community',\n",
    "           'What factors contribute to rumors and misinformation',\n",
    "           'How do pandemics affect the physical and/or psychological health of doctors and nurses']"
   ]
  },
  {
   "cell_type": "code",
   "execution_count": 21,
   "metadata": {},
   "outputs": [],
   "source": [
    "ddir='/kaggle/input/articles/AllArticles.csv'\n",
    "\n",
    "df=joblib.load(ddir)\n",
    "df=df[df['is_covid19']==True]\n",
    "#df=df[:1000]\n",
    "df.shape\n",
    "#texts=df.abstract.values\n",
    "texts=df.body_text.values\n",
    "ids=df.Id.values\n",
    "absts=df.abstract.values\n",
    "\n",
    "del df\n",
    "\n",
    "documents=[(texts[i],absts[i], ids[i]) for i in range(len(texts))]\n",
    "del texts\n",
    "del ids\n",
    "del absts"
   ]
  },
  {
   "cell_type": "code",
   "execution_count": 32,
   "metadata": {},
   "outputs": [
    {
     "data": {
      "text/plain": [
       "10275"
      ]
     },
     "execution_count": 32,
     "metadata": {},
     "output_type": "execute_result"
    }
   ],
   "source": [
    "import gc\n",
    "gc.collect()"
   ]
  },
  {
   "cell_type": "code",
   "execution_count": null,
   "metadata": {},
   "outputs": [],
   "source": [
    "df.head()"
   ]
  },
  {
   "cell_type": "code",
   "execution_count": 40,
   "metadata": {},
   "outputs": [
    {
     "data": {
      "application/vnd.jupyter.widget-view+json": {
       "model_id": "1bf51ab903874f5597b92a33f2994bb5",
       "version_major": 2,
       "version_minor": 0
      },
      "text/plain": [
       "HBox(children=(FloatProgress(value=0.0, max=3547.0), HTML(value='')))"
      ]
     },
     "metadata": {},
     "output_type": "display_data"
    },
    {
     "name": "stdout",
     "output_type": "stream",
     "text": [
      "\n"
     ]
    },
    {
     "data": {
      "application/vnd.jupyter.widget-view+json": {
       "model_id": "253aafce1c9d4d158a16484b6128259e",
       "version_major": 2,
       "version_minor": 0
      },
      "text/plain": [
       "HBox(children=(FloatProgress(value=0.0, max=3547.0), HTML(value='')))"
      ]
     },
     "metadata": {},
     "output_type": "display_data"
    },
    {
     "name": "stdout",
     "output_type": "stream",
     "text": [
      "\n"
     ]
    },
    {
     "data": {
      "application/vnd.jupyter.widget-view+json": {
       "model_id": "e0c15ac1f1924ce09f3d97a99e48df36",
       "version_major": 2,
       "version_minor": 0
      },
      "text/plain": [
       "HBox(children=(FloatProgress(value=0.0, max=3547.0), HTML(value='')))"
      ]
     },
     "metadata": {},
     "output_type": "display_data"
    },
    {
     "name": "stdout",
     "output_type": "stream",
     "text": [
      "\n"
     ]
    },
    {
     "data": {
      "application/vnd.jupyter.widget-view+json": {
       "model_id": "5acdccd2f317406a9dfdb9d16fe23a70",
       "version_major": 2,
       "version_minor": 0
      },
      "text/plain": [
       "HBox(children=(FloatProgress(value=0.0, max=3547.0), HTML(value='')))"
      ]
     },
     "metadata": {},
     "output_type": "display_data"
    },
    {
     "name": "stdout",
     "output_type": "stream",
     "text": [
      "\n"
     ]
    },
    {
     "data": {
      "application/vnd.jupyter.widget-view+json": {
       "model_id": "a0c0e1604f7d48699a514ea9b8e166d6",
       "version_major": 2,
       "version_minor": 0
      },
      "text/plain": [
       "HBox(children=(FloatProgress(value=0.0, max=3547.0), HTML(value='')))"
      ]
     },
     "metadata": {},
     "output_type": "display_data"
    },
    {
     "name": "stdout",
     "output_type": "stream",
     "text": [
      "\n"
     ]
    },
    {
     "data": {
      "application/vnd.jupyter.widget-view+json": {
       "model_id": "59118c34f6b54af3a97eb60ec95b6510",
       "version_major": 2,
       "version_minor": 0
      },
      "text/plain": [
       "HBox(children=(FloatProgress(value=0.0, max=3547.0), HTML(value='')))"
      ]
     },
     "metadata": {},
     "output_type": "display_data"
    },
    {
     "name": "stdout",
     "output_type": "stream",
     "text": [
      "\n"
     ]
    },
    {
     "data": {
      "application/vnd.jupyter.widget-view+json": {
       "model_id": "907cb3b2af76438aab2967f691bcc33c",
       "version_major": 2,
       "version_minor": 0
      },
      "text/plain": [
       "HBox(children=(FloatProgress(value=0.0, max=3547.0), HTML(value='')))"
      ]
     },
     "metadata": {},
     "output_type": "display_data"
    },
    {
     "name": "stdout",
     "output_type": "stream",
     "text": [
      "\n"
     ]
    },
    {
     "data": {
      "application/vnd.jupyter.widget-view+json": {
       "model_id": "034cb0cff43749f7b98d024de3d991dc",
       "version_major": 2,
       "version_minor": 0
      },
      "text/plain": [
       "HBox(children=(FloatProgress(value=0.0, max=3547.0), HTML(value='')))"
      ]
     },
     "metadata": {},
     "output_type": "display_data"
    },
    {
     "name": "stdout",
     "output_type": "stream",
     "text": [
      "\n"
     ]
    },
    {
     "data": {
      "application/vnd.jupyter.widget-view+json": {
       "model_id": "13132d0b52f447068324a32c5bf74e42",
       "version_major": 2,
       "version_minor": 0
      },
      "text/plain": [
       "HBox(children=(FloatProgress(value=0.0, max=3547.0), HTML(value='')))"
      ]
     },
     "metadata": {},
     "output_type": "display_data"
    },
    {
     "name": "stdout",
     "output_type": "stream",
     "text": [
      "\n"
     ]
    }
   ],
   "source": [
    "dicts,sums=question_model.train(documents,questions)"
   ]
  },
  {
   "cell_type": "code",
   "execution_count": 41,
   "metadata": {},
   "outputs": [
    {
     "data": {
      "text/plain": [
       "' The main symptoms were fever, cough, dyspnea, mygia, fatigue, and radiographic evidence of pneumonia. It still remains unclear about the origin, transmission mode and incubation period of the sars-cov-2. The disease is highly transmissible mostly through coughing and sneezing dropls, contaminated surfaces and aerosols. The major source of infection is the patients with covid-19. Covid-19 is thought to be transmitted through dropls, close contact, aerosol and maybe fec-ortransmission,  and patients in the incubation period can transmit the virus to other persons. There are significant knowledge gaps in the epidemiology, transmission dynamics, investigation tools, and management of covid- 19. The 2019 novel coronavirus sars-cov-2 has been dected in the patients in the wuhan city of china. The mode of transmission is person to person via respiratory dropls and contact. The number of patients with covid-19 has rapidly increased, with nearly 80,000 reported cases. Covid-19 is spread by human-to-human transmission through dropl, feco-or, and direct contact and has an incubation period of 2-14 days. respiratory dropls and contact transmission are the main routes of transmission, and people are generly susceptible. The mean incubation time is estimated to be 5.2 days, which lows air travelers to spread the disease globly. The coronavirus disease 2019, which is caby the sars-cov-2 virus, has rapidly spread around the globe. Nearly one million confirmed cases and nearly 50,000 deaths recorded by 2 april 2020. Human-to-human transmission has been confirmed mainly through respiratory dropls and close contact.'"
      ]
     },
     "execution_count": 41,
     "metadata": {},
     "output_type": "execute_result"
    }
   ],
   "source": [
    "sums['What is known about transmission,incubation,and environmental stability']"
   ]
  },
  {
   "cell_type": "code",
   "execution_count": null,
   "metadata": {},
   "outputs": [],
   "source": [
    "len(dicts)"
   ]
  },
  {
   "cell_type": "code",
   "execution_count": 42,
   "metadata": {},
   "outputs": [
    {
     "data": {
      "text/html": [
       "<div>\n",
       "<style scoped>\n",
       "    .dataframe tbody tr th:only-of-type {\n",
       "        vertical-align: middle;\n",
       "    }\n",
       "\n",
       "    .dataframe tbody tr th {\n",
       "        vertical-align: top;\n",
       "    }\n",
       "\n",
       "    .dataframe thead th {\n",
       "        text-align: right;\n",
       "    }\n",
       "</style>\n",
       "<table border=\"1\" class=\"dataframe\">\n",
       "  <thead>\n",
       "    <tr style=\"text-align: right;\">\n",
       "      <th></th>\n",
       "      <th>Id</th>\n",
       "      <th>abstract</th>\n",
       "      <th>Answer</th>\n",
       "      <th>answer_sent</th>\n",
       "      <th>conf</th>\n",
       "    </tr>\n",
       "  </thead>\n",
       "  <tbody>\n",
       "    <tr>\n",
       "      <th>0</th>\n",
       "      <td>ed6e34937c0ad11574f619e32adab283699082c9</td>\n",
       "      <td>Background: The outbreak of a novel coronaviru...</td>\n",
       "      <td>. human-to-human transmission of ncip has been...</td>\n",
       "      <td>the main symptoms were fever, cough, dyspnea,...</td>\n",
       "      <td>10.030523</td>\n",
       "    </tr>\n",
       "    <tr>\n",
       "      <th>1</th>\n",
       "      <td>a7d8b659f420dbf2fbe53fd75258ee42e58f24ea</td>\n",
       "      <td>A cluster of pneumonia associated with the SAR...</td>\n",
       "      <td>, it still remains unclear about the origin, t...</td>\n",
       "      <td>furthermore , it still remains unclear about ...</td>\n",
       "      <td>9.898027</td>\n",
       "    </tr>\n",
       "    <tr>\n",
       "      <th>2</th>\n",
       "      <td>4cd306cff8ce22bd079af8ad5750aae567d78126</td>\n",
       "      <td>JournPre-proof J o u r n a l P r e -p r o o f ...</td>\n",
       "      <td>the transmission dynamics is not fully understood</td>\n",
       "      <td>the transmission dynamics is not fully under...</td>\n",
       "      <td>9.214188</td>\n",
       "    </tr>\n",
       "    <tr>\n",
       "      <th>3</th>\n",
       "      <td>4c58456723e46f7551d3e1ee8e9a1cc1eadf8d7c</td>\n",
       "      <td></td>\n",
       "      <td>but serious questions regarding the causes or ...</td>\n",
       "      <td>there have been more than 50 research papers ...</td>\n",
       "      <td>9.097869</td>\n",
       "    </tr>\n",
       "    <tr>\n",
       "      <th>4</th>\n",
       "      <td>dac1b1607ae72b9509ab26367e0d55016e8132a8</td>\n",
       "      <td>Objective] Anyze the occurrence of novel coron...</td>\n",
       "      <td>. there is clear the route of transmission of ...</td>\n",
       "      <td>. there is clear the route of transmission o...</td>\n",
       "      <td>8.856227</td>\n",
       "    </tr>\n",
       "    <tr>\n",
       "      <th>5</th>\n",
       "      <td>2d99df39f474b652e4c61e1d3e166f43020c3524</td>\n",
       "      <td>Objective: To survey fertility patients' agree...</td>\n",
       "      <td>, little is known on the impact of covid-19 on...</td>\n",
       "      <td>at this time , little is known on the impact ...</td>\n",
       "      <td>8.735323</td>\n",
       "    </tr>\n",
       "    <tr>\n",
       "      <th>6</th>\n",
       "      <td>4c3cf192b70369b7e40dab26f1ff79da2e431b02</td>\n",
       "      <td></td>\n",
       "      <td>. airborne transmission remains unclear</td>\n",
       "      <td>this disease is highly transmissible mostly t...</td>\n",
       "      <td>8.607716</td>\n",
       "    </tr>\n",
       "    <tr>\n",
       "      <th>7</th>\n",
       "      <td>a9ff060e7763044e4047398f76b6a3cca8b3fbf0</td>\n",
       "      <td> The age and underlying diseases were the mos...</td>\n",
       "      <td>the person-to-person transmission in hospitand...</td>\n",
       "      <td>it is reported that  the person-to-person tra...</td>\n",
       "      <td>8.580153</td>\n",
       "    </tr>\n",
       "    <tr>\n",
       "      <th>8</th>\n",
       "      <td>3c94f582610453b6c1389c3a5d6ad57bcf0ba033</td>\n",
       "      <td>confirmed and 1368 patients have died from the...</td>\n",
       "      <td>the person-to-person transmission in hospitand...</td>\n",
       "      <td>it is reported that  the person-to-person tra...</td>\n",
       "      <td>8.315717</td>\n",
       "    </tr>\n",
       "    <tr>\n",
       "      <th>9</th>\n",
       "      <td>9b3c8ae64057fb199a1770ca46929ce031c34b56</td>\n",
       "      <td></td>\n",
       "      <td>and transmission seems to occur mainly through...</td>\n",
       "      <td>although sufficient information is not yavail...</td>\n",
       "      <td>8.225224</td>\n",
       "    </tr>\n",
       "  </tbody>\n",
       "</table>\n",
       "</div>"
      ],
      "text/plain": [
       "                                         Id  \\\n",
       "0  ed6e34937c0ad11574f619e32adab283699082c9   \n",
       "1  a7d8b659f420dbf2fbe53fd75258ee42e58f24ea   \n",
       "2  4cd306cff8ce22bd079af8ad5750aae567d78126   \n",
       "3  4c58456723e46f7551d3e1ee8e9a1cc1eadf8d7c   \n",
       "4  dac1b1607ae72b9509ab26367e0d55016e8132a8   \n",
       "5  2d99df39f474b652e4c61e1d3e166f43020c3524   \n",
       "6  4c3cf192b70369b7e40dab26f1ff79da2e431b02   \n",
       "7  a9ff060e7763044e4047398f76b6a3cca8b3fbf0   \n",
       "8  3c94f582610453b6c1389c3a5d6ad57bcf0ba033   \n",
       "9  9b3c8ae64057fb199a1770ca46929ce031c34b56   \n",
       "\n",
       "                                            abstract  \\\n",
       "0  Background: The outbreak of a novel coronaviru...   \n",
       "1  A cluster of pneumonia associated with the SAR...   \n",
       "2  JournPre-proof J o u r n a l P r e -p r o o f ...   \n",
       "3                                                      \n",
       "4  Objective] Anyze the occurrence of novel coron...   \n",
       "5  Objective: To survey fertility patients' agree...   \n",
       "6                                                      \n",
       "7   The age and underlying diseases were the mos...   \n",
       "8  confirmed and 1368 patients have died from the...   \n",
       "9                                                      \n",
       "\n",
       "                                              Answer  \\\n",
       "0  . human-to-human transmission of ncip has been...   \n",
       "1  , it still remains unclear about the origin, t...   \n",
       "2  the transmission dynamics is not fully understood   \n",
       "3  but serious questions regarding the causes or ...   \n",
       "4  . there is clear the route of transmission of ...   \n",
       "5  , little is known on the impact of covid-19 on...   \n",
       "6            . airborne transmission remains unclear   \n",
       "7  the person-to-person transmission in hospitand...   \n",
       "8  the person-to-person transmission in hospitand...   \n",
       "9  and transmission seems to occur mainly through...   \n",
       "\n",
       "                                         answer_sent       conf  \n",
       "0   the main symptoms were fever, cough, dyspnea,...  10.030523  \n",
       "1   furthermore , it still remains unclear about ...   9.898027  \n",
       "2    the transmission dynamics is not fully under...   9.214188  \n",
       "3   there have been more than 50 research papers ...   9.097869  \n",
       "4    . there is clear the route of transmission o...   8.856227  \n",
       "5   at this time , little is known on the impact ...   8.735323  \n",
       "6   this disease is highly transmissible mostly t...   8.607716  \n",
       "7   it is reported that  the person-to-person tra...   8.580153  \n",
       "8   it is reported that  the person-to-person tra...   8.315717  \n",
       "9   although sufficient information is not yavail...   8.225224  "
      ]
     },
     "execution_count": 42,
     "metadata": {},
     "output_type": "execute_result"
    }
   ],
   "source": [
    "dicts['What is known about transmission,incubation,and environmental stability'].head(10)"
   ]
  },
  {
   "cell_type": "code",
   "execution_count": 43,
   "metadata": {},
   "outputs": [
    {
     "data": {
      "text/plain": [
       "['/kaggle/working/Newdictionaries']"
      ]
     },
     "execution_count": 43,
     "metadata": {},
     "output_type": "execute_result"
    }
   ],
   "source": [
    "joblib.dump(dicts, '/kaggle/working/Newdictionaries')"
   ]
  },
  {
   "cell_type": "code",
   "execution_count": 44,
   "metadata": {},
   "outputs": [
    {
     "data": {
      "text/plain": [
       "['/kaggle/working/Newsummaries']"
      ]
     },
     "execution_count": 44,
     "metadata": {},
     "output_type": "execute_result"
    }
   ],
   "source": [
    "joblib.dump(sums, '/kaggle/working/Newsummaries')"
   ]
  },
  {
   "cell_type": "code",
   "execution_count": null,
   "metadata": {},
   "outputs": [],
   "source": [
    "ndicts,nsums=question_model.train(documents,questin_m)"
   ]
  },
  {
   "cell_type": "code",
   "execution_count": null,
   "metadata": {},
   "outputs": [],
   "source": [
    "pd.set_option('display.max_colwidth',100)"
   ]
  },
  {
   "cell_type": "code",
   "execution_count": null,
   "metadata": {},
   "outputs": [],
   "source": [
    "dicts['What is known about transmissio,incubation,and environmental stability?'].head(10)"
   ]
  },
  {
   "cell_type": "code",
   "execution_count": null,
   "metadata": {},
   "outputs": [],
   "source": [
    "doc=[t for t,a,i in documents if i=='cb3974f33a1d54369d630e62052d603148bb12e7']"
   ]
  },
  {
   "cell_type": "code",
   "execution_count": null,
   "metadata": {},
   "outputs": [],
   "source": [
    "doc[0]"
   ]
  },
  {
   "cell_type": "code",
   "execution_count": null,
   "metadata": {},
   "outputs": [],
   "source": []
  }
 ],
 "metadata": {
  "kernelspec": {
   "display_name": "Python 3",
   "language": "python",
   "name": "python3"
  },
  "language_info": {
   "codemirror_mode": {
    "name": "ipython",
    "version": 3
   },
   "file_extension": ".py",
   "mimetype": "text/x-python",
   "name": "python",
   "nbconvert_exporter": "python",
   "pygments_lexer": "ipython3",
   "version": "3.7.4"
  }
 },
 "nbformat": 4,
 "nbformat_minor": 4
}
